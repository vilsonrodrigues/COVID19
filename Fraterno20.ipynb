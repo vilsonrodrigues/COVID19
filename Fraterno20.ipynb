{
  "nbformat": 4,
  "nbformat_minor": 0,
  "metadata": {
    "colab": {
      "name": "Fraterno20.ipynb",
      "provenance": [],
      "authorship_tag": "ABX9TyNzHTDyK9y0zYUZo1EV6s06",
      "include_colab_link": true
    },
    "kernelspec": {
      "name": "python3",
      "display_name": "Python 3"
    }
  },
  "cells": [
    {
      "cell_type": "markdown",
      "metadata": {
        "id": "view-in-github",
        "colab_type": "text"
      },
      "source": [
        "<a href=\"https://colab.research.google.com/github/vilsonrodrigues/COVID19/blob/master/Fraterno20.ipynb\" target=\"_parent\"><img src=\"https://colab.research.google.com/assets/colab-badge.svg\" alt=\"Open In Colab\"/></a>"
      ]
    },
    {
      "cell_type": "markdown",
      "metadata": {
        "id": "aRWm2IXIbehA",
        "colab_type": "text"
      },
      "source": [
        "Libs"
      ]
    },
    {
      "cell_type": "code",
      "metadata": {
        "id": "OLRBC7VFNLY0",
        "colab_type": "code",
        "colab": {}
      },
      "source": [
        "import urllib3\n",
        "import pandas as pd\n",
        "import numpy as np\n",
        "from bs4 import BeautifulSoup\n",
        "import matplotlib.pyplot as plt"
      ],
      "execution_count": 0,
      "outputs": []
    },
    {
      "cell_type": "markdown",
      "metadata": {
        "id": "TtG78weLcVkF",
        "colab_type": "text"
      },
      "source": [
        "Base de dados do Brasil IO, informando dados por município"
      ]
    },
    {
      "cell_type": "code",
      "metadata": {
        "id": "zdswJrxncUFw",
        "colab_type": "code",
        "colab": {
          "base_uri": "https://localhost:8080/",
          "height": 107
        },
        "outputId": "7176668a-791a-47a3-8e61-ef3cc904a16d"
      },
      "source": [
        "data_brasil = pd.read_csv('https://data.brasil.io/dataset/covid19/caso.csv.gz', compression='gzip', header=0, quotechar='\"', error_bad_lines=False)\n",
        "data_brasil.rename(columns={\"city_ibge_code\":\"codigo_ibge\"},inplace = True)\n",
        "data_brasil.head(2)"
      ],
      "execution_count": 74,
      "outputs": [
        {
          "output_type": "execute_result",
          "data": {
            "text/html": [
              "<div>\n",
              "<style scoped>\n",
              "    .dataframe tbody tr th:only-of-type {\n",
              "        vertical-align: middle;\n",
              "    }\n",
              "\n",
              "    .dataframe tbody tr th {\n",
              "        vertical-align: top;\n",
              "    }\n",
              "\n",
              "    .dataframe thead th {\n",
              "        text-align: right;\n",
              "    }\n",
              "</style>\n",
              "<table border=\"1\" class=\"dataframe\">\n",
              "  <thead>\n",
              "    <tr style=\"text-align: right;\">\n",
              "      <th></th>\n",
              "      <th>date</th>\n",
              "      <th>state</th>\n",
              "      <th>city</th>\n",
              "      <th>place_type</th>\n",
              "      <th>confirmed</th>\n",
              "      <th>deaths</th>\n",
              "      <th>order_for_place</th>\n",
              "      <th>is_last</th>\n",
              "      <th>estimated_population_2019</th>\n",
              "      <th>codigo_ibge</th>\n",
              "      <th>confirmed_per_100k_inhabitants</th>\n",
              "      <th>death_rate</th>\n",
              "    </tr>\n",
              "  </thead>\n",
              "  <tbody>\n",
              "    <tr>\n",
              "      <th>0</th>\n",
              "      <td>2020-03-27</td>\n",
              "      <td>RR</td>\n",
              "      <td>NaN</td>\n",
              "      <td>state</td>\n",
              "      <td>12</td>\n",
              "      <td>0.0</td>\n",
              "      <td>7</td>\n",
              "      <td>True</td>\n",
              "      <td>605761.0</td>\n",
              "      <td>14.0</td>\n",
              "      <td>1.98098</td>\n",
              "      <td>NaN</td>\n",
              "    </tr>\n",
              "    <tr>\n",
              "      <th>1</th>\n",
              "      <td>2020-03-26</td>\n",
              "      <td>RR</td>\n",
              "      <td>NaN</td>\n",
              "      <td>state</td>\n",
              "      <td>10</td>\n",
              "      <td>0.0</td>\n",
              "      <td>6</td>\n",
              "      <td>False</td>\n",
              "      <td>605761.0</td>\n",
              "      <td>14.0</td>\n",
              "      <td>1.65082</td>\n",
              "      <td>NaN</td>\n",
              "    </tr>\n",
              "  </tbody>\n",
              "</table>\n",
              "</div>"
            ],
            "text/plain": [
              "         date state  ... confirmed_per_100k_inhabitants death_rate\n",
              "0  2020-03-27    RR  ...                        1.98098        NaN\n",
              "1  2020-03-26    RR  ...                        1.65082        NaN\n",
              "\n",
              "[2 rows x 12 columns]"
            ]
          },
          "metadata": {
            "tags": []
          },
          "execution_count": 74
        }
      ]
    },
    {
      "cell_type": "markdown",
      "metadata": {
        "id": "5H2OJa08iOmU",
        "colab_type": "text"
      },
      "source": [
        "CSV com dados de longitude e latitude dos municípios brasileiros"
      ]
    },
    {
      "cell_type": "code",
      "metadata": {
        "id": "K_2MiesadXF0",
        "colab_type": "code",
        "colab": {
          "base_uri": "https://localhost:8080/",
          "height": 107
        },
        "outputId": "853eb401-0249-44f2-e719-a31c1e57c485"
      },
      "source": [
        "city_lat_long =  pd.read_csv(\"https://raw.githubusercontent.com/kelvins/Municipios-Brasileiros/master/csv/municipios.csv\")\n",
        "city_lat_long.drop(columns = [\"capital\"], inplace = True)\n",
        "city_lat_long.rename(columns = {\"nome\":\"city\"},inplace = True)\n",
        "city_lat_long.head(2)"
      ],
      "execution_count": 75,
      "outputs": [
        {
          "output_type": "execute_result",
          "data": {
            "text/html": [
              "<div>\n",
              "<style scoped>\n",
              "    .dataframe tbody tr th:only-of-type {\n",
              "        vertical-align: middle;\n",
              "    }\n",
              "\n",
              "    .dataframe tbody tr th {\n",
              "        vertical-align: top;\n",
              "    }\n",
              "\n",
              "    .dataframe thead th {\n",
              "        text-align: right;\n",
              "    }\n",
              "</style>\n",
              "<table border=\"1\" class=\"dataframe\">\n",
              "  <thead>\n",
              "    <tr style=\"text-align: right;\">\n",
              "      <th></th>\n",
              "      <th>codigo_ibge</th>\n",
              "      <th>city</th>\n",
              "      <th>latitude</th>\n",
              "      <th>longitude</th>\n",
              "      <th>codigo_uf</th>\n",
              "    </tr>\n",
              "  </thead>\n",
              "  <tbody>\n",
              "    <tr>\n",
              "      <th>0</th>\n",
              "      <td>5200050</td>\n",
              "      <td>Abadia de Goiás</td>\n",
              "      <td>-16.7573</td>\n",
              "      <td>-49.4412</td>\n",
              "      <td>52</td>\n",
              "    </tr>\n",
              "    <tr>\n",
              "      <th>1</th>\n",
              "      <td>3100104</td>\n",
              "      <td>Abadia dos Dourados</td>\n",
              "      <td>-18.4831</td>\n",
              "      <td>-47.3916</td>\n",
              "      <td>31</td>\n",
              "    </tr>\n",
              "  </tbody>\n",
              "</table>\n",
              "</div>"
            ],
            "text/plain": [
              "   codigo_ibge                 city  latitude  longitude  codigo_uf\n",
              "0      5200050      Abadia de Goiás  -16.7573   -49.4412         52\n",
              "1      3100104  Abadia dos Dourados  -18.4831   -47.3916         31"
            ]
          },
          "metadata": {
            "tags": []
          },
          "execution_count": 75
        }
      ]
    }
  ]
}