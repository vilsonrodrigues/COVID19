{
  "nbformat": 4,
  "nbformat_minor": 0,
  "metadata": {
    "colab": {
      "name": "Fraterno20.ipynb",
      "provenance": [],
      "authorship_tag": "ABX9TyP8R4r40jBO2oFdE4u7hdCm",
      "include_colab_link": true
    },
    "kernelspec": {
      "name": "python3",
      "display_name": "Python 3"
    }
  },
  "cells": [
    {
      "cell_type": "markdown",
      "metadata": {
        "id": "view-in-github",
        "colab_type": "text"
      },
      "source": [
        "<a href=\"https://colab.research.google.com/github/vilsonrodrigues/COVID19/blob/master/Fraterno20.ipynb\" target=\"_parent\"><img src=\"https://colab.research.google.com/assets/colab-badge.svg\" alt=\"Open In Colab\"/></a>"
      ]
    },
    {
      "cell_type": "markdown",
      "metadata": {
        "id": "aRWm2IXIbehA",
        "colab_type": "text"
      },
      "source": [
        "Libs"
      ]
    },
    {
      "cell_type": "code",
      "metadata": {
        "id": "OLRBC7VFNLY0",
        "colab_type": "code",
        "colab": {}
      },
      "source": [
        "import pandas as pd\n",
        "import numpy as np\n",
        "import matplotlib.pyplot as plt"
      ],
      "execution_count": 0,
      "outputs": []
    },
    {
      "cell_type": "markdown",
      "metadata": {
        "id": "0PKWdiessxEK",
        "colab_type": "text"
      },
      "source": [
        "###Leitura de Base de Dados"
      ]
    },
    {
      "cell_type": "markdown",
      "metadata": {
        "id": "XSCx3H6rub9f",
        "colab_type": "text"
      },
      "source": [
        "CSV de leitos de internação por Municípios, obtivo no DataSUS"
      ]
    },
    {
      "cell_type": "code",
      "metadata": {
        "id": "LGuB0YhCuXrp",
        "colab_type": "code",
        "colab": {
          "base_uri": "https://localhost:8080/",
          "height": 107
        },
        "outputId": "c2f80ac9-e1e2-462e-e7e7-003eac072f00"
      },
      "source": [
        "leitos_internacao = pd.read_csv(\"https://raw.githubusercontent.com/vilsonrodrigues/COVID19/master/leitos_por_cidade.csv\", sep = \";\", encoding = \"iso-8859-1\")\n",
        "leitos_internacao.rename(columns = {\"municipio\":\"city\"}, inplace = True)\n",
        "leitos_internacao.head(2)"
      ],
      "execution_count": 2,
      "outputs": [
        {
          "output_type": "execute_result",
          "data": {
            "text/html": [
              "<div>\n",
              "<style scoped>\n",
              "    .dataframe tbody tr th:only-of-type {\n",
              "        vertical-align: middle;\n",
              "    }\n",
              "\n",
              "    .dataframe tbody tr th {\n",
              "        vertical-align: top;\n",
              "    }\n",
              "\n",
              "    .dataframe thead th {\n",
              "        text-align: right;\n",
              "    }\n",
              "</style>\n",
              "<table border=\"1\" class=\"dataframe\">\n",
              "  <thead>\n",
              "    <tr style=\"text-align: right;\">\n",
              "      <th></th>\n",
              "      <th>city</th>\n",
              "      <th>quantidade</th>\n",
              "    </tr>\n",
              "  </thead>\n",
              "  <tbody>\n",
              "    <tr>\n",
              "      <th>0</th>\n",
              "      <td>110001 Alta Floresta D'Oeste</td>\n",
              "      <td>49</td>\n",
              "    </tr>\n",
              "    <tr>\n",
              "      <th>1</th>\n",
              "      <td>110037 Alto Alegre dos Parecis</td>\n",
              "      <td>16</td>\n",
              "    </tr>\n",
              "  </tbody>\n",
              "</table>\n",
              "</div>"
            ],
            "text/plain": [
              "                             city quantidade\n",
              "0    110001 Alta Floresta D'Oeste         49\n",
              "1  110037 Alto Alegre dos Parecis         16"
            ]
          },
          "metadata": {
            "tags": []
          },
          "execution_count": 2
        }
      ]
    },
    {
      "cell_type": "markdown",
      "metadata": {
        "id": "TtG78weLcVkF",
        "colab_type": "text"
      },
      "source": [
        "Base de dados do Brasil IO, informando dados por município"
      ]
    },
    {
      "cell_type": "code",
      "metadata": {
        "id": "zdswJrxncUFw",
        "colab_type": "code",
        "outputId": "f1e282b4-45fe-4a50-bfc0-455d1e428401",
        "colab": {
          "base_uri": "https://localhost:8080/",
          "height": 107
        }
      },
      "source": [
        "data_brasil = pd.read_csv('https://data.brasil.io/dataset/covid19/caso.csv.gz', compression='gzip', header=0, quotechar='\"', error_bad_lines=False)\n",
        "data_brasil.rename(columns={\"city_ibge_code\":\"codigo_ibge\",\"state\":\"sigla_state\"},inplace = True)\n",
        "data_brasil.head(2)"
      ],
      "execution_count": 3,
      "outputs": [
        {
          "output_type": "execute_result",
          "data": {
            "text/html": [
              "<div>\n",
              "<style scoped>\n",
              "    .dataframe tbody tr th:only-of-type {\n",
              "        vertical-align: middle;\n",
              "    }\n",
              "\n",
              "    .dataframe tbody tr th {\n",
              "        vertical-align: top;\n",
              "    }\n",
              "\n",
              "    .dataframe thead th {\n",
              "        text-align: right;\n",
              "    }\n",
              "</style>\n",
              "<table border=\"1\" class=\"dataframe\">\n",
              "  <thead>\n",
              "    <tr style=\"text-align: right;\">\n",
              "      <th></th>\n",
              "      <th>date</th>\n",
              "      <th>sigla_state</th>\n",
              "      <th>city</th>\n",
              "      <th>place_type</th>\n",
              "      <th>confirmed</th>\n",
              "      <th>deaths</th>\n",
              "      <th>order_for_place</th>\n",
              "      <th>is_last</th>\n",
              "      <th>estimated_population_2019</th>\n",
              "      <th>codigo_ibge</th>\n",
              "      <th>confirmed_per_100k_inhabitants</th>\n",
              "      <th>death_rate</th>\n",
              "    </tr>\n",
              "  </thead>\n",
              "  <tbody>\n",
              "    <tr>\n",
              "      <th>0</th>\n",
              "      <td>2020-03-28</td>\n",
              "      <td>RS</td>\n",
              "      <td>NaN</td>\n",
              "      <td>state</td>\n",
              "      <td>200</td>\n",
              "      <td>2.0</td>\n",
              "      <td>16</td>\n",
              "      <td>True</td>\n",
              "      <td>11377239.0</td>\n",
              "      <td>43.0</td>\n",
              "      <td>1.75790</td>\n",
              "      <td>0.0100</td>\n",
              "    </tr>\n",
              "    <tr>\n",
              "      <th>1</th>\n",
              "      <td>2020-03-27</td>\n",
              "      <td>RS</td>\n",
              "      <td>NaN</td>\n",
              "      <td>state</td>\n",
              "      <td>197</td>\n",
              "      <td>2.0</td>\n",
              "      <td>15</td>\n",
              "      <td>False</td>\n",
              "      <td>11377239.0</td>\n",
              "      <td>43.0</td>\n",
              "      <td>1.73153</td>\n",
              "      <td>0.0102</td>\n",
              "    </tr>\n",
              "  </tbody>\n",
              "</table>\n",
              "</div>"
            ],
            "text/plain": [
              "         date sigla_state  ... confirmed_per_100k_inhabitants death_rate\n",
              "0  2020-03-28          RS  ...                        1.75790     0.0100\n",
              "1  2020-03-27          RS  ...                        1.73153     0.0102\n",
              "\n",
              "[2 rows x 12 columns]"
            ]
          },
          "metadata": {
            "tags": []
          },
          "execution_count": 3
        }
      ]
    },
    {
      "cell_type": "code",
      "metadata": {
        "id": "PJFrksyL_dYg",
        "colab_type": "code",
        "colab": {
          "base_uri": "https://localhost:8080/",
          "height": 318
        },
        "outputId": "fa79c18f-d09e-4919-8fe5-8c2c5cdb20ee"
      },
      "source": [
        "data_brasil.info()"
      ],
      "execution_count": 4,
      "outputs": [
        {
          "output_type": "stream",
          "text": [
            "<class 'pandas.core.frame.DataFrame'>\n",
            "RangeIndex: 2446 entries, 0 to 2445\n",
            "Data columns (total 12 columns):\n",
            "date                              2446 non-null object\n",
            "sigla_state                       2446 non-null object\n",
            "city                              2056 non-null object\n",
            "place_type                        2446 non-null object\n",
            "confirmed                         2446 non-null int64\n",
            "deaths                            2109 non-null float64\n",
            "order_for_place                   2446 non-null int64\n",
            "is_last                           2446 non-null bool\n",
            "estimated_population_2019         2367 non-null float64\n",
            "codigo_ibge                       2367 non-null float64\n",
            "confirmed_per_100k_inhabitants    2339 non-null float64\n",
            "death_rate                        133 non-null float64\n",
            "dtypes: bool(1), float64(5), int64(2), object(4)\n",
            "memory usage: 212.7+ KB\n"
          ],
          "name": "stdout"
        }
      ]
    },
    {
      "cell_type": "markdown",
      "metadata": {
        "id": "5H2OJa08iOmU",
        "colab_type": "text"
      },
      "source": [
        "CSV com dados de longitude e latitude dos municípios brasileiros"
      ]
    },
    {
      "cell_type": "code",
      "metadata": {
        "id": "K_2MiesadXF0",
        "colab_type": "code",
        "outputId": "2b67eef5-9896-4a1c-f7b1-a5fc64bb7a48",
        "colab": {
          "base_uri": "https://localhost:8080/",
          "height": 107
        }
      },
      "source": [
        "city_lat_long =  pd.read_csv(\"https://raw.githubusercontent.com/kelvins/Municipios-Brasileiros/master/csv/municipios.csv\")\n",
        "city_lat_long.drop(columns = [\"capital\"], inplace = True)\n",
        "city_lat_long.rename(columns = {\"nome\":\"city\"},inplace = True)\n",
        "city_lat_long.head(2)"
      ],
      "execution_count": 5,
      "outputs": [
        {
          "output_type": "execute_result",
          "data": {
            "text/html": [
              "<div>\n",
              "<style scoped>\n",
              "    .dataframe tbody tr th:only-of-type {\n",
              "        vertical-align: middle;\n",
              "    }\n",
              "\n",
              "    .dataframe tbody tr th {\n",
              "        vertical-align: top;\n",
              "    }\n",
              "\n",
              "    .dataframe thead th {\n",
              "        text-align: right;\n",
              "    }\n",
              "</style>\n",
              "<table border=\"1\" class=\"dataframe\">\n",
              "  <thead>\n",
              "    <tr style=\"text-align: right;\">\n",
              "      <th></th>\n",
              "      <th>codigo_ibge</th>\n",
              "      <th>city</th>\n",
              "      <th>latitude</th>\n",
              "      <th>longitude</th>\n",
              "      <th>codigo_uf</th>\n",
              "    </tr>\n",
              "  </thead>\n",
              "  <tbody>\n",
              "    <tr>\n",
              "      <th>0</th>\n",
              "      <td>5200050</td>\n",
              "      <td>Abadia de Goiás</td>\n",
              "      <td>-16.7573</td>\n",
              "      <td>-49.4412</td>\n",
              "      <td>52</td>\n",
              "    </tr>\n",
              "    <tr>\n",
              "      <th>1</th>\n",
              "      <td>3100104</td>\n",
              "      <td>Abadia dos Dourados</td>\n",
              "      <td>-18.4831</td>\n",
              "      <td>-47.3916</td>\n",
              "      <td>31</td>\n",
              "    </tr>\n",
              "  </tbody>\n",
              "</table>\n",
              "</div>"
            ],
            "text/plain": [
              "   codigo_ibge                 city  latitude  longitude  codigo_uf\n",
              "0      5200050      Abadia de Goiás  -16.7573   -49.4412         52\n",
              "1      3100104  Abadia dos Dourados  -18.4831   -47.3916         31"
            ]
          },
          "metadata": {
            "tags": []
          },
          "execution_count": 5
        }
      ]
    },
    {
      "cell_type": "markdown",
      "metadata": {
        "id": "lxLURH_1uxrD",
        "colab_type": "text"
      },
      "source": [
        "Base do IBGE, contendo código do município, nome do estado, do município, e o código do estado"
      ]
    },
    {
      "cell_type": "code",
      "metadata": {
        "id": "b116bhAUt8Sz",
        "colab_type": "code",
        "colab": {
          "base_uri": "https://localhost:8080/",
          "height": 107
        },
        "outputId": "07b1bae0-831e-492a-f704-d4148a51bdbc"
      },
      "source": [
        "data_ibge = pd.read_excel(\"https://github.com/vilsonrodrigues/COVID19/blob/master/RELATORIO_DTB_BRASIL_MUNICIPIO.xls?raw=true\")\n",
        "data_ibge.drop(columns = [\"Mesorregião Geográfica\",\"Nome_Mesorregião\",\"Microrregião Geográfica\",\"Nome_Microrregião\",\"Município\"], inplace = True)\n",
        "data_ibge.rename(columns = {\"Nome_Município\":\"city\",\"Nome_UF\":\"state\",\"UF\":\"codigo_uf\",\"Código Município Completo\":\"codigo_ibge\"},inplace = True)\n",
        "data_ibge.head(2)"
      ],
      "execution_count": 6,
      "outputs": [
        {
          "output_type": "execute_result",
          "data": {
            "text/html": [
              "<div>\n",
              "<style scoped>\n",
              "    .dataframe tbody tr th:only-of-type {\n",
              "        vertical-align: middle;\n",
              "    }\n",
              "\n",
              "    .dataframe tbody tr th {\n",
              "        vertical-align: top;\n",
              "    }\n",
              "\n",
              "    .dataframe thead th {\n",
              "        text-align: right;\n",
              "    }\n",
              "</style>\n",
              "<table border=\"1\" class=\"dataframe\">\n",
              "  <thead>\n",
              "    <tr style=\"text-align: right;\">\n",
              "      <th></th>\n",
              "      <th>codigo_uf</th>\n",
              "      <th>state</th>\n",
              "      <th>codigo_ibge</th>\n",
              "      <th>city</th>\n",
              "    </tr>\n",
              "  </thead>\n",
              "  <tbody>\n",
              "    <tr>\n",
              "      <th>0</th>\n",
              "      <td>11</td>\n",
              "      <td>Rondônia</td>\n",
              "      <td>1100015</td>\n",
              "      <td>Alta Floresta D'Oeste</td>\n",
              "    </tr>\n",
              "    <tr>\n",
              "      <th>1</th>\n",
              "      <td>11</td>\n",
              "      <td>Rondônia</td>\n",
              "      <td>1100379</td>\n",
              "      <td>Alto Alegre dos Parecis</td>\n",
              "    </tr>\n",
              "  </tbody>\n",
              "</table>\n",
              "</div>"
            ],
            "text/plain": [
              "   codigo_uf     state  codigo_ibge                     city\n",
              "0         11  Rondônia      1100015    Alta Floresta D'Oeste\n",
              "1         11  Rondônia      1100379  Alto Alegre dos Parecis"
            ]
          },
          "metadata": {
            "tags": []
          },
          "execution_count": 6
        }
      ]
    },
    {
      "cell_type": "markdown",
      "metadata": {
        "id": "-jev1ZU9y6of",
        "colab_type": "text"
      },
      "source": [
        "###Manipulação das bases"
      ]
    },
    {
      "cell_type": "markdown",
      "metadata": {
        "id": "qDLrGSacxfNP",
        "colab_type": "text"
      },
      "source": [
        "Juntando a tabela da localização geográfica com a dos dados do ibge"
      ]
    },
    {
      "cell_type": "code",
      "metadata": {
        "id": "9rSeYCbiynVI",
        "colab_type": "code",
        "colab": {
          "base_uri": "https://localhost:8080/",
          "height": 107
        },
        "outputId": "d4f4e1da-3993-4c29-942a-df766db05591"
      },
      "source": [
        "city_lat_long = city_lat_long.merge(data_ibge, on = [\"city\",\"codigo_ibge\",\"codigo_uf\"],sort = \"city\")\n",
        "city_lat_long.head(2)"
      ],
      "execution_count": 7,
      "outputs": [
        {
          "output_type": "execute_result",
          "data": {
            "text/html": [
              "<div>\n",
              "<style scoped>\n",
              "    .dataframe tbody tr th:only-of-type {\n",
              "        vertical-align: middle;\n",
              "    }\n",
              "\n",
              "    .dataframe tbody tr th {\n",
              "        vertical-align: top;\n",
              "    }\n",
              "\n",
              "    .dataframe thead th {\n",
              "        text-align: right;\n",
              "    }\n",
              "</style>\n",
              "<table border=\"1\" class=\"dataframe\">\n",
              "  <thead>\n",
              "    <tr style=\"text-align: right;\">\n",
              "      <th></th>\n",
              "      <th>codigo_ibge</th>\n",
              "      <th>city</th>\n",
              "      <th>latitude</th>\n",
              "      <th>longitude</th>\n",
              "      <th>codigo_uf</th>\n",
              "      <th>state</th>\n",
              "    </tr>\n",
              "  </thead>\n",
              "  <tbody>\n",
              "    <tr>\n",
              "      <th>0</th>\n",
              "      <td>5200050</td>\n",
              "      <td>Abadia de Goiás</td>\n",
              "      <td>-16.7573</td>\n",
              "      <td>-49.4412</td>\n",
              "      <td>52</td>\n",
              "      <td>Goiás</td>\n",
              "    </tr>\n",
              "    <tr>\n",
              "      <th>1</th>\n",
              "      <td>3100104</td>\n",
              "      <td>Abadia dos Dourados</td>\n",
              "      <td>-18.4831</td>\n",
              "      <td>-47.3916</td>\n",
              "      <td>31</td>\n",
              "      <td>Minas Gerais</td>\n",
              "    </tr>\n",
              "  </tbody>\n",
              "</table>\n",
              "</div>"
            ],
            "text/plain": [
              "   codigo_ibge                 city  ...  codigo_uf         state\n",
              "0      5200050      Abadia de Goiás  ...         52         Goiás\n",
              "1      3100104  Abadia dos Dourados  ...         31  Minas Gerais\n",
              "\n",
              "[2 rows x 6 columns]"
            ]
          },
          "metadata": {
            "tags": []
          },
          "execution_count": 7
        }
      ]
    },
    {
      "cell_type": "markdown",
      "metadata": {
        "id": "BPwNsPMu1-OC",
        "colab_type": "text"
      },
      "source": [
        "Merge de tabelas de caso e localização geográfica"
      ]
    },
    {
      "cell_type": "code",
      "metadata": {
        "id": "fkPwxqGF2WzW",
        "colab_type": "code",
        "colab": {
          "base_uri": "https://localhost:8080/",
          "height": 161
        },
        "outputId": "5ae6d11d-95d6-4976-e0d9-43afdf2a9301"
      },
      "source": [
        "data_brasil = data_brasil.merge(city_lat_long, on = [\"city\",\"codigo_ibge\"],sort = \"date\",how=\"outer\")\n",
        "data_brasil.dropna(subset=[\"date\"],inplace=True)\n",
        "data_brasil.head(2)"
      ],
      "execution_count": 8,
      "outputs": [
        {
          "output_type": "execute_result",
          "data": {
            "text/html": [
              "<div>\n",
              "<style scoped>\n",
              "    .dataframe tbody tr th:only-of-type {\n",
              "        vertical-align: middle;\n",
              "    }\n",
              "\n",
              "    .dataframe tbody tr th {\n",
              "        vertical-align: top;\n",
              "    }\n",
              "\n",
              "    .dataframe thead th {\n",
              "        text-align: right;\n",
              "    }\n",
              "</style>\n",
              "<table border=\"1\" class=\"dataframe\">\n",
              "  <thead>\n",
              "    <tr style=\"text-align: right;\">\n",
              "      <th></th>\n",
              "      <th>date</th>\n",
              "      <th>sigla_state</th>\n",
              "      <th>city</th>\n",
              "      <th>place_type</th>\n",
              "      <th>confirmed</th>\n",
              "      <th>deaths</th>\n",
              "      <th>order_for_place</th>\n",
              "      <th>is_last</th>\n",
              "      <th>estimated_population_2019</th>\n",
              "      <th>codigo_ibge</th>\n",
              "      <th>confirmed_per_100k_inhabitants</th>\n",
              "      <th>death_rate</th>\n",
              "      <th>latitude</th>\n",
              "      <th>longitude</th>\n",
              "      <th>codigo_uf</th>\n",
              "      <th>state</th>\n",
              "    </tr>\n",
              "  </thead>\n",
              "  <tbody>\n",
              "    <tr>\n",
              "      <th>60</th>\n",
              "      <td>2020-03-29</td>\n",
              "      <td>BA</td>\n",
              "      <td>Alagoinhas</td>\n",
              "      <td>city</td>\n",
              "      <td>1.0</td>\n",
              "      <td>0.0</td>\n",
              "      <td>4.0</td>\n",
              "      <td>True</td>\n",
              "      <td>151596.0</td>\n",
              "      <td>2900702.0</td>\n",
              "      <td>0.65965</td>\n",
              "      <td>NaN</td>\n",
              "      <td>-12.1335</td>\n",
              "      <td>-38.4208</td>\n",
              "      <td>29.0</td>\n",
              "      <td>Bahia</td>\n",
              "    </tr>\n",
              "    <tr>\n",
              "      <th>61</th>\n",
              "      <td>2020-03-28</td>\n",
              "      <td>BA</td>\n",
              "      <td>Alagoinhas</td>\n",
              "      <td>city</td>\n",
              "      <td>1.0</td>\n",
              "      <td>NaN</td>\n",
              "      <td>3.0</td>\n",
              "      <td>False</td>\n",
              "      <td>151596.0</td>\n",
              "      <td>2900702.0</td>\n",
              "      <td>0.65965</td>\n",
              "      <td>NaN</td>\n",
              "      <td>-12.1335</td>\n",
              "      <td>-38.4208</td>\n",
              "      <td>29.0</td>\n",
              "      <td>Bahia</td>\n",
              "    </tr>\n",
              "  </tbody>\n",
              "</table>\n",
              "</div>"
            ],
            "text/plain": [
              "          date sigla_state        city  ... longitude  codigo_uf  state\n",
              "60  2020-03-29          BA  Alagoinhas  ...  -38.4208       29.0  Bahia\n",
              "61  2020-03-28          BA  Alagoinhas  ...  -38.4208       29.0  Bahia\n",
              "\n",
              "[2 rows x 16 columns]"
            ]
          },
          "metadata": {
            "tags": []
          },
          "execution_count": 8
        }
      ]
    },
    {
      "cell_type": "code",
      "metadata": {
        "id": "CJiBmBmL_Zbs",
        "colab_type": "code",
        "colab": {
          "base_uri": "https://localhost:8080/",
          "height": 390
        },
        "outputId": "8fead9e1-b5cd-4f7f-8ea1-3529d23e2f26"
      },
      "source": [
        "data_brasil.info()"
      ],
      "execution_count": 9,
      "outputs": [
        {
          "output_type": "stream",
          "text": [
            "<class 'pandas.core.frame.DataFrame'>\n",
            "Int64Index: 2446 entries, 60 to 7694\n",
            "Data columns (total 16 columns):\n",
            "date                              2446 non-null object\n",
            "sigla_state                       2446 non-null object\n",
            "city                              2056 non-null object\n",
            "place_type                        2446 non-null object\n",
            "confirmed                         2446 non-null float64\n",
            "deaths                            2109 non-null float64\n",
            "order_for_place                   2446 non-null float64\n",
            "is_last                           2446 non-null object\n",
            "estimated_population_2019         2367 non-null float64\n",
            "codigo_ibge                       2367 non-null float64\n",
            "confirmed_per_100k_inhabitants    2339 non-null float64\n",
            "death_rate                        133 non-null float64\n",
            "latitude                          1977 non-null float64\n",
            "longitude                         1977 non-null float64\n",
            "codigo_uf                         1977 non-null float64\n",
            "state                             1977 non-null object\n",
            "dtypes: float64(10), object(6)\n",
            "memory usage: 324.9+ KB\n"
          ],
          "name": "stdout"
        }
      ]
    },
    {
      "cell_type": "markdown",
      "metadata": {
        "id": "iz-iB4TQ4YzR",
        "colab_type": "text"
      },
      "source": [
        "Retirando NaN's e passando o codigo do ibge pra inteiro"
      ]
    },
    {
      "cell_type": "code",
      "metadata": {
        "id": "RBqymRv238Rr",
        "colab_type": "code",
        "outputId": "b9621045-510a-42e8-9be6-7e645a22b951",
        "colab": {
          "base_uri": "https://localhost:8080/",
          "height": 161
        }
      },
      "source": [
        "data_brasil.replace(np.nan, 0, inplace = True)\n",
        "data_brasil[\"codigo_ibge\"] = data_brasil[\"codigo_ibge\"].astype(\"int64\")\n",
        "data_brasil.head(2)"
      ],
      "execution_count": 11,
      "outputs": [
        {
          "output_type": "execute_result",
          "data": {
            "text/html": [
              "<div>\n",
              "<style scoped>\n",
              "    .dataframe tbody tr th:only-of-type {\n",
              "        vertical-align: middle;\n",
              "    }\n",
              "\n",
              "    .dataframe tbody tr th {\n",
              "        vertical-align: top;\n",
              "    }\n",
              "\n",
              "    .dataframe thead th {\n",
              "        text-align: right;\n",
              "    }\n",
              "</style>\n",
              "<table border=\"1\" class=\"dataframe\">\n",
              "  <thead>\n",
              "    <tr style=\"text-align: right;\">\n",
              "      <th></th>\n",
              "      <th>date</th>\n",
              "      <th>sigla_state</th>\n",
              "      <th>city</th>\n",
              "      <th>place_type</th>\n",
              "      <th>confirmed</th>\n",
              "      <th>deaths</th>\n",
              "      <th>order_for_place</th>\n",
              "      <th>is_last</th>\n",
              "      <th>estimated_population_2019</th>\n",
              "      <th>codigo_ibge</th>\n",
              "      <th>confirmed_per_100k_inhabitants</th>\n",
              "      <th>death_rate</th>\n",
              "      <th>latitude</th>\n",
              "      <th>longitude</th>\n",
              "      <th>codigo_uf</th>\n",
              "      <th>state</th>\n",
              "    </tr>\n",
              "  </thead>\n",
              "  <tbody>\n",
              "    <tr>\n",
              "      <th>60</th>\n",
              "      <td>2020-03-29</td>\n",
              "      <td>BA</td>\n",
              "      <td>Alagoinhas</td>\n",
              "      <td>city</td>\n",
              "      <td>1.0</td>\n",
              "      <td>0.0</td>\n",
              "      <td>4.0</td>\n",
              "      <td>True</td>\n",
              "      <td>151596.0</td>\n",
              "      <td>2900702</td>\n",
              "      <td>0.65965</td>\n",
              "      <td>0.0</td>\n",
              "      <td>-12.1335</td>\n",
              "      <td>-38.4208</td>\n",
              "      <td>29.0</td>\n",
              "      <td>Bahia</td>\n",
              "    </tr>\n",
              "    <tr>\n",
              "      <th>61</th>\n",
              "      <td>2020-03-28</td>\n",
              "      <td>BA</td>\n",
              "      <td>Alagoinhas</td>\n",
              "      <td>city</td>\n",
              "      <td>1.0</td>\n",
              "      <td>0.0</td>\n",
              "      <td>3.0</td>\n",
              "      <td>False</td>\n",
              "      <td>151596.0</td>\n",
              "      <td>2900702</td>\n",
              "      <td>0.65965</td>\n",
              "      <td>0.0</td>\n",
              "      <td>-12.1335</td>\n",
              "      <td>-38.4208</td>\n",
              "      <td>29.0</td>\n",
              "      <td>Bahia</td>\n",
              "    </tr>\n",
              "  </tbody>\n",
              "</table>\n",
              "</div>"
            ],
            "text/plain": [
              "          date sigla_state        city  ... longitude  codigo_uf  state\n",
              "60  2020-03-29          BA  Alagoinhas  ...  -38.4208       29.0  Bahia\n",
              "61  2020-03-28          BA  Alagoinhas  ...  -38.4208       29.0  Bahia\n",
              "\n",
              "[2 rows x 16 columns]"
            ]
          },
          "metadata": {
            "tags": []
          },
          "execution_count": 11
        }
      ]
    },
    {
      "cell_type": "markdown",
      "metadata": {
        "id": "LbCRVBnM9bHZ",
        "colab_type": "text"
      },
      "source": [
        "Usando Split para retirar o código do município"
      ]
    },
    {
      "cell_type": "code",
      "metadata": {
        "id": "ALBinaIR9oF0",
        "colab_type": "code",
        "outputId": "54a73095-04e2-48d6-b002-3655bf22d56a",
        "colab": {
          "base_uri": "https://localhost:8080/",
          "height": 107
        }
      },
      "source": [
        "new = leitos_internacao[\"city\"].str.split(\" \", n = 1, expand = True)\n",
        "leitos_internacao[\"city\"] = new[1]\n",
        "leitos_internacao[\"codigo_ibge\"] = new[0] #Dev sumiu com o ultimo digito de todos os codigos\n",
        "leitos_internacao.head(2)"
      ],
      "execution_count": 12,
      "outputs": [
        {
          "output_type": "execute_result",
          "data": {
            "text/html": [
              "<div>\n",
              "<style scoped>\n",
              "    .dataframe tbody tr th:only-of-type {\n",
              "        vertical-align: middle;\n",
              "    }\n",
              "\n",
              "    .dataframe tbody tr th {\n",
              "        vertical-align: top;\n",
              "    }\n",
              "\n",
              "    .dataframe thead th {\n",
              "        text-align: right;\n",
              "    }\n",
              "</style>\n",
              "<table border=\"1\" class=\"dataframe\">\n",
              "  <thead>\n",
              "    <tr style=\"text-align: right;\">\n",
              "      <th></th>\n",
              "      <th>city</th>\n",
              "      <th>quantidade</th>\n",
              "      <th>codigo_ibge</th>\n",
              "    </tr>\n",
              "  </thead>\n",
              "  <tbody>\n",
              "    <tr>\n",
              "      <th>0</th>\n",
              "      <td>Alta Floresta D'Oeste</td>\n",
              "      <td>49</td>\n",
              "      <td>110001</td>\n",
              "    </tr>\n",
              "    <tr>\n",
              "      <th>1</th>\n",
              "      <td>Alto Alegre dos Parecis</td>\n",
              "      <td>16</td>\n",
              "      <td>110037</td>\n",
              "    </tr>\n",
              "  </tbody>\n",
              "</table>\n",
              "</div>"
            ],
            "text/plain": [
              "                      city quantidade codigo_ibge\n",
              "0    Alta Floresta D'Oeste         49      110001\n",
              "1  Alto Alegre dos Parecis         16      110037"
            ]
          },
          "metadata": {
            "tags": []
          },
          "execution_count": 12
        }
      ]
    },
    {
      "cell_type": "markdown",
      "metadata": {
        "id": "pgNDapilGF2S",
        "colab_type": "text"
      },
      "source": [
        "Farei merge, mas pra isso irei fazer uma cópia dos de localização, porque terei que tirar o último dígito de todos os dados pra conseguir juntar com os dos leitos que tem o último faltando"
      ]
    },
    {
      "cell_type": "code",
      "metadata": {
        "id": "d2HXiOeqSUVP",
        "colab_type": "code",
        "colab": {
          "base_uri": "https://localhost:8080/",
          "height": 107
        },
        "outputId": "3fda918a-00c7-4b11-8546-4bc1602b472a"
      },
      "source": [
        "city_lat_long[\"codigo_ibge\"] = city_lat_long[\"codigo_ibge\"].map(lambda x: str(x)[:-1])\n",
        "city_lat_long.head(2)"
      ],
      "execution_count": 13,
      "outputs": [
        {
          "output_type": "execute_result",
          "data": {
            "text/html": [
              "<div>\n",
              "<style scoped>\n",
              "    .dataframe tbody tr th:only-of-type {\n",
              "        vertical-align: middle;\n",
              "    }\n",
              "\n",
              "    .dataframe tbody tr th {\n",
              "        vertical-align: top;\n",
              "    }\n",
              "\n",
              "    .dataframe thead th {\n",
              "        text-align: right;\n",
              "    }\n",
              "</style>\n",
              "<table border=\"1\" class=\"dataframe\">\n",
              "  <thead>\n",
              "    <tr style=\"text-align: right;\">\n",
              "      <th></th>\n",
              "      <th>codigo_ibge</th>\n",
              "      <th>city</th>\n",
              "      <th>latitude</th>\n",
              "      <th>longitude</th>\n",
              "      <th>codigo_uf</th>\n",
              "      <th>state</th>\n",
              "    </tr>\n",
              "  </thead>\n",
              "  <tbody>\n",
              "    <tr>\n",
              "      <th>0</th>\n",
              "      <td>520005</td>\n",
              "      <td>Abadia de Goiás</td>\n",
              "      <td>-16.7573</td>\n",
              "      <td>-49.4412</td>\n",
              "      <td>52</td>\n",
              "      <td>Goiás</td>\n",
              "    </tr>\n",
              "    <tr>\n",
              "      <th>1</th>\n",
              "      <td>310010</td>\n",
              "      <td>Abadia dos Dourados</td>\n",
              "      <td>-18.4831</td>\n",
              "      <td>-47.3916</td>\n",
              "      <td>31</td>\n",
              "      <td>Minas Gerais</td>\n",
              "    </tr>\n",
              "  </tbody>\n",
              "</table>\n",
              "</div>"
            ],
            "text/plain": [
              "  codigo_ibge                 city  ...  codigo_uf         state\n",
              "0      520005      Abadia de Goiás  ...         52         Goiás\n",
              "1      310010  Abadia dos Dourados  ...         31  Minas Gerais\n",
              "\n",
              "[2 rows x 6 columns]"
            ]
          },
          "metadata": {
            "tags": []
          },
          "execution_count": 13
        }
      ]
    },
    {
      "cell_type": "code",
      "metadata": {
        "id": "SCSZn2Pwkjpg",
        "colab_type": "code",
        "colab": {
          "base_uri": "https://localhost:8080/",
          "height": 230
        },
        "outputId": "3da30d2f-57e7-4df5-d1be-d4023eada61f"
      },
      "source": [
        "leitos_internacao = leitos_internacao.merge(city_lat_long, on = [\"city\",\"codigo_ibge\"], sort = \"city\", how = \"outer\")\n",
        "leitos_internacao.info()"
      ],
      "execution_count": 14,
      "outputs": [
        {
          "output_type": "stream",
          "text": [
            "<class 'pandas.core.frame.DataFrame'>\n",
            "Int64Index: 5603 entries, 0 to 5602\n",
            "Data columns (total 7 columns):\n",
            "city           5603 non-null object\n",
            "quantidade     5596 non-null object\n",
            "codigo_ibge    5603 non-null object\n",
            "latitude       5543 non-null float64\n",
            "longitude      5543 non-null float64\n",
            "codigo_uf      5543 non-null float64\n",
            "state          5543 non-null object\n",
            "dtypes: float64(3), object(4)\n",
            "memory usage: 350.2+ KB\n"
          ],
          "name": "stdout"
        }
      ]
    },
    {
      "cell_type": "code",
      "metadata": {
        "id": "Vp3ZW_HaHUxE",
        "colab_type": "code",
        "colab": {
          "base_uri": "https://localhost:8080/",
          "height": 390
        },
        "outputId": "e5f3769f-47b6-4927-e1cb-5aaac45561ba"
      },
      "source": [
        "data_brasil.info()"
      ],
      "execution_count": 15,
      "outputs": [
        {
          "output_type": "stream",
          "text": [
            "<class 'pandas.core.frame.DataFrame'>\n",
            "Int64Index: 2446 entries, 60 to 7694\n",
            "Data columns (total 16 columns):\n",
            "date                              2446 non-null object\n",
            "sigla_state                       2446 non-null object\n",
            "city                              2446 non-null object\n",
            "place_type                        2446 non-null object\n",
            "confirmed                         2446 non-null float64\n",
            "deaths                            2446 non-null float64\n",
            "order_for_place                   2446 non-null float64\n",
            "is_last                           2446 non-null bool\n",
            "estimated_population_2019         2446 non-null float64\n",
            "codigo_ibge                       2446 non-null int64\n",
            "confirmed_per_100k_inhabitants    2446 non-null float64\n",
            "death_rate                        2446 non-null float64\n",
            "latitude                          2446 non-null float64\n",
            "longitude                         2446 non-null float64\n",
            "codigo_uf                         2446 non-null float64\n",
            "state                             2446 non-null object\n",
            "dtypes: bool(1), float64(9), int64(1), object(5)\n",
            "memory usage: 308.1+ KB\n"
          ],
          "name": "stdout"
        }
      ]
    },
    {
      "cell_type": "markdown",
      "metadata": {
        "id": "L7Gt2HE8KT0H",
        "colab_type": "text"
      },
      "source": [
        "Dataset com os ultimos boletins"
      ]
    },
    {
      "cell_type": "code",
      "metadata": {
        "id": "ZrL6tSqxGpdb",
        "colab_type": "code",
        "colab": {
          "base_uri": "https://localhost:8080/",
          "height": 224
        },
        "outputId": "6745b07c-60c5-4f19-f36f-c7074c0c8ff4"
      },
      "source": [
        "data_brasil_last_boletim = data_brasil.loc[data_brasil[\"is_last\"] == True,:]\n",
        "data_brasil_last_boletim.head(3)"
      ],
      "execution_count": 16,
      "outputs": [
        {
          "output_type": "execute_result",
          "data": {
            "text/html": [
              "<div>\n",
              "<style scoped>\n",
              "    .dataframe tbody tr th:only-of-type {\n",
              "        vertical-align: middle;\n",
              "    }\n",
              "\n",
              "    .dataframe tbody tr th {\n",
              "        vertical-align: top;\n",
              "    }\n",
              "\n",
              "    .dataframe thead th {\n",
              "        text-align: right;\n",
              "    }\n",
              "</style>\n",
              "<table border=\"1\" class=\"dataframe\">\n",
              "  <thead>\n",
              "    <tr style=\"text-align: right;\">\n",
              "      <th></th>\n",
              "      <th>date</th>\n",
              "      <th>sigla_state</th>\n",
              "      <th>city</th>\n",
              "      <th>place_type</th>\n",
              "      <th>confirmed</th>\n",
              "      <th>deaths</th>\n",
              "      <th>order_for_place</th>\n",
              "      <th>is_last</th>\n",
              "      <th>estimated_population_2019</th>\n",
              "      <th>codigo_ibge</th>\n",
              "      <th>confirmed_per_100k_inhabitants</th>\n",
              "      <th>death_rate</th>\n",
              "      <th>latitude</th>\n",
              "      <th>longitude</th>\n",
              "      <th>codigo_uf</th>\n",
              "      <th>state</th>\n",
              "    </tr>\n",
              "  </thead>\n",
              "  <tbody>\n",
              "    <tr>\n",
              "      <th>60</th>\n",
              "      <td>2020-03-29</td>\n",
              "      <td>BA</td>\n",
              "      <td>Alagoinhas</td>\n",
              "      <td>city</td>\n",
              "      <td>1.0</td>\n",
              "      <td>0.0</td>\n",
              "      <td>4.0</td>\n",
              "      <td>True</td>\n",
              "      <td>151596.0</td>\n",
              "      <td>2900702</td>\n",
              "      <td>0.65965</td>\n",
              "      <td>0.0</td>\n",
              "      <td>-12.13350</td>\n",
              "      <td>-38.4208</td>\n",
              "      <td>29.0</td>\n",
              "      <td>Bahia</td>\n",
              "    </tr>\n",
              "    <tr>\n",
              "      <th>145</th>\n",
              "      <td>2020-03-28</td>\n",
              "      <td>RS</td>\n",
              "      <td>Alvorada</td>\n",
              "      <td>city</td>\n",
              "      <td>2.0</td>\n",
              "      <td>0.0</td>\n",
              "      <td>10.0</td>\n",
              "      <td>True</td>\n",
              "      <td>210305.0</td>\n",
              "      <td>4300604</td>\n",
              "      <td>0.95100</td>\n",
              "      <td>0.0</td>\n",
              "      <td>-29.99140</td>\n",
              "      <td>-51.0809</td>\n",
              "      <td>43.0</td>\n",
              "      <td>Rio Grande do Sul</td>\n",
              "    </tr>\n",
              "    <tr>\n",
              "      <th>194</th>\n",
              "      <td>2020-03-28</td>\n",
              "      <td>PA</td>\n",
              "      <td>Ananindeua</td>\n",
              "      <td>city</td>\n",
              "      <td>4.0</td>\n",
              "      <td>0.0</td>\n",
              "      <td>4.0</td>\n",
              "      <td>True</td>\n",
              "      <td>530598.0</td>\n",
              "      <td>1500800</td>\n",
              "      <td>0.75387</td>\n",
              "      <td>0.0</td>\n",
              "      <td>-1.36391</td>\n",
              "      <td>-48.3743</td>\n",
              "      <td>15.0</td>\n",
              "      <td>Pará</td>\n",
              "    </tr>\n",
              "  </tbody>\n",
              "</table>\n",
              "</div>"
            ],
            "text/plain": [
              "           date sigla_state  ... codigo_uf              state\n",
              "60   2020-03-29          BA  ...      29.0              Bahia\n",
              "145  2020-03-28          RS  ...      43.0  Rio Grande do Sul\n",
              "194  2020-03-28          PA  ...      15.0               Pará\n",
              "\n",
              "[3 rows x 16 columns]"
            ]
          },
          "metadata": {
            "tags": []
          },
          "execution_count": 16
        }
      ]
    },
    {
      "cell_type": "markdown",
      "metadata": {
        "id": "DfAODGgiBK32",
        "colab_type": "text"
      },
      "source": [
        "Retirando Nulos"
      ]
    },
    {
      "cell_type": "code",
      "metadata": {
        "id": "AsfZ18XFTfbj",
        "colab_type": "code",
        "colab": {}
      },
      "source": [
        "leitos_internacao.replace(\"-\", 0, inplace = True)"
      ],
      "execution_count": 0,
      "outputs": []
    },
    {
      "cell_type": "markdown",
      "metadata": {
        "id": "F_Is7SMqGPxH",
        "colab_type": "text"
      },
      "source": [
        "###Dados Tratados"
      ]
    },
    {
      "cell_type": "code",
      "metadata": {
        "id": "SnCfRgVTGTR-",
        "colab_type": "code",
        "outputId": "cb930351-fbdc-4e57-d7e5-e88d2234d835",
        "colab": {
          "base_uri": "https://localhost:8080/",
          "height": 161
        }
      },
      "source": [
        "data_brasil.head(2)"
      ],
      "execution_count": 18,
      "outputs": [
        {
          "output_type": "execute_result",
          "data": {
            "text/html": [
              "<div>\n",
              "<style scoped>\n",
              "    .dataframe tbody tr th:only-of-type {\n",
              "        vertical-align: middle;\n",
              "    }\n",
              "\n",
              "    .dataframe tbody tr th {\n",
              "        vertical-align: top;\n",
              "    }\n",
              "\n",
              "    .dataframe thead th {\n",
              "        text-align: right;\n",
              "    }\n",
              "</style>\n",
              "<table border=\"1\" class=\"dataframe\">\n",
              "  <thead>\n",
              "    <tr style=\"text-align: right;\">\n",
              "      <th></th>\n",
              "      <th>date</th>\n",
              "      <th>sigla_state</th>\n",
              "      <th>city</th>\n",
              "      <th>place_type</th>\n",
              "      <th>confirmed</th>\n",
              "      <th>deaths</th>\n",
              "      <th>order_for_place</th>\n",
              "      <th>is_last</th>\n",
              "      <th>estimated_population_2019</th>\n",
              "      <th>codigo_ibge</th>\n",
              "      <th>confirmed_per_100k_inhabitants</th>\n",
              "      <th>death_rate</th>\n",
              "      <th>latitude</th>\n",
              "      <th>longitude</th>\n",
              "      <th>codigo_uf</th>\n",
              "      <th>state</th>\n",
              "    </tr>\n",
              "  </thead>\n",
              "  <tbody>\n",
              "    <tr>\n",
              "      <th>60</th>\n",
              "      <td>2020-03-29</td>\n",
              "      <td>BA</td>\n",
              "      <td>Alagoinhas</td>\n",
              "      <td>city</td>\n",
              "      <td>1.0</td>\n",
              "      <td>0.0</td>\n",
              "      <td>4.0</td>\n",
              "      <td>True</td>\n",
              "      <td>151596.0</td>\n",
              "      <td>2900702</td>\n",
              "      <td>0.65965</td>\n",
              "      <td>0.0</td>\n",
              "      <td>-12.1335</td>\n",
              "      <td>-38.4208</td>\n",
              "      <td>29.0</td>\n",
              "      <td>Bahia</td>\n",
              "    </tr>\n",
              "    <tr>\n",
              "      <th>61</th>\n",
              "      <td>2020-03-28</td>\n",
              "      <td>BA</td>\n",
              "      <td>Alagoinhas</td>\n",
              "      <td>city</td>\n",
              "      <td>1.0</td>\n",
              "      <td>0.0</td>\n",
              "      <td>3.0</td>\n",
              "      <td>False</td>\n",
              "      <td>151596.0</td>\n",
              "      <td>2900702</td>\n",
              "      <td>0.65965</td>\n",
              "      <td>0.0</td>\n",
              "      <td>-12.1335</td>\n",
              "      <td>-38.4208</td>\n",
              "      <td>29.0</td>\n",
              "      <td>Bahia</td>\n",
              "    </tr>\n",
              "  </tbody>\n",
              "</table>\n",
              "</div>"
            ],
            "text/plain": [
              "          date sigla_state        city  ... longitude  codigo_uf  state\n",
              "60  2020-03-29          BA  Alagoinhas  ...  -38.4208       29.0  Bahia\n",
              "61  2020-03-28          BA  Alagoinhas  ...  -38.4208       29.0  Bahia\n",
              "\n",
              "[2 rows x 16 columns]"
            ]
          },
          "metadata": {
            "tags": []
          },
          "execution_count": 18
        }
      ]
    },
    {
      "cell_type": "code",
      "metadata": {
        "id": "ewXFH1xgKaDs",
        "colab_type": "code",
        "colab": {
          "base_uri": "https://localhost:8080/",
          "height": 177
        },
        "outputId": "85224592-d79f-4a94-cee2-8616b5a7782f"
      },
      "source": [
        "data_brasil_last_boletim.head(2)"
      ],
      "execution_count": 20,
      "outputs": [
        {
          "output_type": "execute_result",
          "data": {
            "text/html": [
              "<div>\n",
              "<style scoped>\n",
              "    .dataframe tbody tr th:only-of-type {\n",
              "        vertical-align: middle;\n",
              "    }\n",
              "\n",
              "    .dataframe tbody tr th {\n",
              "        vertical-align: top;\n",
              "    }\n",
              "\n",
              "    .dataframe thead th {\n",
              "        text-align: right;\n",
              "    }\n",
              "</style>\n",
              "<table border=\"1\" class=\"dataframe\">\n",
              "  <thead>\n",
              "    <tr style=\"text-align: right;\">\n",
              "      <th></th>\n",
              "      <th>date</th>\n",
              "      <th>sigla_state</th>\n",
              "      <th>city</th>\n",
              "      <th>place_type</th>\n",
              "      <th>confirmed</th>\n",
              "      <th>deaths</th>\n",
              "      <th>order_for_place</th>\n",
              "      <th>is_last</th>\n",
              "      <th>estimated_population_2019</th>\n",
              "      <th>codigo_ibge</th>\n",
              "      <th>confirmed_per_100k_inhabitants</th>\n",
              "      <th>death_rate</th>\n",
              "      <th>latitude</th>\n",
              "      <th>longitude</th>\n",
              "      <th>codigo_uf</th>\n",
              "      <th>state</th>\n",
              "    </tr>\n",
              "  </thead>\n",
              "  <tbody>\n",
              "    <tr>\n",
              "      <th>60</th>\n",
              "      <td>2020-03-29</td>\n",
              "      <td>BA</td>\n",
              "      <td>Alagoinhas</td>\n",
              "      <td>city</td>\n",
              "      <td>1.0</td>\n",
              "      <td>0.0</td>\n",
              "      <td>4.0</td>\n",
              "      <td>True</td>\n",
              "      <td>151596.0</td>\n",
              "      <td>2900702</td>\n",
              "      <td>0.65965</td>\n",
              "      <td>0.0</td>\n",
              "      <td>-12.1335</td>\n",
              "      <td>-38.4208</td>\n",
              "      <td>29.0</td>\n",
              "      <td>Bahia</td>\n",
              "    </tr>\n",
              "    <tr>\n",
              "      <th>145</th>\n",
              "      <td>2020-03-28</td>\n",
              "      <td>RS</td>\n",
              "      <td>Alvorada</td>\n",
              "      <td>city</td>\n",
              "      <td>2.0</td>\n",
              "      <td>0.0</td>\n",
              "      <td>10.0</td>\n",
              "      <td>True</td>\n",
              "      <td>210305.0</td>\n",
              "      <td>4300604</td>\n",
              "      <td>0.95100</td>\n",
              "      <td>0.0</td>\n",
              "      <td>-29.9914</td>\n",
              "      <td>-51.0809</td>\n",
              "      <td>43.0</td>\n",
              "      <td>Rio Grande do Sul</td>\n",
              "    </tr>\n",
              "  </tbody>\n",
              "</table>\n",
              "</div>"
            ],
            "text/plain": [
              "           date sigla_state  ... codigo_uf              state\n",
              "60   2020-03-29          BA  ...      29.0              Bahia\n",
              "145  2020-03-28          RS  ...      43.0  Rio Grande do Sul\n",
              "\n",
              "[2 rows x 16 columns]"
            ]
          },
          "metadata": {
            "tags": []
          },
          "execution_count": 20
        }
      ]
    },
    {
      "cell_type": "code",
      "metadata": {
        "id": "dQm12CgtGYAF",
        "colab_type": "code",
        "outputId": "7a459d7f-09bf-4191-81aa-85ed1180f2a5",
        "colab": {
          "base_uri": "https://localhost:8080/",
          "height": 107
        }
      },
      "source": [
        "leitos_internacao.head(2)"
      ],
      "execution_count": 19,
      "outputs": [
        {
          "output_type": "execute_result",
          "data": {
            "text/html": [
              "<div>\n",
              "<style scoped>\n",
              "    .dataframe tbody tr th:only-of-type {\n",
              "        vertical-align: middle;\n",
              "    }\n",
              "\n",
              "    .dataframe tbody tr th {\n",
              "        vertical-align: top;\n",
              "    }\n",
              "\n",
              "    .dataframe thead th {\n",
              "        text-align: right;\n",
              "    }\n",
              "</style>\n",
              "<table border=\"1\" class=\"dataframe\">\n",
              "  <thead>\n",
              "    <tr style=\"text-align: right;\">\n",
              "      <th></th>\n",
              "      <th>city</th>\n",
              "      <th>quantidade</th>\n",
              "      <th>codigo_ibge</th>\n",
              "      <th>latitude</th>\n",
              "      <th>longitude</th>\n",
              "      <th>codigo_uf</th>\n",
              "      <th>state</th>\n",
              "    </tr>\n",
              "  </thead>\n",
              "  <tbody>\n",
              "    <tr>\n",
              "      <th>0</th>\n",
              "      <td>Abadia de Goiás</td>\n",
              "      <td>0</td>\n",
              "      <td>520005</td>\n",
              "      <td>-16.7573</td>\n",
              "      <td>-49.4412</td>\n",
              "      <td>52.0</td>\n",
              "      <td>Goiás</td>\n",
              "    </tr>\n",
              "    <tr>\n",
              "      <th>1</th>\n",
              "      <td>Abadia dos Dourados</td>\n",
              "      <td>17</td>\n",
              "      <td>310010</td>\n",
              "      <td>-18.4831</td>\n",
              "      <td>-47.3916</td>\n",
              "      <td>31.0</td>\n",
              "      <td>Minas Gerais</td>\n",
              "    </tr>\n",
              "  </tbody>\n",
              "</table>\n",
              "</div>"
            ],
            "text/plain": [
              "                  city quantidade  ... codigo_uf         state\n",
              "0      Abadia de Goiás          0  ...      52.0         Goiás\n",
              "1  Abadia dos Dourados         17  ...      31.0  Minas Gerais\n",
              "\n",
              "[2 rows x 7 columns]"
            ]
          },
          "metadata": {
            "tags": []
          },
          "execution_count": 19
        }
      ]
    },
    {
      "cell_type": "code",
      "metadata": {
        "id": "ELBDWN87eaoG",
        "colab_type": "code",
        "colab": {
          "base_uri": "https://localhost:8080/",
          "height": 77
        },
        "outputId": "74c8a5b6-bd9f-4683-a6cd-6a29069494e7"
      },
      "source": [
        "leitos_internacao.loc[leitos_internacao[\"city\"].str.contains(\"Pedro Avelino\"),:]"
      ],
      "execution_count": 21,
      "outputs": [
        {
          "output_type": "execute_result",
          "data": {
            "text/html": [
              "<div>\n",
              "<style scoped>\n",
              "    .dataframe tbody tr th:only-of-type {\n",
              "        vertical-align: middle;\n",
              "    }\n",
              "\n",
              "    .dataframe tbody tr th {\n",
              "        vertical-align: top;\n",
              "    }\n",
              "\n",
              "    .dataframe thead th {\n",
              "        text-align: right;\n",
              "    }\n",
              "</style>\n",
              "<table border=\"1\" class=\"dataframe\">\n",
              "  <thead>\n",
              "    <tr style=\"text-align: right;\">\n",
              "      <th></th>\n",
              "      <th>city</th>\n",
              "      <th>quantidade</th>\n",
              "      <th>codigo_ibge</th>\n",
              "      <th>latitude</th>\n",
              "      <th>longitude</th>\n",
              "      <th>codigo_uf</th>\n",
              "      <th>state</th>\n",
              "    </tr>\n",
              "  </thead>\n",
              "  <tbody>\n",
              "    <tr>\n",
              "      <th>3702</th>\n",
              "      <td>Pedro Avelino</td>\n",
              "      <td>0</td>\n",
              "      <td>240970</td>\n",
              "      <td>-5.5161</td>\n",
              "      <td>-36.3867</td>\n",
              "      <td>24.0</td>\n",
              "      <td>Rio Grande do Norte</td>\n",
              "    </tr>\n",
              "  </tbody>\n",
              "</table>\n",
              "</div>"
            ],
            "text/plain": [
              "               city quantidade  ... codigo_uf                state\n",
              "3702  Pedro Avelino          0  ...      24.0  Rio Grande do Norte\n",
              "\n",
              "[1 rows x 7 columns]"
            ]
          },
          "metadata": {
            "tags": []
          },
          "execution_count": 21
        }
      ]
    },
    {
      "cell_type": "code",
      "metadata": {
        "id": "nbpkiqGnGlxo",
        "colab_type": "code",
        "outputId": "b162a918-b762-40b7-8fc5-55cb2f0d83f1",
        "colab": {
          "base_uri": "https://localhost:8080/",
          "height": 105
        }
      },
      "source": [
        "data_brasil.columns"
      ],
      "execution_count": 22,
      "outputs": [
        {
          "output_type": "execute_result",
          "data": {
            "text/plain": [
              "Index(['date', 'sigla_state', 'city', 'place_type', 'confirmed', 'deaths',\n",
              "       'order_for_place', 'is_last', 'estimated_population_2019',\n",
              "       'codigo_ibge', 'confirmed_per_100k_inhabitants', 'death_rate',\n",
              "       'latitude', 'longitude', 'codigo_uf', 'state'],\n",
              "      dtype='object')"
            ]
          },
          "metadata": {
            "tags": []
          },
          "execution_count": 22
        }
      ]
    },
    {
      "cell_type": "code",
      "metadata": {
        "id": "tDBCTeBpBqrL",
        "colab_type": "code",
        "colab": {
          "base_uri": "https://localhost:8080/",
          "height": 70
        },
        "outputId": "1bd55d02-030b-41c0-ea34-3c11cbb5d898"
      },
      "source": [
        "leitos_internacao.columns"
      ],
      "execution_count": 23,
      "outputs": [
        {
          "output_type": "execute_result",
          "data": {
            "text/plain": [
              "Index(['city', 'quantidade', 'codigo_ibge', 'latitude', 'longitude',\n",
              "       'codigo_uf', 'state'],\n",
              "      dtype='object')"
            ]
          },
          "metadata": {
            "tags": []
          },
          "execution_count": 23
        }
      ]
    },
    {
      "cell_type": "markdown",
      "metadata": {
        "id": "GBO2EKiSCEkb",
        "colab_type": "text"
      },
      "source": [
        "Download dos CSV's"
      ]
    },
    {
      "cell_type": "code",
      "metadata": {
        "id": "wZPvTxC1DyXG",
        "colab_type": "code",
        "colab": {}
      },
      "source": [
        "#data_brasil_last_boletim.to_csv(\"data_brasil_last_boletim.csv\")"
      ],
      "execution_count": 0,
      "outputs": []
    },
    {
      "cell_type": "code",
      "metadata": {
        "id": "MXTLUaU3CVOG",
        "colab_type": "code",
        "colab": {}
      },
      "source": [
        "#data_brasil.to_csv(\"data_brasil.csv\")"
      ],
      "execution_count": 0,
      "outputs": []
    },
    {
      "cell_type": "code",
      "metadata": {
        "id": "Fhmzl9s5C5Ok",
        "colab_type": "code",
        "colab": {}
      },
      "source": [
        "#leitos_internacao.to_csv(\"leitos_internacao.csv\")"
      ],
      "execution_count": 0,
      "outputs": []
    },
    {
      "cell_type": "markdown",
      "metadata": {
        "id": "ksidWkDbMntT",
        "colab_type": "text"
      },
      "source": [
        "###Montagem de Flask API"
      ]
    },
    {
      "cell_type": "code",
      "metadata": {
        "id": "XUMSTp0DVHod",
        "colab_type": "code",
        "colab": {}
      },
      "source": [
        "import pandas as pd\n",
        "import os\n",
        "from flask import Flask, request, render_template, make_response\n",
        "\n",
        "app = Flask(__name__)\n",
        "\n",
        "@app.route('/')\n",
        "def display_gui():\n",
        "    return render_template('template.html')#html a ser renderizado\n",
        "\n",
        "@app.route('/leitos_internacao', methods=['POST'])\n",
        "def leitos_internacao():\n",
        "  estado = request.form['estado_leitos_interncao']\n",
        "\tmunicipio = request.form['municipio_leitos_interncao']\n",
        "\n",
        "  leitos_internacao = pd.read_csv()#de onde vou puxar a base de dados\n",
        "\tquantidade = leitos_internacao.loc[(leitos_internacao[\"city\"].str.contains(municipio)) & (leitos_internacao[\"state\"].str.contains(estado)),\"quantidade\"]\n",
        "\n",
        "\treturn render_template('template.html',quantidade)\n",
        "\n",
        "if __name__ == \"__main__\": #Verificar\n",
        "        port = int(os.environ.get('PORT', 5500))\n",
        "        app.run(host='0.0.0.0', port=port)"
      ],
      "execution_count": 0,
      "outputs": []
    },
    {
      "cell_type": "code",
      "metadata": {
        "id": "5-ONznQ8E6AH",
        "colab_type": "code",
        "colab": {}
      },
      "source": [
        "import pandas as pd\n",
        "import os\n",
        "from flask import Flask, request, render_template, make_response\n",
        "\n",
        "app = Flask(__name__)\n",
        "\n",
        "@app.route('/')\n",
        "def display_gui():\n",
        "    return render_template('template.html')#html a ser renderizado\n",
        "\n",
        "@app.route('/leitos_internacao', methods=['POST'])\n",
        "def leitos_internacao():\n",
        "  estado = request.form['estado_leitos_interncao']\n",
        "\tmunicipio = request.form['municipio_leitos_interncao']\n",
        "\n",
        "  data_brasil = pd.read_csv()#de onde vou puxar a base de dados\n",
        "\tquantidade = leitos_internacao.loc[(leitos_internacao[\"city\"].str.contains(municipio)) & (leitos_internacao[\"state\"].str.contains(estado)),\"quantidade\"]\n",
        "\n",
        "\treturn render_template('template.html',quantidade)\n",
        "\n",
        "if __name__ == \"__main__\": #Verificar\n",
        "        port = int(os.environ.get('PORT', 5500))\n",
        "        app.run(host='0.0.0.0', port=port)"
      ],
      "execution_count": 0,
      "outputs": []
    },
    {
      "cell_type": "code",
      "metadata": {
        "id": "9UWLI2_4E66M",
        "colab_type": "code",
        "colab": {}
      },
      "source": [
        "import pandas as pd\n",
        "import os\n",
        "from flask import Flask, request, render_template, make_response\n",
        "\n",
        "app = Flask(__name__)\n",
        "\n",
        "@app.route('/')\n",
        "def display_gui():\n",
        "    return render_template('template.html')#html a ser renderizado\n",
        "\n",
        "@app.route('/leitos_internacao', methods=['POST'])\n",
        "def leitos_internacao():\n",
        "  estado = request.form['estado_leitos_interncao']\n",
        "\tmunicipio = request.form['municipio_leitos_interncao']\n",
        "\n",
        "  leitos_internacao = pd.read_csv()#de onde vou puxar a base de dados\n",
        "\tquantidade = leitos_internacao.loc[(leitos_internacao[\"city\"].str.contains(municipio)) & (leitos_internacao[\"state\"].str.contains(estado)),\"quantidade\"]\n",
        "\n",
        "\treturn render_template('template.html',quantidade)\n",
        "\n",
        "if __name__ == \"__main__\": #Verificar\n",
        "        port = int(os.environ.get('PORT', 5500))\n",
        "        app.run(host='0.0.0.0', port=port)"
      ],
      "execution_count": 0,
      "outputs": []
    }
  ]
}