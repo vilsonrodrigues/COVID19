{
  "nbformat": 4,
  "nbformat_minor": 0,
  "metadata": {
    "colab": {
      "name": "Fraterno20.ipynb",
      "provenance": [],
      "authorship_tag": "ABX9TyPDsueqOIkqpeCLep/9RuNR",
      "include_colab_link": true
    },
    "kernelspec": {
      "name": "python3",
      "display_name": "Python 3"
    }
  },
  "cells": [
    {
      "cell_type": "markdown",
      "metadata": {
        "id": "view-in-github",
        "colab_type": "text"
      },
      "source": [
        "<a href=\"https://colab.research.google.com/github/vilsonrodrigues/COVID19/blob/master/Fraterno20.ipynb\" target=\"_parent\"><img src=\"https://colab.research.google.com/assets/colab-badge.svg\" alt=\"Open In Colab\"/></a>"
      ]
    },
    {
      "cell_type": "markdown",
      "metadata": {
        "id": "aRWm2IXIbehA",
        "colab_type": "text"
      },
      "source": [
        "Libs"
      ]
    },
    {
      "cell_type": "code",
      "metadata": {
        "id": "OLRBC7VFNLY0",
        "colab_type": "code",
        "colab": {}
      },
      "source": [
        "import pandas as pd\n",
        "import numpy as np\n",
        "import matplotlib.pyplot as plt"
      ],
      "execution_count": 0,
      "outputs": []
    },
    {
      "cell_type": "markdown",
      "metadata": {
        "id": "TtG78weLcVkF",
        "colab_type": "text"
      },
      "source": [
        "Base de dados do Brasil IO, informando dados por município"
      ]
    },
    {
      "cell_type": "code",
      "metadata": {
        "id": "zdswJrxncUFw",
        "colab_type": "code",
        "colab": {
          "base_uri": "https://localhost:8080/",
          "height": 107
        },
        "outputId": "a1adf63e-a421-45c1-fecf-692bda117454"
      },
      "source": [
        "data_brasil = pd.read_csv('https://data.brasil.io/dataset/covid19/caso.csv.gz', compression='gzip', header=0, quotechar='\"', error_bad_lines=False)\n",
        "data_brasil.rename(columns={\"city_ibge_code\":\"codigo_ibge\"},inplace = True)\n",
        "data_brasil.head(2)"
      ],
      "execution_count": 2,
      "outputs": [
        {
          "output_type": "execute_result",
          "data": {
            "text/html": [
              "<div>\n",
              "<style scoped>\n",
              "    .dataframe tbody tr th:only-of-type {\n",
              "        vertical-align: middle;\n",
              "    }\n",
              "\n",
              "    .dataframe tbody tr th {\n",
              "        vertical-align: top;\n",
              "    }\n",
              "\n",
              "    .dataframe thead th {\n",
              "        text-align: right;\n",
              "    }\n",
              "</style>\n",
              "<table border=\"1\" class=\"dataframe\">\n",
              "  <thead>\n",
              "    <tr style=\"text-align: right;\">\n",
              "      <th></th>\n",
              "      <th>date</th>\n",
              "      <th>state</th>\n",
              "      <th>city</th>\n",
              "      <th>place_type</th>\n",
              "      <th>confirmed</th>\n",
              "      <th>deaths</th>\n",
              "      <th>order_for_place</th>\n",
              "      <th>is_last</th>\n",
              "      <th>estimated_population_2019</th>\n",
              "      <th>codigo_ibge</th>\n",
              "      <th>confirmed_per_100k_inhabitants</th>\n",
              "      <th>death_rate</th>\n",
              "    </tr>\n",
              "  </thead>\n",
              "  <tbody>\n",
              "    <tr>\n",
              "      <th>0</th>\n",
              "      <td>2020-03-27</td>\n",
              "      <td>RR</td>\n",
              "      <td>NaN</td>\n",
              "      <td>state</td>\n",
              "      <td>12</td>\n",
              "      <td>0.0</td>\n",
              "      <td>7</td>\n",
              "      <td>True</td>\n",
              "      <td>605761.0</td>\n",
              "      <td>14.0</td>\n",
              "      <td>1.98098</td>\n",
              "      <td>NaN</td>\n",
              "    </tr>\n",
              "    <tr>\n",
              "      <th>1</th>\n",
              "      <td>2020-03-26</td>\n",
              "      <td>RR</td>\n",
              "      <td>NaN</td>\n",
              "      <td>state</td>\n",
              "      <td>10</td>\n",
              "      <td>0.0</td>\n",
              "      <td>6</td>\n",
              "      <td>False</td>\n",
              "      <td>605761.0</td>\n",
              "      <td>14.0</td>\n",
              "      <td>1.65082</td>\n",
              "      <td>NaN</td>\n",
              "    </tr>\n",
              "  </tbody>\n",
              "</table>\n",
              "</div>"
            ],
            "text/plain": [
              "         date state  ... confirmed_per_100k_inhabitants death_rate\n",
              "0  2020-03-27    RR  ...                        1.98098        NaN\n",
              "1  2020-03-26    RR  ...                        1.65082        NaN\n",
              "\n",
              "[2 rows x 12 columns]"
            ]
          },
          "metadata": {
            "tags": []
          },
          "execution_count": 2
        }
      ]
    },
    {
      "cell_type": "markdown",
      "metadata": {
        "id": "5H2OJa08iOmU",
        "colab_type": "text"
      },
      "source": [
        "CSV com dados de longitude e latitude dos municípios brasileiros"
      ]
    },
    {
      "cell_type": "code",
      "metadata": {
        "id": "K_2MiesadXF0",
        "colab_type": "code",
        "colab": {
          "base_uri": "https://localhost:8080/",
          "height": 107
        },
        "outputId": "ea0a55d4-1f78-4859-efec-e9c7d2690bec"
      },
      "source": [
        "city_lat_long =  pd.read_csv(\"https://raw.githubusercontent.com/kelvins/Municipios-Brasileiros/master/csv/municipios.csv\")\n",
        "city_lat_long.drop(columns = [\"capital\"], inplace = True)\n",
        "city_lat_long.rename(columns = {\"nome\":\"city\"},inplace = True)\n",
        "city_lat_long.head(2)"
      ],
      "execution_count": 3,
      "outputs": [
        {
          "output_type": "execute_result",
          "data": {
            "text/html": [
              "<div>\n",
              "<style scoped>\n",
              "    .dataframe tbody tr th:only-of-type {\n",
              "        vertical-align: middle;\n",
              "    }\n",
              "\n",
              "    .dataframe tbody tr th {\n",
              "        vertical-align: top;\n",
              "    }\n",
              "\n",
              "    .dataframe thead th {\n",
              "        text-align: right;\n",
              "    }\n",
              "</style>\n",
              "<table border=\"1\" class=\"dataframe\">\n",
              "  <thead>\n",
              "    <tr style=\"text-align: right;\">\n",
              "      <th></th>\n",
              "      <th>codigo_ibge</th>\n",
              "      <th>city</th>\n",
              "      <th>latitude</th>\n",
              "      <th>longitude</th>\n",
              "      <th>codigo_uf</th>\n",
              "    </tr>\n",
              "  </thead>\n",
              "  <tbody>\n",
              "    <tr>\n",
              "      <th>0</th>\n",
              "      <td>5200050</td>\n",
              "      <td>Abadia de Goiás</td>\n",
              "      <td>-16.7573</td>\n",
              "      <td>-49.4412</td>\n",
              "      <td>52</td>\n",
              "    </tr>\n",
              "    <tr>\n",
              "      <th>1</th>\n",
              "      <td>3100104</td>\n",
              "      <td>Abadia dos Dourados</td>\n",
              "      <td>-18.4831</td>\n",
              "      <td>-47.3916</td>\n",
              "      <td>31</td>\n",
              "    </tr>\n",
              "  </tbody>\n",
              "</table>\n",
              "</div>"
            ],
            "text/plain": [
              "   codigo_ibge                 city  latitude  longitude  codigo_uf\n",
              "0      5200050      Abadia de Goiás  -16.7573   -49.4412         52\n",
              "1      3100104  Abadia dos Dourados  -18.4831   -47.3916         31"
            ]
          },
          "metadata": {
            "tags": []
          },
          "execution_count": 3
        }
      ]
    },
    {
      "cell_type": "markdown",
      "metadata": {
        "id": "BPwNsPMu1-OC",
        "colab_type": "text"
      },
      "source": [
        "Merge de tabelas de caso e localização geográfica"
      ]
    },
    {
      "cell_type": "code",
      "metadata": {
        "id": "fkPwxqGF2WzW",
        "colab_type": "code",
        "colab": {}
      },
      "source": [
        "data_brasil = data_brasil.merge(city_lat_long, on = [\"city\",\"codigo_ibge\"],sort = \"date\")"
      ],
      "execution_count": 0,
      "outputs": []
    },
    {
      "cell_type": "code",
      "metadata": {
        "id": "ecVBLhxw3rL2",
        "colab_type": "code",
        "colab": {
          "base_uri": "https://localhost:8080/",
          "height": 161
        },
        "outputId": "12ebcbc2-985d-43bb-c696-cf0cafbbefde"
      },
      "source": [
        "data_brasil.head(2)"
      ],
      "execution_count": 5,
      "outputs": [
        {
          "output_type": "execute_result",
          "data": {
            "text/html": [
              "<div>\n",
              "<style scoped>\n",
              "    .dataframe tbody tr th:only-of-type {\n",
              "        vertical-align: middle;\n",
              "    }\n",
              "\n",
              "    .dataframe tbody tr th {\n",
              "        vertical-align: top;\n",
              "    }\n",
              "\n",
              "    .dataframe thead th {\n",
              "        text-align: right;\n",
              "    }\n",
              "</style>\n",
              "<table border=\"1\" class=\"dataframe\">\n",
              "  <thead>\n",
              "    <tr style=\"text-align: right;\">\n",
              "      <th></th>\n",
              "      <th>date</th>\n",
              "      <th>state</th>\n",
              "      <th>city</th>\n",
              "      <th>place_type</th>\n",
              "      <th>confirmed</th>\n",
              "      <th>deaths</th>\n",
              "      <th>order_for_place</th>\n",
              "      <th>is_last</th>\n",
              "      <th>estimated_population_2019</th>\n",
              "      <th>codigo_ibge</th>\n",
              "      <th>confirmed_per_100k_inhabitants</th>\n",
              "      <th>death_rate</th>\n",
              "      <th>latitude</th>\n",
              "      <th>longitude</th>\n",
              "      <th>codigo_uf</th>\n",
              "    </tr>\n",
              "  </thead>\n",
              "  <tbody>\n",
              "    <tr>\n",
              "      <th>0</th>\n",
              "      <td>2020-03-28</td>\n",
              "      <td>BA</td>\n",
              "      <td>Alagoinhas</td>\n",
              "      <td>city</td>\n",
              "      <td>1</td>\n",
              "      <td>NaN</td>\n",
              "      <td>3</td>\n",
              "      <td>True</td>\n",
              "      <td>151596.0</td>\n",
              "      <td>2900702.0</td>\n",
              "      <td>0.65965</td>\n",
              "      <td>NaN</td>\n",
              "      <td>-12.1335</td>\n",
              "      <td>-38.4208</td>\n",
              "      <td>29</td>\n",
              "    </tr>\n",
              "    <tr>\n",
              "      <th>1</th>\n",
              "      <td>2020-03-27</td>\n",
              "      <td>BA</td>\n",
              "      <td>Alagoinhas</td>\n",
              "      <td>city</td>\n",
              "      <td>1</td>\n",
              "      <td>0.0</td>\n",
              "      <td>2</td>\n",
              "      <td>False</td>\n",
              "      <td>151596.0</td>\n",
              "      <td>2900702.0</td>\n",
              "      <td>0.65965</td>\n",
              "      <td>NaN</td>\n",
              "      <td>-12.1335</td>\n",
              "      <td>-38.4208</td>\n",
              "      <td>29</td>\n",
              "    </tr>\n",
              "  </tbody>\n",
              "</table>\n",
              "</div>"
            ],
            "text/plain": [
              "         date state        city  ... latitude  longitude  codigo_uf\n",
              "0  2020-03-28    BA  Alagoinhas  ... -12.1335   -38.4208         29\n",
              "1  2020-03-27    BA  Alagoinhas  ... -12.1335   -38.4208         29\n",
              "\n",
              "[2 rows x 15 columns]"
            ]
          },
          "metadata": {
            "tags": []
          },
          "execution_count": 5
        }
      ]
    },
    {
      "cell_type": "markdown",
      "metadata": {
        "id": "iz-iB4TQ4YzR",
        "colab_type": "text"
      },
      "source": [
        "Retirando NaN's"
      ]
    },
    {
      "cell_type": "code",
      "metadata": {
        "id": "RBqymRv238Rr",
        "colab_type": "code",
        "colab": {
          "base_uri": "https://localhost:8080/",
          "height": 161
        },
        "outputId": "915c2ad3-dc4e-4dbd-e5a5-5b09cad3ba99"
      },
      "source": [
        "data_brasil.replace(np.nan, 0, inplace = True)\n",
        "data_brasil.head(2)"
      ],
      "execution_count": 6,
      "outputs": [
        {
          "output_type": "execute_result",
          "data": {
            "text/html": [
              "<div>\n",
              "<style scoped>\n",
              "    .dataframe tbody tr th:only-of-type {\n",
              "        vertical-align: middle;\n",
              "    }\n",
              "\n",
              "    .dataframe tbody tr th {\n",
              "        vertical-align: top;\n",
              "    }\n",
              "\n",
              "    .dataframe thead th {\n",
              "        text-align: right;\n",
              "    }\n",
              "</style>\n",
              "<table border=\"1\" class=\"dataframe\">\n",
              "  <thead>\n",
              "    <tr style=\"text-align: right;\">\n",
              "      <th></th>\n",
              "      <th>date</th>\n",
              "      <th>state</th>\n",
              "      <th>city</th>\n",
              "      <th>place_type</th>\n",
              "      <th>confirmed</th>\n",
              "      <th>deaths</th>\n",
              "      <th>order_for_place</th>\n",
              "      <th>is_last</th>\n",
              "      <th>estimated_population_2019</th>\n",
              "      <th>codigo_ibge</th>\n",
              "      <th>confirmed_per_100k_inhabitants</th>\n",
              "      <th>death_rate</th>\n",
              "      <th>latitude</th>\n",
              "      <th>longitude</th>\n",
              "      <th>codigo_uf</th>\n",
              "    </tr>\n",
              "  </thead>\n",
              "  <tbody>\n",
              "    <tr>\n",
              "      <th>0</th>\n",
              "      <td>2020-03-28</td>\n",
              "      <td>BA</td>\n",
              "      <td>Alagoinhas</td>\n",
              "      <td>city</td>\n",
              "      <td>1</td>\n",
              "      <td>0.0</td>\n",
              "      <td>3</td>\n",
              "      <td>True</td>\n",
              "      <td>151596.0</td>\n",
              "      <td>2900702.0</td>\n",
              "      <td>0.65965</td>\n",
              "      <td>0.0</td>\n",
              "      <td>-12.1335</td>\n",
              "      <td>-38.4208</td>\n",
              "      <td>29</td>\n",
              "    </tr>\n",
              "    <tr>\n",
              "      <th>1</th>\n",
              "      <td>2020-03-27</td>\n",
              "      <td>BA</td>\n",
              "      <td>Alagoinhas</td>\n",
              "      <td>city</td>\n",
              "      <td>1</td>\n",
              "      <td>0.0</td>\n",
              "      <td>2</td>\n",
              "      <td>False</td>\n",
              "      <td>151596.0</td>\n",
              "      <td>2900702.0</td>\n",
              "      <td>0.65965</td>\n",
              "      <td>0.0</td>\n",
              "      <td>-12.1335</td>\n",
              "      <td>-38.4208</td>\n",
              "      <td>29</td>\n",
              "    </tr>\n",
              "  </tbody>\n",
              "</table>\n",
              "</div>"
            ],
            "text/plain": [
              "         date state        city  ... latitude  longitude  codigo_uf\n",
              "0  2020-03-28    BA  Alagoinhas  ... -12.1335   -38.4208         29\n",
              "1  2020-03-27    BA  Alagoinhas  ... -12.1335   -38.4208         29\n",
              "\n",
              "[2 rows x 15 columns]"
            ]
          },
          "metadata": {
            "tags": []
          },
          "execution_count": 6
        }
      ]
    },
    {
      "cell_type": "markdown",
      "metadata": {
        "id": "i8Tebk3k5yaZ",
        "colab_type": "text"
      },
      "source": [
        "CSV de leitos por Municípios"
      ]
    },
    {
      "cell_type": "code",
      "metadata": {
        "id": "_yg6TjX06F-y",
        "colab_type": "code",
        "colab": {
          "base_uri": "https://localhost:8080/",
          "height": 107
        },
        "outputId": "bd962097-68e3-46e3-a58d-5811efa8411f"
      },
      "source": [
        "leitos = pd.read_csv(\"https://raw.githubusercontent.com/vilsonrodrigues/COVID19/master/leitos_por_cidade.csv\", sep = \";\", encoding = \"iso-8859-1\")\n",
        "leitos.rename(columns = {\"municipio\":\"city\"}, inplace = True)\n",
        "leitos.head(2)"
      ],
      "execution_count": 20,
      "outputs": [
        {
          "output_type": "execute_result",
          "data": {
            "text/html": [
              "<div>\n",
              "<style scoped>\n",
              "    .dataframe tbody tr th:only-of-type {\n",
              "        vertical-align: middle;\n",
              "    }\n",
              "\n",
              "    .dataframe tbody tr th {\n",
              "        vertical-align: top;\n",
              "    }\n",
              "\n",
              "    .dataframe thead th {\n",
              "        text-align: right;\n",
              "    }\n",
              "</style>\n",
              "<table border=\"1\" class=\"dataframe\">\n",
              "  <thead>\n",
              "    <tr style=\"text-align: right;\">\n",
              "      <th></th>\n",
              "      <th>city</th>\n",
              "      <th>quantidade</th>\n",
              "    </tr>\n",
              "  </thead>\n",
              "  <tbody>\n",
              "    <tr>\n",
              "      <th>0</th>\n",
              "      <td>110001 Alta Floresta D'Oeste</td>\n",
              "      <td>49</td>\n",
              "    </tr>\n",
              "    <tr>\n",
              "      <th>1</th>\n",
              "      <td>110037 Alto Alegre dos Parecis</td>\n",
              "      <td>16</td>\n",
              "    </tr>\n",
              "  </tbody>\n",
              "</table>\n",
              "</div>"
            ],
            "text/plain": [
              "                             city quantidade\n",
              "0    110001 Alta Floresta D'Oeste         49\n",
              "1  110037 Alto Alegre dos Parecis         16"
            ]
          },
          "metadata": {
            "tags": []
          },
          "execution_count": 20
        }
      ]
    },
    {
      "cell_type": "markdown",
      "metadata": {
        "id": "LbCRVBnM9bHZ",
        "colab_type": "text"
      },
      "source": [
        "Usando Split para retirar o código do município"
      ]
    },
    {
      "cell_type": "code",
      "metadata": {
        "id": "ALBinaIR9oF0",
        "colab_type": "code",
        "colab": {
          "base_uri": "https://localhost:8080/",
          "height": 107
        },
        "outputId": "6ffd4a87-52e8-4de7-cf75-0b297c95948a"
      },
      "source": [
        "new = leitos[\"city\"].str.split(\" \", n = 1, expand = True)\n",
        "leitos[\"city\"] = new[1]\n",
        "#leitos[\"codigo_ibge\"] = new[0] não é\n",
        "#leitos[\"codigo_ibge\"] = leitos[\"codigo_ibge\"].astype(\"int64\")\n",
        "leitos.head(2)"
      ],
      "execution_count": 21,
      "outputs": [
        {
          "output_type": "execute_result",
          "data": {
            "text/html": [
              "<div>\n",
              "<style scoped>\n",
              "    .dataframe tbody tr th:only-of-type {\n",
              "        vertical-align: middle;\n",
              "    }\n",
              "\n",
              "    .dataframe tbody tr th {\n",
              "        vertical-align: top;\n",
              "    }\n",
              "\n",
              "    .dataframe thead th {\n",
              "        text-align: right;\n",
              "    }\n",
              "</style>\n",
              "<table border=\"1\" class=\"dataframe\">\n",
              "  <thead>\n",
              "    <tr style=\"text-align: right;\">\n",
              "      <th></th>\n",
              "      <th>city</th>\n",
              "      <th>quantidade</th>\n",
              "    </tr>\n",
              "  </thead>\n",
              "  <tbody>\n",
              "    <tr>\n",
              "      <th>0</th>\n",
              "      <td>Alta Floresta D'Oeste</td>\n",
              "      <td>49</td>\n",
              "    </tr>\n",
              "    <tr>\n",
              "      <th>1</th>\n",
              "      <td>Alto Alegre dos Parecis</td>\n",
              "      <td>16</td>\n",
              "    </tr>\n",
              "  </tbody>\n",
              "</table>\n",
              "</div>"
            ],
            "text/plain": [
              "                      city quantidade\n",
              "0    Alta Floresta D'Oeste         49\n",
              "1  Alto Alegre dos Parecis         16"
            ]
          },
          "metadata": {
            "tags": []
          },
          "execution_count": 21
        }
      ]
    },
    {
      "cell_type": "markdown",
      "metadata": {
        "id": "pgNDapilGF2S",
        "colab_type": "text"
      },
      "source": [
        "Merge pelo nome da cidade, apesar de fazer isso deve causar conflito por causa do nome"
      ]
    },
    {
      "cell_type": "code",
      "metadata": {
        "id": "omeiOYXb-1J8",
        "colab_type": "code",
        "colab": {}
      },
      "source": [
        "'''\n",
        "leitos = leitos.merge(city_lat_long, on = \"city\", sort = \"city\")\n",
        "leitos.head(2)\n",
        "'''"
      ],
      "execution_count": 0,
      "outputs": []
    },
    {
      "cell_type": "markdown",
      "metadata": {
        "id": "F_Is7SMqGPxH",
        "colab_type": "text"
      },
      "source": [
        "**Dados Tratados**"
      ]
    },
    {
      "cell_type": "code",
      "metadata": {
        "id": "SnCfRgVTGTR-",
        "colab_type": "code",
        "colab": {
          "base_uri": "https://localhost:8080/",
          "height": 161
        },
        "outputId": "c36dba3e-8870-4e45-cc26-51f94fec4211"
      },
      "source": [
        "data_brasil.head(2)"
      ],
      "execution_count": 22,
      "outputs": [
        {
          "output_type": "execute_result",
          "data": {
            "text/html": [
              "<div>\n",
              "<style scoped>\n",
              "    .dataframe tbody tr th:only-of-type {\n",
              "        vertical-align: middle;\n",
              "    }\n",
              "\n",
              "    .dataframe tbody tr th {\n",
              "        vertical-align: top;\n",
              "    }\n",
              "\n",
              "    .dataframe thead th {\n",
              "        text-align: right;\n",
              "    }\n",
              "</style>\n",
              "<table border=\"1\" class=\"dataframe\">\n",
              "  <thead>\n",
              "    <tr style=\"text-align: right;\">\n",
              "      <th></th>\n",
              "      <th>date</th>\n",
              "      <th>state</th>\n",
              "      <th>city</th>\n",
              "      <th>place_type</th>\n",
              "      <th>confirmed</th>\n",
              "      <th>deaths</th>\n",
              "      <th>order_for_place</th>\n",
              "      <th>is_last</th>\n",
              "      <th>estimated_population_2019</th>\n",
              "      <th>codigo_ibge</th>\n",
              "      <th>confirmed_per_100k_inhabitants</th>\n",
              "      <th>death_rate</th>\n",
              "      <th>latitude</th>\n",
              "      <th>longitude</th>\n",
              "      <th>codigo_uf</th>\n",
              "    </tr>\n",
              "  </thead>\n",
              "  <tbody>\n",
              "    <tr>\n",
              "      <th>0</th>\n",
              "      <td>2020-03-28</td>\n",
              "      <td>BA</td>\n",
              "      <td>Alagoinhas</td>\n",
              "      <td>city</td>\n",
              "      <td>1</td>\n",
              "      <td>0.0</td>\n",
              "      <td>3</td>\n",
              "      <td>True</td>\n",
              "      <td>151596.0</td>\n",
              "      <td>2900702.0</td>\n",
              "      <td>0.65965</td>\n",
              "      <td>0.0</td>\n",
              "      <td>-12.1335</td>\n",
              "      <td>-38.4208</td>\n",
              "      <td>29</td>\n",
              "    </tr>\n",
              "    <tr>\n",
              "      <th>1</th>\n",
              "      <td>2020-03-27</td>\n",
              "      <td>BA</td>\n",
              "      <td>Alagoinhas</td>\n",
              "      <td>city</td>\n",
              "      <td>1</td>\n",
              "      <td>0.0</td>\n",
              "      <td>2</td>\n",
              "      <td>False</td>\n",
              "      <td>151596.0</td>\n",
              "      <td>2900702.0</td>\n",
              "      <td>0.65965</td>\n",
              "      <td>0.0</td>\n",
              "      <td>-12.1335</td>\n",
              "      <td>-38.4208</td>\n",
              "      <td>29</td>\n",
              "    </tr>\n",
              "  </tbody>\n",
              "</table>\n",
              "</div>"
            ],
            "text/plain": [
              "         date state        city  ... latitude  longitude  codigo_uf\n",
              "0  2020-03-28    BA  Alagoinhas  ... -12.1335   -38.4208         29\n",
              "1  2020-03-27    BA  Alagoinhas  ... -12.1335   -38.4208         29\n",
              "\n",
              "[2 rows x 15 columns]"
            ]
          },
          "metadata": {
            "tags": []
          },
          "execution_count": 22
        }
      ]
    },
    {
      "cell_type": "code",
      "metadata": {
        "id": "dQm12CgtGYAF",
        "colab_type": "code",
        "colab": {
          "base_uri": "https://localhost:8080/",
          "height": 107
        },
        "outputId": "653e9990-2194-4d80-a8e3-7a8980d3f438"
      },
      "source": [
        "leitos.head(2)"
      ],
      "execution_count": 23,
      "outputs": [
        {
          "output_type": "execute_result",
          "data": {
            "text/html": [
              "<div>\n",
              "<style scoped>\n",
              "    .dataframe tbody tr th:only-of-type {\n",
              "        vertical-align: middle;\n",
              "    }\n",
              "\n",
              "    .dataframe tbody tr th {\n",
              "        vertical-align: top;\n",
              "    }\n",
              "\n",
              "    .dataframe thead th {\n",
              "        text-align: right;\n",
              "    }\n",
              "</style>\n",
              "<table border=\"1\" class=\"dataframe\">\n",
              "  <thead>\n",
              "    <tr style=\"text-align: right;\">\n",
              "      <th></th>\n",
              "      <th>city</th>\n",
              "      <th>quantidade</th>\n",
              "    </tr>\n",
              "  </thead>\n",
              "  <tbody>\n",
              "    <tr>\n",
              "      <th>0</th>\n",
              "      <td>Alta Floresta D'Oeste</td>\n",
              "      <td>49</td>\n",
              "    </tr>\n",
              "    <tr>\n",
              "      <th>1</th>\n",
              "      <td>Alto Alegre dos Parecis</td>\n",
              "      <td>16</td>\n",
              "    </tr>\n",
              "  </tbody>\n",
              "</table>\n",
              "</div>"
            ],
            "text/plain": [
              "                      city quantidade\n",
              "0    Alta Floresta D'Oeste         49\n",
              "1  Alto Alegre dos Parecis         16"
            ]
          },
          "metadata": {
            "tags": []
          },
          "execution_count": 23
        }
      ]
    },
    {
      "cell_type": "code",
      "metadata": {
        "id": "nbpkiqGnGlxo",
        "colab_type": "code",
        "colab": {
          "base_uri": "https://localhost:8080/",
          "height": 105
        },
        "outputId": "d0bf09df-3a0f-4e37-b289-cb82d655bd86"
      },
      "source": [
        "data_brasil.columns"
      ],
      "execution_count": 24,
      "outputs": [
        {
          "output_type": "execute_result",
          "data": {
            "text/plain": [
              "Index(['date', 'state', 'city', 'place_type', 'confirmed', 'deaths',\n",
              "       'order_for_place', 'is_last', 'estimated_population_2019',\n",
              "       'codigo_ibge', 'confirmed_per_100k_inhabitants', 'death_rate',\n",
              "       'latitude', 'longitude', 'codigo_uf'],\n",
              "      dtype='object')"
            ]
          },
          "metadata": {
            "tags": []
          },
          "execution_count": 24
        }
      ]
    }
  ]
}