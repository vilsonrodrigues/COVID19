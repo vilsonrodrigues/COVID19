{
  "nbformat": 4,
  "nbformat_minor": 0,
  "metadata": {
    "colab": {
      "name": "COVID19.ipynb",
      "provenance": [],
      "collapsed_sections": [],
      "authorship_tag": "ABX9TyNnOpkxHXkcQLR5q8v3Gpn7",
      "include_colab_link": true
    },
    "kernelspec": {
      "name": "python3",
      "display_name": "Python 3"
    }
  },
  "cells": [
    {
      "cell_type": "markdown",
      "metadata": {
        "id": "view-in-github",
        "colab_type": "text"
      },
      "source": [
        "<a href=\"https://colab.research.google.com/github/vilsonrodrigues/COVID19/blob/master/COVID19.ipynb\" target=\"_parent\"><img src=\"https://colab.research.google.com/assets/colab-badge.svg\" alt=\"Open In Colab\"/></a>"
      ]
    },
    {
      "cell_type": "markdown",
      "metadata": {
        "id": "Y--ZhjTdniUi",
        "colab_type": "text"
      },
      "source": [
        "Link dataset brasileiro: \"https://www.kaggle.com/unanimad/corona-virus-brazil \"\n",
        "\n",
        "No mundo: \"https://ourworldindata.org/coronavirus-source-data\""
      ]
    },
    {
      "cell_type": "markdown",
      "metadata": {
        "id": "5l6vJL8eoWlC",
        "colab_type": "text"
      },
      "source": [
        "**Importando Libs**"
      ]
    },
    {
      "cell_type": "code",
      "metadata": {
        "id": "OwyLNFVfnZe7",
        "colab_type": "code",
        "colab": {}
      },
      "source": [
        "import pandas as pd\n",
        "import numpy as np\n",
        "import matplotlib.pyplot as plt\n",
        "import folium\n",
        "from folium import plugins\n",
        "import datetime as dt"
      ],
      "execution_count": 0,
      "outputs": []
    },
    {
      "cell_type": "markdown",
      "metadata": {
        "id": "wgYrQdm7lt3w",
        "colab_type": "text"
      },
      "source": [
        "###Pré processamento de dados do Brasil e do mundo"
      ]
    },
    {
      "cell_type": "markdown",
      "metadata": {
        "id": "odCob9GSlKMU",
        "colab_type": "text"
      },
      "source": [
        "**Dataset Brasileiro**"
      ]
    },
    {
      "cell_type": "code",
      "metadata": {
        "id": "0ttL-tgOpVhi",
        "colab_type": "code",
        "outputId": "0fd6a3e0-a22c-42f1-a8e8-73b808bd982c",
        "colab": {
          "base_uri": "https://localhost:8080/",
          "height": 197
        }
      },
      "source": [
        "data_brazil = pd.read_csv(\"https://raw.githubusercontent.com/vilsonrodrigues/COVID19/master/brazil_covid19.csv\")\n",
        "data_brazil.head()"
      ],
      "execution_count": 0,
      "outputs": [
        {
          "output_type": "execute_result",
          "data": {
            "text/html": [
              "<div>\n",
              "<style scoped>\n",
              "    .dataframe tbody tr th:only-of-type {\n",
              "        vertical-align: middle;\n",
              "    }\n",
              "\n",
              "    .dataframe tbody tr th {\n",
              "        vertical-align: top;\n",
              "    }\n",
              "\n",
              "    .dataframe thead th {\n",
              "        text-align: right;\n",
              "    }\n",
              "</style>\n",
              "<table border=\"1\" class=\"dataframe\">\n",
              "  <thead>\n",
              "    <tr style=\"text-align: right;\">\n",
              "      <th></th>\n",
              "      <th>date</th>\n",
              "      <th>hour</th>\n",
              "      <th>state</th>\n",
              "      <th>suspects</th>\n",
              "      <th>refuses</th>\n",
              "      <th>cases</th>\n",
              "    </tr>\n",
              "  </thead>\n",
              "  <tbody>\n",
              "    <tr>\n",
              "      <th>0</th>\n",
              "      <td>2020-01-30</td>\n",
              "      <td>16:00</td>\n",
              "      <td>Minas Gerais</td>\n",
              "      <td>1</td>\n",
              "      <td>0</td>\n",
              "      <td>0</td>\n",
              "    </tr>\n",
              "    <tr>\n",
              "      <th>1</th>\n",
              "      <td>2020-01-30</td>\n",
              "      <td>16:00</td>\n",
              "      <td>Rio de Janeiro</td>\n",
              "      <td>1</td>\n",
              "      <td>0</td>\n",
              "      <td>0</td>\n",
              "    </tr>\n",
              "    <tr>\n",
              "      <th>2</th>\n",
              "      <td>2020-01-30</td>\n",
              "      <td>16:00</td>\n",
              "      <td>Santa Catarina</td>\n",
              "      <td>0</td>\n",
              "      <td>2</td>\n",
              "      <td>0</td>\n",
              "    </tr>\n",
              "    <tr>\n",
              "      <th>3</th>\n",
              "      <td>2020-01-30</td>\n",
              "      <td>16:00</td>\n",
              "      <td>São Paulo</td>\n",
              "      <td>3</td>\n",
              "      <td>1</td>\n",
              "      <td>0</td>\n",
              "    </tr>\n",
              "    <tr>\n",
              "      <th>4</th>\n",
              "      <td>2020-01-30</td>\n",
              "      <td>16:00</td>\n",
              "      <td>Rio Grande do Sul</td>\n",
              "      <td>2</td>\n",
              "      <td>2</td>\n",
              "      <td>0</td>\n",
              "    </tr>\n",
              "  </tbody>\n",
              "</table>\n",
              "</div>"
            ],
            "text/plain": [
              "         date   hour              state  suspects  refuses  cases\n",
              "0  2020-01-30  16:00       Minas Gerais         1        0      0\n",
              "1  2020-01-30  16:00     Rio de Janeiro         1        0      0\n",
              "2  2020-01-30  16:00     Santa Catarina         0        2      0\n",
              "3  2020-01-30  16:00          São Paulo         3        1      0\n",
              "4  2020-01-30  16:00  Rio Grande do Sul         2        2      0"
            ]
          },
          "metadata": {
            "tags": []
          },
          "execution_count": 2
        }
      ]
    },
    {
      "cell_type": "markdown",
      "metadata": {
        "id": "qreDhLiFxBfV",
        "colab_type": "text"
      },
      "source": [
        "Organizando por estado"
      ]
    },
    {
      "cell_type": "code",
      "metadata": {
        "id": "0ATCTRi0VCeX",
        "colab_type": "code",
        "outputId": "b43f99dd-3c75-44fa-f205-86a4c15fabf1",
        "colab": {
          "base_uri": "https://localhost:8080/",
          "height": 406
        }
      },
      "source": [
        "data_brazil = data_brazil.sort_values(\"state\")\n",
        "data_brazil"
      ],
      "execution_count": 0,
      "outputs": [
        {
          "output_type": "execute_result",
          "data": {
            "text/html": [
              "<div>\n",
              "<style scoped>\n",
              "    .dataframe tbody tr th:only-of-type {\n",
              "        vertical-align: middle;\n",
              "    }\n",
              "\n",
              "    .dataframe tbody tr th {\n",
              "        vertical-align: top;\n",
              "    }\n",
              "\n",
              "    .dataframe thead th {\n",
              "        text-align: right;\n",
              "    }\n",
              "</style>\n",
              "<table border=\"1\" class=\"dataframe\">\n",
              "  <thead>\n",
              "    <tr style=\"text-align: right;\">\n",
              "      <th></th>\n",
              "      <th>date</th>\n",
              "      <th>hour</th>\n",
              "      <th>state</th>\n",
              "      <th>suspects</th>\n",
              "      <th>refuses</th>\n",
              "      <th>cases</th>\n",
              "    </tr>\n",
              "  </thead>\n",
              "  <tbody>\n",
              "    <tr>\n",
              "      <th>455</th>\n",
              "      <td>2020-03-10</td>\n",
              "      <td>16:05</td>\n",
              "      <td>Acre</td>\n",
              "      <td>3</td>\n",
              "      <td>0</td>\n",
              "      <td>0</td>\n",
              "    </tr>\n",
              "    <tr>\n",
              "      <th>577</th>\n",
              "      <td>2020-03-15</td>\n",
              "      <td>19:15</td>\n",
              "      <td>Acre</td>\n",
              "      <td>3</td>\n",
              "      <td>0</td>\n",
              "      <td>0</td>\n",
              "    </tr>\n",
              "    <tr>\n",
              "      <th>527</th>\n",
              "      <td>2020-03-13</td>\n",
              "      <td>15:45</td>\n",
              "      <td>Acre</td>\n",
              "      <td>3</td>\n",
              "      <td>0</td>\n",
              "      <td>0</td>\n",
              "    </tr>\n",
              "    <tr>\n",
              "      <th>503</th>\n",
              "      <td>2020-03-12</td>\n",
              "      <td>16:20</td>\n",
              "      <td>Acre</td>\n",
              "      <td>3</td>\n",
              "      <td>0</td>\n",
              "      <td>0</td>\n",
              "    </tr>\n",
              "    <tr>\n",
              "      <th>479</th>\n",
              "      <td>2020-03-11</td>\n",
              "      <td>16:45</td>\n",
              "      <td>Acre</td>\n",
              "      <td>3</td>\n",
              "      <td>0</td>\n",
              "      <td>0</td>\n",
              "    </tr>\n",
              "    <tr>\n",
              "      <th>...</th>\n",
              "      <td>...</td>\n",
              "      <td>...</td>\n",
              "      <td>...</td>\n",
              "      <td>...</td>\n",
              "      <td>...</td>\n",
              "      <td>...</td>\n",
              "    </tr>\n",
              "    <tr>\n",
              "      <th>17</th>\n",
              "      <td>2020-02-01</td>\n",
              "      <td>12:00</td>\n",
              "      <td>São Paulo</td>\n",
              "      <td>8</td>\n",
              "      <td>2</td>\n",
              "      <td>0</td>\n",
              "    </tr>\n",
              "    <tr>\n",
              "      <th>609</th>\n",
              "      <td>2020-03-16</td>\n",
              "      <td>15:50</td>\n",
              "      <td>Tocantins</td>\n",
              "      <td>3</td>\n",
              "      <td>0</td>\n",
              "      <td>0</td>\n",
              "    </tr>\n",
              "    <tr>\n",
              "      <th>555</th>\n",
              "      <td>2020-03-14</td>\n",
              "      <td>16:25</td>\n",
              "      <td>Tocantins</td>\n",
              "      <td>2</td>\n",
              "      <td>0</td>\n",
              "      <td>0</td>\n",
              "    </tr>\n",
              "    <tr>\n",
              "      <th>582</th>\n",
              "      <td>2020-03-15</td>\n",
              "      <td>19:15</td>\n",
              "      <td>Tocantins</td>\n",
              "      <td>3</td>\n",
              "      <td>0</td>\n",
              "      <td>0</td>\n",
              "    </tr>\n",
              "    <tr>\n",
              "      <th>530</th>\n",
              "      <td>2020-03-13</td>\n",
              "      <td>15:45</td>\n",
              "      <td>Tocantins</td>\n",
              "      <td>2</td>\n",
              "      <td>0</td>\n",
              "      <td>0</td>\n",
              "    </tr>\n",
              "  </tbody>\n",
              "</table>\n",
              "<p>630 rows × 6 columns</p>\n",
              "</div>"
            ],
            "text/plain": [
              "           date   hour      state  suspects  refuses  cases\n",
              "455  2020-03-10  16:05       Acre         3        0      0\n",
              "577  2020-03-15  19:15       Acre         3        0      0\n",
              "527  2020-03-13  15:45       Acre         3        0      0\n",
              "503  2020-03-12  16:20       Acre         3        0      0\n",
              "479  2020-03-11  16:45       Acre         3        0      0\n",
              "..          ...    ...        ...       ...      ...    ...\n",
              "17   2020-02-01  12:00  São Paulo         8        2      0\n",
              "609  2020-03-16  15:50  Tocantins         3        0      0\n",
              "555  2020-03-14  16:25  Tocantins         2        0      0\n",
              "582  2020-03-15  19:15  Tocantins         3        0      0\n",
              "530  2020-03-13  15:45  Tocantins         2        0      0\n",
              "\n",
              "[630 rows x 6 columns]"
            ]
          },
          "metadata": {
            "tags": []
          },
          "execution_count": 3
        }
      ]
    },
    {
      "cell_type": "markdown",
      "metadata": {
        "id": "If-qMFiIxaUB",
        "colab_type": "text"
      },
      "source": [
        "**Dataset mundial**"
      ]
    },
    {
      "cell_type": "code",
      "metadata": {
        "id": "eOVm3WjqyBOA",
        "colab_type": "code",
        "outputId": "4fce2322-fa03-41a3-a670-ad22558603b2",
        "colab": {
          "base_uri": "https://localhost:8080/",
          "height": 197
        }
      },
      "source": [
        "full_dataset = pd.read_csv(\"https://raw.githubusercontent.com/vilsonrodrigues/COVID19/master/full_data.csv\")\n",
        "full_dataset.head()"
      ],
      "execution_count": 0,
      "outputs": [
        {
          "output_type": "execute_result",
          "data": {
            "text/html": [
              "<div>\n",
              "<style scoped>\n",
              "    .dataframe tbody tr th:only-of-type {\n",
              "        vertical-align: middle;\n",
              "    }\n",
              "\n",
              "    .dataframe tbody tr th {\n",
              "        vertical-align: top;\n",
              "    }\n",
              "\n",
              "    .dataframe thead th {\n",
              "        text-align: right;\n",
              "    }\n",
              "</style>\n",
              "<table border=\"1\" class=\"dataframe\">\n",
              "  <thead>\n",
              "    <tr style=\"text-align: right;\">\n",
              "      <th></th>\n",
              "      <th>date</th>\n",
              "      <th>location</th>\n",
              "      <th>new_cases</th>\n",
              "      <th>new_deaths</th>\n",
              "      <th>total_cases</th>\n",
              "      <th>total_deaths</th>\n",
              "    </tr>\n",
              "  </thead>\n",
              "  <tbody>\n",
              "    <tr>\n",
              "      <th>0</th>\n",
              "      <td>2020-02-25</td>\n",
              "      <td>Afghanistan</td>\n",
              "      <td>NaN</td>\n",
              "      <td>NaN</td>\n",
              "      <td>1.0</td>\n",
              "      <td>NaN</td>\n",
              "    </tr>\n",
              "    <tr>\n",
              "      <th>1</th>\n",
              "      <td>2020-02-26</td>\n",
              "      <td>Afghanistan</td>\n",
              "      <td>0.0</td>\n",
              "      <td>NaN</td>\n",
              "      <td>1.0</td>\n",
              "      <td>NaN</td>\n",
              "    </tr>\n",
              "    <tr>\n",
              "      <th>2</th>\n",
              "      <td>2020-02-27</td>\n",
              "      <td>Afghanistan</td>\n",
              "      <td>0.0</td>\n",
              "      <td>NaN</td>\n",
              "      <td>1.0</td>\n",
              "      <td>NaN</td>\n",
              "    </tr>\n",
              "    <tr>\n",
              "      <th>3</th>\n",
              "      <td>2020-02-28</td>\n",
              "      <td>Afghanistan</td>\n",
              "      <td>0.0</td>\n",
              "      <td>NaN</td>\n",
              "      <td>1.0</td>\n",
              "      <td>NaN</td>\n",
              "    </tr>\n",
              "    <tr>\n",
              "      <th>4</th>\n",
              "      <td>2020-02-29</td>\n",
              "      <td>Afghanistan</td>\n",
              "      <td>0.0</td>\n",
              "      <td>NaN</td>\n",
              "      <td>1.0</td>\n",
              "      <td>NaN</td>\n",
              "    </tr>\n",
              "  </tbody>\n",
              "</table>\n",
              "</div>"
            ],
            "text/plain": [
              "         date     location  new_cases  new_deaths  total_cases  total_deaths\n",
              "0  2020-02-25  Afghanistan        NaN         NaN          1.0           NaN\n",
              "1  2020-02-26  Afghanistan        0.0         NaN          1.0           NaN\n",
              "2  2020-02-27  Afghanistan        0.0         NaN          1.0           NaN\n",
              "3  2020-02-28  Afghanistan        0.0         NaN          1.0           NaN\n",
              "4  2020-02-29  Afghanistan        0.0         NaN          1.0           NaN"
            ]
          },
          "metadata": {
            "tags": []
          },
          "execution_count": 4
        }
      ]
    },
    {
      "cell_type": "markdown",
      "metadata": {
        "id": "WYuWrZqSyuba",
        "colab_type": "text"
      },
      "source": [
        "**Dataset do Rio Grande do Norte Montando Por Mim**"
      ]
    },
    {
      "cell_type": "code",
      "metadata": {
        "id": "oxmwiB70y2eK",
        "colab_type": "code",
        "colab": {
          "base_uri": "https://localhost:8080/",
          "height": 0
        },
        "outputId": "8e184915-0004-407d-c378-9ddbdfaa73cb"
      },
      "source": [
        "data_RN = pd.read_csv(\"https://raw.githubusercontent.com/vilsonrodrigues/COVID19/master/rn-covid19.csv\",encoding=\"iso-8859-1\")\n",
        "data_RN.tail(2)"
      ],
      "execution_count": 102,
      "outputs": [
        {
          "output_type": "execute_result",
          "data": {
            "text/html": [
              "<div>\n",
              "<style scoped>\n",
              "    .dataframe tbody tr th:only-of-type {\n",
              "        vertical-align: middle;\n",
              "    }\n",
              "\n",
              "    .dataframe tbody tr th {\n",
              "        vertical-align: top;\n",
              "    }\n",
              "\n",
              "    .dataframe thead th {\n",
              "        text-align: right;\n",
              "    }\n",
              "</style>\n",
              "<table border=\"1\" class=\"dataframe\">\n",
              "  <thead>\n",
              "    <tr style=\"text-align: right;\">\n",
              "      <th></th>\n",
              "      <th>date</th>\n",
              "      <th>state</th>\n",
              "      <th>city</th>\n",
              "      <th>full_suspects</th>\n",
              "      <th>full_cases</th>\n",
              "      <th>full_deaths</th>\n",
              "    </tr>\n",
              "  </thead>\n",
              "  <tbody>\n",
              "    <tr>\n",
              "      <th>57</th>\n",
              "      <td>2020-03-20</td>\n",
              "      <td>RN</td>\n",
              "      <td>São Miguel do Gostoso</td>\n",
              "      <td>1</td>\n",
              "      <td>0</td>\n",
              "      <td>0</td>\n",
              "    </tr>\n",
              "    <tr>\n",
              "      <th>58</th>\n",
              "      <td>2020-03-20</td>\n",
              "      <td>RN</td>\n",
              "      <td>Tibau do Sul</td>\n",
              "      <td>1</td>\n",
              "      <td>0</td>\n",
              "      <td>0</td>\n",
              "    </tr>\n",
              "  </tbody>\n",
              "</table>\n",
              "</div>"
            ],
            "text/plain": [
              "          date state  ... full_cases  full_deaths\n",
              "57  2020-03-20    RN  ...          0            0\n",
              "58  2020-03-20    RN  ...          0            0\n",
              "\n",
              "[2 rows x 6 columns]"
            ]
          },
          "metadata": {
            "tags": []
          },
          "execution_count": 102
        }
      ]
    },
    {
      "cell_type": "markdown",
      "metadata": {
        "id": "tnR67j9f89VE",
        "colab_type": "text"
      },
      "source": [
        "Renomeando colunas para manter a padronização com os dados do dataset brasileiro"
      ]
    },
    {
      "cell_type": "code",
      "metadata": {
        "id": "RTfxUr-09DA5",
        "colab_type": "code",
        "colab": {}
      },
      "source": [
        "#full_dataset.rename(columns={\"new_cases\":\"cases\",\"new_deaths\":\"deaths\"},inplace=True)"
      ],
      "execution_count": 0,
      "outputs": []
    },
    {
      "cell_type": "markdown",
      "metadata": {
        "id": "k4_0pztgyyM1",
        "colab_type": "text"
      },
      "source": [
        "Todos os países presentes no dataset"
      ]
    },
    {
      "cell_type": "code",
      "metadata": {
        "id": "L8TLL3iByzId",
        "colab_type": "code",
        "outputId": "8c8cb6cc-a500-4202-ad2e-669b1bbd6970",
        "colab": {
          "base_uri": "https://localhost:8080/",
          "height": 585
        }
      },
      "source": [
        "full_dataset[\"location\"].unique()"
      ],
      "execution_count": 0,
      "outputs": [
        {
          "output_type": "execute_result",
          "data": {
            "text/plain": [
              "array(['Afghanistan', 'Albania', 'Algeria', 'Andorra',\n",
              "       'Antigua and Barbuda', 'Argentina', 'Armenia', 'Australia',\n",
              "       'Austria', 'Azerbaijan', 'Bahrain', 'Bangladesh', 'Belarus',\n",
              "       'Belgium', 'Bhutan', 'Bolivia', 'Bosnia and Herzegovina', 'Brazil',\n",
              "       'Brunei', 'Bulgaria', 'Burkina Faso', 'Cambodia', 'Cameroon',\n",
              "       'Canada', 'Cayman Islands', 'Central African Republic', 'Chile',\n",
              "       'China', 'Colombia', 'Congo', 'Costa Rica', 'Croatia', 'Cuba',\n",
              "       'Curacao', 'Cyprus', 'Czech Republic', \"Cote d'Ivoire\",\n",
              "       'Democratic Republic of Congo', 'Denmark', 'Dominican Republic',\n",
              "       'Ecuador', 'Egypt', 'Equatorial Guinea', 'Estonia', 'Swaziland',\n",
              "       'Ethiopia', 'Faeroe Islands', 'Finland', 'France', 'French Guiana',\n",
              "       'French Polynesia', 'Gabon', 'Georgia', 'Germany', 'Ghana',\n",
              "       'Gibraltar', 'Greece', 'Guadeloupe', 'Guatemala', 'Guernsey',\n",
              "       'Guinea', 'Guyana', 'Vatican', 'Honduras', 'Hungary', 'Iceland',\n",
              "       'India', 'Indonesia', 'International', 'Iran', 'Iraq', 'Ireland',\n",
              "       'Israel', 'Italy', 'Jamaica', 'Japan', 'Jersey', 'Jordan',\n",
              "       'Kazakhstan', 'Kenya', 'Kuwait', 'Latvia', 'Lebanon',\n",
              "       'Liechtenstein', 'Lithuania', 'Luxembourg', 'Malaysia', 'Maldives',\n",
              "       'Malta', 'Martinique', 'Mauritania', 'Mayotte', 'Mexico', 'Monaco',\n",
              "       'Mongolia', 'Morocco', 'Namibia', 'Nepal', 'Netherlands',\n",
              "       'New Zealand', 'Nigeria', 'Macedonia', 'Norway', 'Palestine',\n",
              "       'Oman', 'Pakistan', 'Panama', 'Paraguay', 'Peru', 'Philippines',\n",
              "       'Poland', 'Portugal', 'Puerto Rico', 'Qatar', 'South Korea',\n",
              "       'Moldova', 'Romania', 'Russia', 'Rwanda', 'Reunion',\n",
              "       'Saint Barthlemy', 'Saint Lucia', 'Saint Martin (French part)',\n",
              "       'Saint Vincent and the Grenadines', 'San Marino', 'Saudi Arabia',\n",
              "       'Senegal', 'Serbia', 'Seychelles', 'Singapore', 'Slovakia',\n",
              "       'Slovenia', 'South Africa', 'Spain', 'Sri Lanka', 'Sudan',\n",
              "       'Suriname', 'Sweden', 'Switzerland', 'Thailand', 'United Kingdom',\n",
              "       'Togo', 'Trinidad and Tobago', 'Tunisia', 'Turkey', 'Ukraine',\n",
              "       'United Arab Emirates', 'United States', 'Uruguay', 'Uzbekistan',\n",
              "       'Venezuela', 'Vietnam', 'World'], dtype=object)"
            ]
          },
          "metadata": {
            "tags": []
          },
          "execution_count": 6
        }
      ]
    },
    {
      "cell_type": "markdown",
      "metadata": {
        "id": "YlqjfddBy6IH",
        "colab_type": "text"
      },
      "source": [
        "Dados dos EUA, China, Italia, França e Espanha"
      ]
    },
    {
      "cell_type": "code",
      "metadata": {
        "id": "e5olK2cbyi68",
        "colab_type": "code",
        "colab": {}
      },
      "source": [
        "data_US    = full_dataset.loc[full_dataset[\"location\"] == \"United States\"]\n",
        "data_China = full_dataset.loc[full_dataset[\"location\"] == \"China\"]\n",
        "data_Esp   = full_dataset.loc[full_dataset[\"location\"] == \"Spain\"]\n",
        "data_Fran  = full_dataset.loc[full_dataset[\"location\"] == \"France\"]\n",
        "data_Ita   = full_dataset.loc[full_dataset[\"location\"] == \"Italy\"]"
      ],
      "execution_count": 0,
      "outputs": []
    },
    {
      "cell_type": "code",
      "metadata": {
        "id": "Ue7-o48p6V-d",
        "colab_type": "code",
        "outputId": "3adba470-95bd-4d48-f0b7-95f79b97a8aa",
        "colab": {
          "base_uri": "https://localhost:8080/",
          "height": 197
        }
      },
      "source": [
        "data_Ita.head()"
      ],
      "execution_count": 0,
      "outputs": [
        {
          "output_type": "execute_result",
          "data": {
            "text/html": [
              "<div>\n",
              "<style scoped>\n",
              "    .dataframe tbody tr th:only-of-type {\n",
              "        vertical-align: middle;\n",
              "    }\n",
              "\n",
              "    .dataframe tbody tr th {\n",
              "        vertical-align: top;\n",
              "    }\n",
              "\n",
              "    .dataframe thead th {\n",
              "        text-align: right;\n",
              "    }\n",
              "</style>\n",
              "<table border=\"1\" class=\"dataframe\">\n",
              "  <thead>\n",
              "    <tr style=\"text-align: right;\">\n",
              "      <th></th>\n",
              "      <th>date</th>\n",
              "      <th>location</th>\n",
              "      <th>new_cases</th>\n",
              "      <th>new_deaths</th>\n",
              "      <th>total_cases</th>\n",
              "      <th>total_deaths</th>\n",
              "    </tr>\n",
              "  </thead>\n",
              "  <tbody>\n",
              "    <tr>\n",
              "      <th>1187</th>\n",
              "      <td>2020-01-31</td>\n",
              "      <td>Italy</td>\n",
              "      <td>NaN</td>\n",
              "      <td>NaN</td>\n",
              "      <td>2.0</td>\n",
              "      <td>NaN</td>\n",
              "    </tr>\n",
              "    <tr>\n",
              "      <th>1188</th>\n",
              "      <td>2020-02-01</td>\n",
              "      <td>Italy</td>\n",
              "      <td>0.0</td>\n",
              "      <td>NaN</td>\n",
              "      <td>2.0</td>\n",
              "      <td>NaN</td>\n",
              "    </tr>\n",
              "    <tr>\n",
              "      <th>1189</th>\n",
              "      <td>2020-02-02</td>\n",
              "      <td>Italy</td>\n",
              "      <td>0.0</td>\n",
              "      <td>NaN</td>\n",
              "      <td>2.0</td>\n",
              "      <td>NaN</td>\n",
              "    </tr>\n",
              "    <tr>\n",
              "      <th>1190</th>\n",
              "      <td>2020-02-03</td>\n",
              "      <td>Italy</td>\n",
              "      <td>0.0</td>\n",
              "      <td>NaN</td>\n",
              "      <td>2.0</td>\n",
              "      <td>NaN</td>\n",
              "    </tr>\n",
              "    <tr>\n",
              "      <th>1191</th>\n",
              "      <td>2020-02-04</td>\n",
              "      <td>Italy</td>\n",
              "      <td>0.0</td>\n",
              "      <td>NaN</td>\n",
              "      <td>2.0</td>\n",
              "      <td>NaN</td>\n",
              "    </tr>\n",
              "  </tbody>\n",
              "</table>\n",
              "</div>"
            ],
            "text/plain": [
              "            date location  new_cases  new_deaths  total_cases  total_deaths\n",
              "1187  2020-01-31    Italy        NaN         NaN          2.0           NaN\n",
              "1188  2020-02-01    Italy        0.0         NaN          2.0           NaN\n",
              "1189  2020-02-02    Italy        0.0         NaN          2.0           NaN\n",
              "1190  2020-02-03    Italy        0.0         NaN          2.0           NaN\n",
              "1191  2020-02-04    Italy        0.0         NaN          2.0           NaN"
            ]
          },
          "metadata": {
            "tags": []
          },
          "execution_count": 8
        }
      ]
    },
    {
      "cell_type": "code",
      "metadata": {
        "id": "hkkl59Pg1ULX",
        "colab_type": "code",
        "outputId": "0a9b2115-6874-464c-d326-03077b5a7875",
        "colab": {
          "base_uri": "https://localhost:8080/",
          "height": 212
        }
      },
      "source": [
        "data_Ita.info()"
      ],
      "execution_count": 0,
      "outputs": [
        {
          "output_type": "stream",
          "text": [
            "<class 'pandas.core.frame.DataFrame'>\n",
            "Int64Index: 46 entries, 1187 to 1232\n",
            "Data columns (total 6 columns):\n",
            "date            46 non-null object\n",
            "location        46 non-null object\n",
            "new_cases       45 non-null float64\n",
            "new_deaths      22 non-null float64\n",
            "total_cases     46 non-null float64\n",
            "total_deaths    23 non-null float64\n",
            "dtypes: float64(4), object(2)\n",
            "memory usage: 2.5+ KB\n"
          ],
          "name": "stdout"
        }
      ]
    },
    {
      "cell_type": "markdown",
      "metadata": {
        "id": "dltJE8ET2KRz",
        "colab_type": "text"
      },
      "source": [
        "Função geradora de index"
      ]
    },
    {
      "cell_type": "code",
      "metadata": {
        "id": "OaxCEtiL2JYq",
        "colab_type": "code",
        "colab": {}
      },
      "source": [
        "def geraIndex(data_agrupado):\n",
        "\n",
        "  #Cria dias acumulados, forma de referenciar os dias corridos\n",
        "  data_agrupado[\"index\"] = pd.RangeIndex(1,len(data_agrupado[\"date\"])+1)\n",
        "\n",
        "  #Limpa valores ausentes\n",
        "  data_agrupado.fillna(0, inplace = True)\n",
        "\n",
        "  return data_agrupado"
      ],
      "execution_count": 0,
      "outputs": []
    },
    {
      "cell_type": "markdown",
      "metadata": {
        "id": "p51haqXUDGm1",
        "colab_type": "text"
      },
      "source": [
        "Funções para acumular os dados, similar a Fibonnaci"
      ]
    },
    {
      "cell_type": "code",
      "metadata": {
        "id": "z3aRKAxICn_j",
        "colab_type": "code",
        "colab": {}
      },
      "source": [
        "def agrupaEAcumulaCamposBrasil(data_agrupado):\n",
        "  data_agrupado[\"suspeitas_acumuladas\"] = data_agrupado[\"suspects\"].cumsum()\n",
        "  data_agrupado[\"casos_acumulados\"] = data_agrupado[\"cases\"].cumsum()\n",
        "  data_agrupado[\"negados_acumulados\"] = data_agrupado[\"refuses\"].cumsum()\n",
        "\n",
        "  return data_agrupado"
      ],
      "execution_count": 0,
      "outputs": []
    },
    {
      "cell_type": "code",
      "metadata": {
        "id": "1hyANBmED0ug",
        "colab_type": "code",
        "colab": {}
      },
      "source": [
        "def agrupaEAcumulaCamposMundo(data_agrupado):  \n",
        "  data_agrupado[\"novas_mortes_acumuladas\"] = data_agrupado[\"new_deaths\"].cumsum()\n",
        "  data_agrupado[\"novos_casos_acumulados\"] = data_agrupado[\"new_cases\"].cumsum()\n",
        "  data_agrupado[\"casos_totais_acumulados\"] = data_agrupado[\"total_cases\"].cumsum()\n",
        "  data_agrupado[\"mortes_totais_acumuladas\"] = data_agrupado[\"total_deaths\"].cumsum()\n",
        "\n",
        "  return data_agrupado"
      ],
      "execution_count": 0,
      "outputs": []
    },
    {
      "cell_type": "markdown",
      "metadata": {
        "id": "3OuntBdIwlup",
        "colab_type": "text"
      },
      "source": [
        "Funções para agrupar os casos por dia e somar, e depois acumular os casos"
      ]
    },
    {
      "cell_type": "code",
      "metadata": {
        "id": "kaeXxBQiC9Sd",
        "colab_type": "code",
        "colab": {}
      },
      "source": [
        "def agrupaPorDataBrazil(data):\n",
        "  data_agrupado = data.groupby([\"date\"])[[\"suspects\",\"refuses\",\"cases\"]].sum().reset_index()\n",
        "  data_agrupado = agrupaEAcumulaCamposBrasil(data_agrupado)\n",
        "  data_agrupado = geraIndex(data_agrupado)\n",
        "  return data_agrupado"
      ],
      "execution_count": 0,
      "outputs": []
    },
    {
      "cell_type": "code",
      "metadata": {
        "id": "-th-56t4CQWd",
        "colab_type": "code",
        "colab": {}
      },
      "source": [
        "def agrupaPorEstadosDoBrasil(data):\n",
        "  data_agrupado = data.groupby([\"date\",\"state\"])[[\"suspects\",\"refuses\",\"cases\"]].sum().reset_index()\n",
        "  #data_agrupado = agrupaEAcumulaCamposBrasil(data_agrupado)\n",
        "  #data_agrupado = geraIndex(data_agrupado)\n",
        "  data_agrupado = data_agrupado.sort_values([\"state\",\"date\"])\n",
        "  return data_agrupado"
      ],
      "execution_count": 0,
      "outputs": []
    },
    {
      "cell_type": "code",
      "metadata": {
        "id": "dO4GIQLODwca",
        "colab_type": "code",
        "colab": {}
      },
      "source": [
        "def agrupaPorDataMundo(data):\n",
        "  data_agrupado = data.groupby([\"date\"])[[\"new_cases\",\"new_deaths\",\"total_cases\",\"total_deaths\"]].sum().reset_index()\n",
        "  data_agrupado = agrupaEAcumulaCamposMundo(data_agrupado)\n",
        "  data_agrupado = geraIndex(data_agrupado)\n",
        "  return data_agrupado"
      ],
      "execution_count": 0,
      "outputs": []
    },
    {
      "cell_type": "markdown",
      "metadata": {
        "id": "aUymecGn3C_9",
        "colab_type": "text"
      },
      "source": [
        "Chamada das funções de transformação do dataset"
      ]
    },
    {
      "cell_type": "code",
      "metadata": {
        "id": "VQd5mCy2A9MO",
        "colab_type": "code",
        "colab": {}
      },
      "source": [
        "data_Brazil = agrupaPorDataBrazil(data_brazil)\n",
        "data_Estados_Brazil = agrupaPorEstadosDoBrasil(data_brazil)"
      ],
      "execution_count": 0,
      "outputs": []
    },
    {
      "cell_type": "code",
      "metadata": {
        "id": "REVRhggt3Wcy",
        "colab_type": "code",
        "colab": {}
      },
      "source": [
        "data_China  = agrupaPorDataMundo(data_China)\n",
        "data_Ita    = agrupaPorDataMundo(data_Ita)\n",
        "data_Fran   = agrupaPorDataMundo(data_Fran)\n",
        "data_US     = agrupaPorDataMundo(data_US)\n",
        "data_Esp    = agrupaPorDataMundo(data_Esp)"
      ],
      "execution_count": 0,
      "outputs": []
    },
    {
      "cell_type": "code",
      "metadata": {
        "id": "tXIox5uWR4NV",
        "colab_type": "code",
        "outputId": "49124ac5-e187-469e-8ef5-29037d74722c",
        "colab": {
          "base_uri": "https://localhost:8080/",
          "height": 107
        }
      },
      "source": [
        "data_Ita.head(2)"
      ],
      "execution_count": 0,
      "outputs": [
        {
          "output_type": "execute_result",
          "data": {
            "text/html": [
              "<div>\n",
              "<style scoped>\n",
              "    .dataframe tbody tr th:only-of-type {\n",
              "        vertical-align: middle;\n",
              "    }\n",
              "\n",
              "    .dataframe tbody tr th {\n",
              "        vertical-align: top;\n",
              "    }\n",
              "\n",
              "    .dataframe thead th {\n",
              "        text-align: right;\n",
              "    }\n",
              "</style>\n",
              "<table border=\"1\" class=\"dataframe\">\n",
              "  <thead>\n",
              "    <tr style=\"text-align: right;\">\n",
              "      <th></th>\n",
              "      <th>date</th>\n",
              "      <th>new_cases</th>\n",
              "      <th>new_deaths</th>\n",
              "      <th>total_cases</th>\n",
              "      <th>total_deaths</th>\n",
              "      <th>novas_mortes_acumuladas</th>\n",
              "      <th>novos_casos_acumulados</th>\n",
              "      <th>casos_totais_acumulados</th>\n",
              "      <th>mortes_totais_acumuladas</th>\n",
              "      <th>index</th>\n",
              "    </tr>\n",
              "  </thead>\n",
              "  <tbody>\n",
              "    <tr>\n",
              "      <th>0</th>\n",
              "      <td>2020-01-31</td>\n",
              "      <td>0.0</td>\n",
              "      <td>0.0</td>\n",
              "      <td>2.0</td>\n",
              "      <td>0.0</td>\n",
              "      <td>0.0</td>\n",
              "      <td>0.0</td>\n",
              "      <td>2.0</td>\n",
              "      <td>0.0</td>\n",
              "      <td>1</td>\n",
              "    </tr>\n",
              "    <tr>\n",
              "      <th>1</th>\n",
              "      <td>2020-02-01</td>\n",
              "      <td>0.0</td>\n",
              "      <td>0.0</td>\n",
              "      <td>2.0</td>\n",
              "      <td>0.0</td>\n",
              "      <td>0.0</td>\n",
              "      <td>0.0</td>\n",
              "      <td>4.0</td>\n",
              "      <td>0.0</td>\n",
              "      <td>2</td>\n",
              "    </tr>\n",
              "  </tbody>\n",
              "</table>\n",
              "</div>"
            ],
            "text/plain": [
              "         date  new_cases  ...  mortes_totais_acumuladas  index\n",
              "0  2020-01-31        0.0  ...                       0.0      1\n",
              "1  2020-02-01        0.0  ...                       0.0      2\n",
              "\n",
              "[2 rows x 10 columns]"
            ]
          },
          "metadata": {
            "tags": []
          },
          "execution_count": 18
        }
      ]
    },
    {
      "cell_type": "code",
      "metadata": {
        "id": "M-tYiaINe68-",
        "colab_type": "code",
        "outputId": "25943f47-0404-4afc-b691-5cea7507b7a2",
        "colab": {
          "base_uri": "https://localhost:8080/",
          "height": 107
        }
      },
      "source": [
        "data_Brazil.head(2)"
      ],
      "execution_count": 0,
      "outputs": [
        {
          "output_type": "execute_result",
          "data": {
            "text/html": [
              "<div>\n",
              "<style scoped>\n",
              "    .dataframe tbody tr th:only-of-type {\n",
              "        vertical-align: middle;\n",
              "    }\n",
              "\n",
              "    .dataframe tbody tr th {\n",
              "        vertical-align: top;\n",
              "    }\n",
              "\n",
              "    .dataframe thead th {\n",
              "        text-align: right;\n",
              "    }\n",
              "</style>\n",
              "<table border=\"1\" class=\"dataframe\">\n",
              "  <thead>\n",
              "    <tr style=\"text-align: right;\">\n",
              "      <th></th>\n",
              "      <th>date</th>\n",
              "      <th>suspects</th>\n",
              "      <th>refuses</th>\n",
              "      <th>cases</th>\n",
              "      <th>suspeitas_acumuladas</th>\n",
              "      <th>casos_acumulados</th>\n",
              "      <th>negados_acumulados</th>\n",
              "      <th>index</th>\n",
              "    </tr>\n",
              "  </thead>\n",
              "  <tbody>\n",
              "    <tr>\n",
              "      <th>0</th>\n",
              "      <td>2020-01-30</td>\n",
              "      <td>9</td>\n",
              "      <td>6</td>\n",
              "      <td>0</td>\n",
              "      <td>9</td>\n",
              "      <td>0</td>\n",
              "      <td>6</td>\n",
              "      <td>1</td>\n",
              "    </tr>\n",
              "    <tr>\n",
              "      <th>1</th>\n",
              "      <td>2020-01-31</td>\n",
              "      <td>13</td>\n",
              "      <td>9</td>\n",
              "      <td>0</td>\n",
              "      <td>22</td>\n",
              "      <td>0</td>\n",
              "      <td>15</td>\n",
              "      <td>2</td>\n",
              "    </tr>\n",
              "  </tbody>\n",
              "</table>\n",
              "</div>"
            ],
            "text/plain": [
              "         date  suspects  refuses  ...  casos_acumulados  negados_acumulados  index\n",
              "0  2020-01-30         9        6  ...                 0                   6      1\n",
              "1  2020-01-31        13        9  ...                 0                  15      2\n",
              "\n",
              "[2 rows x 8 columns]"
            ]
          },
          "metadata": {
            "tags": []
          },
          "execution_count": 19
        }
      ]
    },
    {
      "cell_type": "code",
      "metadata": {
        "id": "L2wBc03kH6_S",
        "colab_type": "code",
        "outputId": "f88da5ca-9c30-4a92-bd1d-0211a555db20",
        "colab": {
          "base_uri": "https://localhost:8080/",
          "height": 107
        }
      },
      "source": [
        "data_Estados_Brazil.head(2)"
      ],
      "execution_count": 0,
      "outputs": [
        {
          "output_type": "execute_result",
          "data": {
            "text/html": [
              "<div>\n",
              "<style scoped>\n",
              "    .dataframe tbody tr th:only-of-type {\n",
              "        vertical-align: middle;\n",
              "    }\n",
              "\n",
              "    .dataframe tbody tr th {\n",
              "        vertical-align: top;\n",
              "    }\n",
              "\n",
              "    .dataframe thead th {\n",
              "        text-align: right;\n",
              "    }\n",
              "</style>\n",
              "<table border=\"1\" class=\"dataframe\">\n",
              "  <thead>\n",
              "    <tr style=\"text-align: right;\">\n",
              "      <th></th>\n",
              "      <th>date</th>\n",
              "      <th>state</th>\n",
              "      <th>suspects</th>\n",
              "      <th>refuses</th>\n",
              "      <th>cases</th>\n",
              "    </tr>\n",
              "  </thead>\n",
              "  <tbody>\n",
              "    <tr>\n",
              "      <th>439</th>\n",
              "      <td>2020-03-10</td>\n",
              "      <td>Acre</td>\n",
              "      <td>3</td>\n",
              "      <td>0</td>\n",
              "      <td>0</td>\n",
              "    </tr>\n",
              "    <tr>\n",
              "      <th>463</th>\n",
              "      <td>2020-03-11</td>\n",
              "      <td>Acre</td>\n",
              "      <td>3</td>\n",
              "      <td>0</td>\n",
              "      <td>0</td>\n",
              "    </tr>\n",
              "  </tbody>\n",
              "</table>\n",
              "</div>"
            ],
            "text/plain": [
              "           date state  suspects  refuses  cases\n",
              "439  2020-03-10  Acre         3        0      0\n",
              "463  2020-03-11  Acre         3        0      0"
            ]
          },
          "metadata": {
            "tags": []
          },
          "execution_count": 20
        }
      ]
    },
    {
      "cell_type": "markdown",
      "metadata": {
        "id": "ExJKnbpQ3OpM",
        "colab_type": "text"
      },
      "source": [
        "###Visualização Gráfica"
      ]
    },
    {
      "cell_type": "code",
      "metadata": {
        "id": "703d0jooKe8G",
        "colab_type": "code",
        "outputId": "d817c03d-fb77-47c1-af09-e2be9e10a6ed",
        "colab": {
          "base_uri": "https://localhost:8080/",
          "height": 577
        }
      },
      "source": [
        "fig = plt.figure()\n",
        "axes = fig.add_axes([0.1,0.1,1.5,1.5])#[left, bottom, width, height]\n",
        "axes.plot(\"date\",\"cases\",data = data_Estados_Brazil.loc[data_Estados_Brazil[\"state\"] == \"Rio Grande do Norte\"],c=\"r\",label=\"Novos Casos\")\n",
        "axes.plot(\"date\",\"suspects\",data = data_Estados_Brazil.loc[data_Estados_Brazil[\"state\"] == \"Rio Grande do Norte\"],c=\"b\",label=\"Novas Suspeitas\")\n",
        "#Titulo\n",
        "plt.title(\"Número de Novos Casos Confirmados e Suspeitos do COVID19 por Dias Corridos no Rio Grande do Norte\")\n",
        "plt.suptitle(\"Elaborado por Vilson Rodrigues\",x=1.39,y=-0.20)\n",
        "#Eixos\n",
        "plt.xlabel(\"Datas\")\n",
        "plt.ylabel(\"Quantidade de Ocorrências\")\n",
        "axes.legend(loc=\"upper left\")\n",
        "plt.xticks(rotation=90, ha='right')#rotacionar labels\n",
        "plt.show()\n",
        "#plt.savefig(\"figura1.jpg\",dpi=1000)"
      ],
      "execution_count": 0,
      "outputs": [
        {
          "output_type": "display_data",
          "data": {
            "image/png": "[encoded data removed]",
            "text/plain": [
              "<Figure size 432x288 with 1 Axes>"
            ]
          },
          "metadata": {
            "tags": []
          }
        }
      ]
    },
    {
      "cell_type": "code",
      "metadata": {
        "id": "pu1zhioJZP7c",
        "colab_type": "code",
        "outputId": "51fc1d2f-54fc-4f1d-b1f5-0e96a864c329",
        "colab": {
          "base_uri": "https://localhost:8080/",
          "height": 521
        }
      },
      "source": [
        "fig = plt.figure()\n",
        "axes = fig.add_axes([0.1,0.1,1.5,1.5])#[left, bottom, width, height]\n",
        "\n",
        "axes.plot(\"index\",\"cases\",data=data_Brazil,c=\"r\",label=\"Novos Casos\")\n",
        "axes.plot(\"index\",\"suspects\",data=data_Brazil,c=\"b\",label=\"Novas Suspeitas\")\n",
        "#Titulo\n",
        "plt.title(\"Número de Novos Casos Confirmados e Suspeitos do COVID19 por Dias Corridos no Brasil\")\n",
        "plt.suptitle(\"Elaborado por Vilson Rodrigues\",x=1.39,y=0)\n",
        "#Eixos\n",
        "plt.xlabel(\"Dias Corridos\")\n",
        "plt.ylabel(\"Quantidade de Ocorrências\")\n",
        "axes.legend(loc=\"upper left\")\n",
        "plt.show()\n",
        "#plt.savefig(\"figura1.jpg\",dpi=1000)"
      ],
      "execution_count": 0,
      "outputs": [
        {
          "output_type": "display_data",
          "data": {
            "image/png": "[encoded data removed]",
            "text/plain": [
              "<Figure size 432x288 with 1 Axes>"
            ]
          },
          "metadata": {
            "tags": []
          }
        }
      ]
    },
    {
      "cell_type": "code",
      "metadata": {
        "id": "BPP4UjPtWELL",
        "colab_type": "code",
        "outputId": "ae2e34c4-f4a3-4766-d211-c65db8763637",
        "colab": {
          "base_uri": "https://localhost:8080/",
          "height": 521
        }
      },
      "source": [
        "fig = plt.figure()\n",
        "axes = fig.add_axes([0.1,0.1,1.5,1.5])#[left, bottom, width, height]\n",
        "\n",
        "#axes.plot(\"index\",\"casos_confirmados_acumulados\",data=data_Brazil.iloc[:45],c=\"#00FF7F\",label=\"Brazil\")\n",
        "axes.plot(\"index\",\"new_deaths\",data=data_Ita,c=\"#00FFFF\",label=\"Italia\")\n",
        "axes.plot(\"index\",\"new_deaths\",data=data_Fran,c=\"#DAA520\",label=\"França\")\n",
        "axes.plot(\"index\",\"new_deaths\",data=data_China,c=\"#9400D3\",label=\"China\")\n",
        "axes.plot(\"index\",\"new_deaths\",data=data_US,c=\"#00FF00\",label=\"Estados Unidos\")\n",
        "axes.plot(\"index\",\"new_deaths\",data=data_Esp,c=\"#FF4500\",label=\"Espanha\")\n",
        "\n",
        "#Titulo\n",
        "plt.title(\"Número de Novas Mortes Causadas pelo COVID19 por Dias Corridos\")\n",
        "plt.suptitle(\"Elaborado por Vilson Rodrigues\",x=1.39,y=0)\n",
        "#Eixos\n",
        "plt.xlabel(\"Dias Corridos\")\n",
        "plt.ylabel(\"Quantidade de Ocorrências\")\n",
        "axes.legend(loc=\"upper left\")\n",
        "plt.show()\n",
        "#plt.savefig(\"figura2.jpg\",dpi=500)"
      ],
      "execution_count": 0,
      "outputs": [
        {
          "output_type": "display_data",
          "data": {
            "image/png": "[encoded data removed]",
            "text/plain": [
              "<Figure size 432x288 with 1 Axes>"
            ]
          },
          "metadata": {
            "tags": []
          }
        }
      ]
    },
    {
      "cell_type": "code",
      "metadata": {
        "id": "VRwWE2JzbuXS",
        "colab_type": "code",
        "outputId": "f37be8c5-3c55-44dc-e7d0-0e092c2dbca7",
        "colab": {
          "base_uri": "https://localhost:8080/",
          "height": 521
        }
      },
      "source": [
        "fig = plt.figure()\n",
        "axes = fig.add_axes([0.1,0.1,1.5,1.5])#[left, bottom, width, height]\n",
        "\n",
        "axes.plot(\"index\",\"new_deaths\",data=data_Ita,c=\"#00FFFF\",label=\"Novas Mortes\")\n",
        "axes.plot(\"index\",\"new_cases\",data=data_Ita,c=\"#000000\",label=\"Novos Casos\")\n",
        "\n",
        "#Titulo\n",
        "plt.title(\"Novas Mortes e Novos Casos causados pelo COVID19 na Itália\")\n",
        "plt.suptitle(\"Elaborado por Vilson Rodrigues\",x=1.39,y=0)\n",
        "#Eixos\n",
        "plt.xlabel(\"Dias Corridos\")\n",
        "plt.ylabel(\"Quantidade de Ocorrências\")\n",
        "axes.legend(loc=\"upper left\")\n",
        "plt.show()\n",
        "#plt.savefig(\"figura2.jpg\",dpi=500)"
      ],
      "execution_count": 0,
      "outputs": [
        {
          "output_type": "display_data",
          "data": {
            "image/png": "[encoded data removed]",
            "text/plain": [
              "<Figure size 432x288 with 1 Axes>"
            ]
          },
          "metadata": {
            "tags": []
          }
        }
      ]
    },
    {
      "cell_type": "code",
      "metadata": {
        "id": "YzRRN1rodbZZ",
        "colab_type": "code",
        "outputId": "96e4c432-715a-4a88-e493-0fe0c96c82db",
        "colab": {
          "base_uri": "https://localhost:8080/",
          "height": 521
        }
      },
      "source": [
        "fig = plt.figure()\n",
        "axes = fig.add_axes([0.1,0.1,1.5,1.5])#[left, bottom, width, height]\n",
        "\n",
        "#axes.plot(\"index\",\"casos_acumulados\",data=data_Brazil.iloc[:45],c=\"#00FF7F\",label=\"Brazil\")\n",
        "axes.plot(\"index\",\"new_cases\",data=data_Ita,c=\"#00FFFF\",label=\"Italia\")\n",
        "axes.plot(\"index\",\"new_cases\",data=data_Fran,c=\"#DAA520\",label=\"França\")\n",
        "#axes.plot(\"index\",\"new_cases\",data=data_China,c=\"#9400D3\",label=\"China\")\n",
        "axes.plot(\"index\",\"new_cases\",data=data_US,c=\"#00FF00\",label=\"Estados Unidos\")\n",
        "axes.plot(\"index\",\"new_cases\",data=data_Esp,c=\"#FF4500\",label=\"Espanha\")\n",
        "\n",
        "#Titulo\n",
        "plt.title(\"Número de Novos Casos Causados pelo COVID19 por dias corridos\")\n",
        "plt.suptitle(\"Elaborado por Vilson Rodrigues\",x=1.39,y=0)\n",
        "#Eixos\n",
        "plt.xlabel(\"Dias Corridos\")\n",
        "plt.ylabel(\"Quantidade de Ocorrências\")\n",
        "axes.legend(loc=\"upper left\")\n",
        "plt.show()\n",
        "#plt.savefig(\"figura2.jpg\",dpi=500)"
      ],
      "execution_count": 0,
      "outputs": [
        {
          "output_type": "display_data",
          "data": {
            "image/png": "[encoded data removed]",
            "text/plain": [
              "<Figure size 432x288 with 1 Axes>"
            ]
          },
          "metadata": {
            "tags": []
          }
        }
      ]
    },
    {
      "cell_type": "code",
      "metadata": {
        "id": "VEzxZ0M_nd1I",
        "colab_type": "code",
        "outputId": "96711810-4952-4313-9ff0-11e1f92f67a5",
        "colab": {
          "base_uri": "https://localhost:8080/",
          "height": 521
        }
      },
      "source": [
        "fig = plt.figure()\n",
        "axes = fig.add_axes([0.1,0.1,1.5,1.5])#[left, bottom, width, height]\n",
        "\n",
        "axes.plot(\"index\",\"cases\",data=data_brazil,c=\"r\",label=\"Brasil\")\n",
        "axes.plot(\"index\",\"new_cases\",data=data_Fran,c=\"b\",label=\"França\")\n",
        "#Titulo\n",
        "plt.title(\"Número de Novos Casos Causados pelo COVID19 no Brasil e na França\")\n",
        "plt.suptitle(\"Elaborado por Vilson Rodrigues\",x=1.39,y=0)\n",
        "#Eixos\n",
        "plt.xlabel(\"Dias Corridos\")\n",
        "plt.ylabel(\"Quantidade de Ocorrências\")\n",
        "axes.legend(loc=\"upper left\")\n",
        "plt.show()\n",
        "#plt.savefig(\"figura1.jpg\",dpi=1000)"
      ],
      "execution_count": 0,
      "outputs": [
        {
          "output_type": "display_data",
          "data": {
            "image/png": "[encoded data removed]",
            "text/plain": [
              "<Figure size 432x288 with 1 Axes>"
            ]
          },
          "metadata": {
            "tags": []
          }
        }
      ]
    },
    {
      "cell_type": "code",
      "metadata": {
        "id": "qYpAlGCJpzu_",
        "colab_type": "code",
        "outputId": "ddf85306-495e-42c0-9677-381e7141b643",
        "colab": {
          "base_uri": "https://localhost:8080/",
          "height": 521
        }
      },
      "source": [
        "fig = plt.figure()\n",
        "axes = fig.add_axes([0.1,0.1,1.5,1.5])#[left, bottom, width, height]\n",
        "\n",
        "axes.plot(\"index\",\"novas_mortes_acumuladas\",data=data_Ita,c=\"#00FFFF\",label=\"Mortes Acumulados por dia\")\n",
        "axes.plot(\"index\",\"novos_casos_acumulados\",data=data_Fran,c=\"#DAA520\",label=\"Casos Acumulados por dia\")\n",
        "\n",
        "#Titulo\n",
        "plt.title(\"Casos e Mortes Acumulados por Dia Causadas pelo COVID19 na Itália\")\n",
        "plt.suptitle(\"Elaborado por Vilson Rodrigues\",x=1.39,y=0)\n",
        "#Eixos\n",
        "plt.xlabel(\"Dias Corridos\")\n",
        "plt.ylabel(\"Quantidade de Ocorrências\")\n",
        "axes.legend(loc=\"upper left\")\n",
        "plt.show()\n",
        "#plt.savefig(\"figura2.jpg\",dpi=500)"
      ],
      "execution_count": 0,
      "outputs": [
        {
          "output_type": "display_data",
          "data": {
            "image/png": "[encoded data removed]",
            "text/plain": [
              "<Figure size 432x288 with 1 Axes>"
            ]
          },
          "metadata": {
            "tags": []
          }
        }
      ]
    },
    {
      "cell_type": "markdown",
      "metadata": {
        "id": "bTNyqNnSkHvz",
        "colab_type": "text"
      },
      "source": [
        "Fazendo anotações"
      ]
    },
    {
      "cell_type": "code",
      "metadata": {
        "id": "bnVspx8ikGIS",
        "colab_type": "code",
        "colab": {}
      },
      "source": [
        "fig, ax = plt.subplots()\n",
        "ax.bar(x, y)\n",
        "ax.annotate(\"Maior valor\", \n",
        "            xy=(10, 12),\n",
        "            xycoords='data',\n",
        "            xytext=(11, 10),\n",
        "            textcoords='data',\n",
        "            arrowprops=dict(arrowstyle=\"->\",connectionstyle=\"arc3\"))\n",
        "plt.show()"
      ],
      "execution_count": 0,
      "outputs": []
    },
    {
      "cell_type": "markdown",
      "metadata": {
        "id": "pFL3cI0g5rCq",
        "colab_type": "text"
      },
      "source": [
        "### Visualização nos municípios do RN"
      ]
    },
    {
      "cell_type": "code",
      "metadata": {
        "id": "3nHN86ZV5pka",
        "colab_type": "code",
        "colab": {
          "base_uri": "https://localhost:8080/",
          "height": 105
        },
        "outputId": "42362050-4df9-423e-d34d-c17ef0a8fd2b"
      },
      "source": [
        "data_RN.head(2)"
      ],
      "execution_count": 51,
      "outputs": [
        {
          "output_type": "execute_result",
          "data": {
            "text/html": [
              "<div>\n",
              "<style scoped>\n",
              "    .dataframe tbody tr th:only-of-type {\n",
              "        vertical-align: middle;\n",
              "    }\n",
              "\n",
              "    .dataframe tbody tr th {\n",
              "        vertical-align: top;\n",
              "    }\n",
              "\n",
              "    .dataframe thead th {\n",
              "        text-align: right;\n",
              "    }\n",
              "</style>\n",
              "<table border=\"1\" class=\"dataframe\">\n",
              "  <thead>\n",
              "    <tr style=\"text-align: right;\">\n",
              "      <th></th>\n",
              "      <th>date</th>\n",
              "      <th>state</th>\n",
              "      <th>city</th>\n",
              "      <th>full_suspects</th>\n",
              "      <th>full_cases</th>\n",
              "      <th>full_deaths</th>\n",
              "    </tr>\n",
              "  </thead>\n",
              "  <tbody>\n",
              "    <tr>\n",
              "      <th>0</th>\n",
              "      <td>2020-02-28</td>\n",
              "      <td>RN</td>\n",
              "      <td>Natal</td>\n",
              "      <td>5</td>\n",
              "      <td>0</td>\n",
              "      <td>0</td>\n",
              "    </tr>\n",
              "    <tr>\n",
              "      <th>1</th>\n",
              "      <td>2020-02-28</td>\n",
              "      <td>RN</td>\n",
              "      <td>Parnamirim</td>\n",
              "      <td>1</td>\n",
              "      <td>0</td>\n",
              "      <td>0</td>\n",
              "    </tr>\n",
              "  </tbody>\n",
              "</table>\n",
              "</div>"
            ],
            "text/plain": [
              "         date state        city  full_suspects  full_cases  full_deaths\n",
              "0  2020-02-28    RN       Natal              5           0            0\n",
              "1  2020-02-28    RN  Parnamirim              1           0            0"
            ]
          },
          "metadata": {
            "tags": []
          },
          "execution_count": 51
        }
      ]
    },
    {
      "cell_type": "markdown",
      "metadata": {
        "id": "iitUOR2J9UK0",
        "colab_type": "text"
      },
      "source": [
        "CSV público conteudo longitude e latitude dos municípios no brasil"
      ]
    },
    {
      "cell_type": "code",
      "metadata": {
        "id": "cGtCfg7_890p",
        "colab_type": "code",
        "colab": {
          "base_uri": "https://localhost:8080/",
          "height": 105
        },
        "outputId": "4bce59b8-b47b-4300-a0ae-0151d349b744"
      },
      "source": [
        "city_lat_long =  pd.read_csv(\"https://raw.githubusercontent.com/kelvins/Municipios-Brasileiros/master/csv/municipios.csv\")\n",
        "city_lat_long.head(2)"
      ],
      "execution_count": 94,
      "outputs": [
        {
          "output_type": "execute_result",
          "data": {
            "text/html": [
              "<div>\n",
              "<style scoped>\n",
              "    .dataframe tbody tr th:only-of-type {\n",
              "        vertical-align: middle;\n",
              "    }\n",
              "\n",
              "    .dataframe tbody tr th {\n",
              "        vertical-align: top;\n",
              "    }\n",
              "\n",
              "    .dataframe thead th {\n",
              "        text-align: right;\n",
              "    }\n",
              "</style>\n",
              "<table border=\"1\" class=\"dataframe\">\n",
              "  <thead>\n",
              "    <tr style=\"text-align: right;\">\n",
              "      <th></th>\n",
              "      <th>codigo_ibge</th>\n",
              "      <th>nome</th>\n",
              "      <th>latitude</th>\n",
              "      <th>longitude</th>\n",
              "      <th>capital</th>\n",
              "      <th>codigo_uf</th>\n",
              "    </tr>\n",
              "  </thead>\n",
              "  <tbody>\n",
              "    <tr>\n",
              "      <th>0</th>\n",
              "      <td>5200050</td>\n",
              "      <td>Abadia de Goiás</td>\n",
              "      <td>-16.7573</td>\n",
              "      <td>-49.4412</td>\n",
              "      <td>0</td>\n",
              "      <td>52</td>\n",
              "    </tr>\n",
              "    <tr>\n",
              "      <th>1</th>\n",
              "      <td>3100104</td>\n",
              "      <td>Abadia dos Dourados</td>\n",
              "      <td>-18.4831</td>\n",
              "      <td>-47.3916</td>\n",
              "      <td>0</td>\n",
              "      <td>31</td>\n",
              "    </tr>\n",
              "  </tbody>\n",
              "</table>\n",
              "</div>"
            ],
            "text/plain": [
              "   codigo_ibge                 nome  latitude  longitude  capital  codigo_uf\n",
              "0      5200050      Abadia de Goiás  -16.7573   -49.4412        0         52\n",
              "1      3100104  Abadia dos Dourados  -18.4831   -47.3916        0         31"
            ]
          },
          "metadata": {
            "tags": []
          },
          "execution_count": 94
        }
      ]
    },
    {
      "cell_type": "markdown",
      "metadata": {
        "id": "5Wzu8ilbEKLA",
        "colab_type": "text"
      },
      "source": [
        "Selecionando somente as cidades do RN para evitar risco de conflito de nome e dar localização errada"
      ]
    },
    {
      "cell_type": "code",
      "metadata": {
        "id": "_aTq1BPgCoOJ",
        "colab_type": "code",
        "colab": {
          "base_uri": "https://localhost:8080/",
          "height": 105
        },
        "outputId": "935ff9bc-c2f0-4926-e4b6-e8ddcb891eda"
      },
      "source": [
        "city_lat_long_rn = city_lat_long.loc[city_lat_long[\"codigo_uf\"] == 24,[\"nome\",\"latitude\",\"longitude\"]]\n",
        "city_lat_long_rn.rename(columns={\"nome\":\"city\"},inplace = True)\n",
        "city_lat_long_rn.head(2)"
      ],
      "execution_count": 96,
      "outputs": [
        {
          "output_type": "execute_result",
          "data": {
            "text/html": [
              "<div>\n",
              "<style scoped>\n",
              "    .dataframe tbody tr th:only-of-type {\n",
              "        vertical-align: middle;\n",
              "    }\n",
              "\n",
              "    .dataframe tbody tr th {\n",
              "        vertical-align: top;\n",
              "    }\n",
              "\n",
              "    .dataframe thead th {\n",
              "        text-align: right;\n",
              "    }\n",
              "</style>\n",
              "<table border=\"1\" class=\"dataframe\">\n",
              "  <thead>\n",
              "    <tr style=\"text-align: right;\">\n",
              "      <th></th>\n",
              "      <th>city</th>\n",
              "      <th>latitude</th>\n",
              "      <th>longitude</th>\n",
              "    </tr>\n",
              "  </thead>\n",
              "  <tbody>\n",
              "    <tr>\n",
              "      <th>21</th>\n",
              "      <td>Acari</td>\n",
              "      <td>-6.42820</td>\n",
              "      <td>-36.6347</td>\n",
              "    </tr>\n",
              "    <tr>\n",
              "      <th>28</th>\n",
              "      <td>Açu</td>\n",
              "      <td>-5.58362</td>\n",
              "      <td>-36.9140</td>\n",
              "    </tr>\n",
              "  </tbody>\n",
              "</table>\n",
              "</div>"
            ],
            "text/plain": [
              "     city  latitude  longitude\n",
              "21  Acari  -6.42820   -36.6347\n",
              "28    Açu  -5.58362   -36.9140"
            ]
          },
          "metadata": {
            "tags": []
          },
          "execution_count": 96
        }
      ]
    },
    {
      "cell_type": "markdown",
      "metadata": {
        "id": "K8ynYLErEsna",
        "colab_type": "text"
      },
      "source": [
        "Todas as cidades do RN que estão no dataframe"
      ]
    },
    {
      "cell_type": "code",
      "metadata": {
        "id": "LGsZ8w71D9Rm",
        "colab_type": "code",
        "colab": {
          "base_uri": "https://localhost:8080/",
          "height": 748
        },
        "outputId": "248cda9e-5116-4d83-def3-aebf9de3a444"
      },
      "source": [
        "city_lat_long_rn[\"nome\"].unique()"
      ],
      "execution_count": 92,
      "outputs": [
        {
          "output_type": "execute_result",
          "data": {
            "text/plain": [
              "array(['Acari', 'Açu', 'Afonso Bezerra', 'Água Nova', 'Alexandria',\n",
              "       'Almino Afonso', 'Alto do Rodrigues', 'Angicos', 'Antônio Martins',\n",
              "       'Apodi', 'Areia Branca', 'Arês', 'Augusto Severo (Campo Grande)',\n",
              "       'Baía Formosa', 'Baraúna', 'Barcelona', 'Bento Fernandes', 'Bodó',\n",
              "       'Bom Jesus', 'Brejinho', 'Caiçara do Norte',\n",
              "       'Caiçara do Rio do Vento', 'Caicó', 'Campo Redondo',\n",
              "       'Canguaretama', 'Caraúbas', 'Carnaúba dos Dantas', 'Carnaubais',\n",
              "       'Ceará-Mirim', 'Cerro Corá', 'Coronel Ezequiel',\n",
              "       'Coronel João Pessoa', 'Cruzeta', 'Currais Novos',\n",
              "       'Doutor Severiano', 'Encanto', 'Equador', 'Espírito Santo',\n",
              "       'Extremoz', 'Felipe Guerra', 'Fernando Pedroza', 'Florânia',\n",
              "       'Francisco Dantas', 'Frutuoso Gomes', 'Galinhos', 'Goianinha',\n",
              "       'Governador Dix-Sept Rosado', 'Grossos', 'Guamaré',\n",
              "       'Ielmo Marinho', 'Ipanguaçu', 'Ipueira', 'Itajá', 'Itaú', 'Jaçanã',\n",
              "       'Jandaíra', 'Janduís', 'Januário Cicco (Boa Saúde)', 'Japi',\n",
              "       'Jardim de Angicos', 'Jardim de Piranhas', 'Jardim do Seridó',\n",
              "       'João Câmara', 'João Dias', 'José da Penha', 'Jucurutu', 'Jundiá',\n",
              "       \"Lagoa d'Anta\", 'Lagoa de Pedras', 'Lagoa de Velhos', 'Lagoa Nova',\n",
              "       'Lagoa Salgada', 'Lajes', 'Lajes Pintadas', 'Lucrécia',\n",
              "       'Luís Gomes', 'Macaíba', 'Macau', 'Major Sales',\n",
              "       'Marcelino Vieira', 'Martins', 'Maxaranguape', 'Messias Targino',\n",
              "       'Montanhas', 'Monte Alegre', 'Monte das Gameleiras', 'Mossoró',\n",
              "       'Natal', 'Nísia Floresta', 'Nova Cruz', \"Olho-d'Água do Borges\",\n",
              "       'Ouro Branco', 'Paraná', 'Paraú', 'Parazinho', 'Parelhas',\n",
              "       'Parnamirim', 'Passa e Fica', 'Passagem', 'Patu', 'Pau dos Ferros',\n",
              "       'Pedra Grande', 'Pedra Preta', 'Pedro Avelino', 'Pedro Velho',\n",
              "       'Pendências', 'Pilões', 'Poço Branco', 'Portalegre',\n",
              "       'Porto do Mangue', 'Pureza', 'Rafael Fernandes', 'Rafael Godeiro',\n",
              "       'Riacho da Cruz', 'Riacho de Santana', 'Riachuelo', 'Rio do Fogo',\n",
              "       'Rodolfo Fernandes', 'Ruy Barbosa', 'Santa Cruz', 'Santa Maria',\n",
              "       'Santana do Matos', 'Santana do Seridó', 'Santo Antônio',\n",
              "       'São Bento do Norte', 'São Bento do Trairí', 'São Fernando',\n",
              "       'São Francisco do Oeste', 'São Gonçalo do Amarante',\n",
              "       'São João do Sabugi', 'São José de Mipibu',\n",
              "       'São José do Campestre', 'São José do Seridó', 'São Miguel',\n",
              "       'São Miguel do Gostoso', 'São Paulo do Potengi', 'São Pedro',\n",
              "       'São Rafael', 'São Tomé', 'São Vicente', 'Senador Elói de Souza',\n",
              "       'Senador Georgino Avelino', 'Serra Caiada', 'Serra de São Bento',\n",
              "       'Serra do Mel', 'Serra Negra do Norte', 'Serrinha',\n",
              "       'Serrinha dos Pintos', 'Severiano Melo', 'Sítio Novo',\n",
              "       'Taboleiro Grande', 'Taipu', 'Tangará', 'Tenente Ananias',\n",
              "       'Tenente Laurentino Cruz', 'Tibau', 'Tibau do Sul',\n",
              "       'Timbaúba dos Batistas', 'Touros', 'Triunfo Potiguar', 'Umarizal',\n",
              "       'Upanema', 'Várzea', 'Venha-Ver', 'Vera Cruz', 'Viçosa',\n",
              "       'Vila Flor'], dtype=object)"
            ]
          },
          "metadata": {
            "tags": []
          },
          "execution_count": 92
        }
      ]
    },
    {
      "cell_type": "markdown",
      "metadata": {
        "id": "iDfuP3BsEyW7",
        "colab_type": "text"
      },
      "source": [
        "Concatenando pelo nome"
      ]
    },
    {
      "cell_type": "code",
      "metadata": {
        "id": "EuCBNiBUExTO",
        "colab_type": "code",
        "colab": {
          "base_uri": "https://localhost:8080/",
          "height": 1000
        },
        "outputId": "a0e84872-c422-4424-a74e-c04407a358de"
      },
      "source": [
        "data_city_RN = data_RN.merge(city_lat_long_rn, on = \"city\")\n",
        "data_city_RN = data_city_RN.sort_values(\"date\")\n",
        "data_city_RN"
      ],
      "execution_count": 103,
      "outputs": [
        {
          "output_type": "execute_result",
          "data": {
            "text/html": [
              "<div>\n",
              "<style scoped>\n",
              "    .dataframe tbody tr th:only-of-type {\n",
              "        vertical-align: middle;\n",
              "    }\n",
              "\n",
              "    .dataframe tbody tr th {\n",
              "        vertical-align: top;\n",
              "    }\n",
              "\n",
              "    .dataframe thead th {\n",
              "        text-align: right;\n",
              "    }\n",
              "</style>\n",
              "<table border=\"1\" class=\"dataframe\">\n",
              "  <thead>\n",
              "    <tr style=\"text-align: right;\">\n",
              "      <th></th>\n",
              "      <th>date</th>\n",
              "      <th>state</th>\n",
              "      <th>city</th>\n",
              "      <th>full_suspects</th>\n",
              "      <th>full_cases</th>\n",
              "      <th>full_deaths</th>\n",
              "      <th>latitude</th>\n",
              "      <th>longitude</th>\n",
              "    </tr>\n",
              "  </thead>\n",
              "  <tbody>\n",
              "    <tr>\n",
              "      <th>0</th>\n",
              "      <td>2020-02-28</td>\n",
              "      <td>RN</td>\n",
              "      <td>Natal</td>\n",
              "      <td>5</td>\n",
              "      <td>0</td>\n",
              "      <td>0</td>\n",
              "      <td>-5.79357</td>\n",
              "      <td>-35.1986</td>\n",
              "    </tr>\n",
              "    <tr>\n",
              "      <th>10</th>\n",
              "      <td>2020-02-28</td>\n",
              "      <td>RN</td>\n",
              "      <td>Parnamirim</td>\n",
              "      <td>1</td>\n",
              "      <td>0</td>\n",
              "      <td>0</td>\n",
              "      <td>-5.91116</td>\n",
              "      <td>-35.2710</td>\n",
              "    </tr>\n",
              "    <tr>\n",
              "      <th>1</th>\n",
              "      <td>2020-03-02</td>\n",
              "      <td>RN</td>\n",
              "      <td>Natal</td>\n",
              "      <td>4</td>\n",
              "      <td>0</td>\n",
              "      <td>0</td>\n",
              "      <td>-5.79357</td>\n",
              "      <td>-35.1986</td>\n",
              "    </tr>\n",
              "    <tr>\n",
              "      <th>11</th>\n",
              "      <td>2020-03-02</td>\n",
              "      <td>RN</td>\n",
              "      <td>Parnamirim</td>\n",
              "      <td>1</td>\n",
              "      <td>0</td>\n",
              "      <td>0</td>\n",
              "      <td>-5.91116</td>\n",
              "      <td>-35.2710</td>\n",
              "    </tr>\n",
              "    <tr>\n",
              "      <th>2</th>\n",
              "      <td>2020-03-03</td>\n",
              "      <td>RN</td>\n",
              "      <td>Natal</td>\n",
              "      <td>3</td>\n",
              "      <td>0</td>\n",
              "      <td>0</td>\n",
              "      <td>-5.79357</td>\n",
              "      <td>-35.1986</td>\n",
              "    </tr>\n",
              "    <tr>\n",
              "      <th>12</th>\n",
              "      <td>2020-03-03</td>\n",
              "      <td>RN</td>\n",
              "      <td>Parnamirim</td>\n",
              "      <td>1</td>\n",
              "      <td>0</td>\n",
              "      <td>0</td>\n",
              "      <td>-5.91116</td>\n",
              "      <td>-35.2710</td>\n",
              "    </tr>\n",
              "    <tr>\n",
              "      <th>3</th>\n",
              "      <td>2020-03-05</td>\n",
              "      <td>RN</td>\n",
              "      <td>Natal</td>\n",
              "      <td>2</td>\n",
              "      <td>0</td>\n",
              "      <td>0</td>\n",
              "      <td>-5.79357</td>\n",
              "      <td>-35.1986</td>\n",
              "    </tr>\n",
              "    <tr>\n",
              "      <th>13</th>\n",
              "      <td>2020-03-05</td>\n",
              "      <td>RN</td>\n",
              "      <td>Parnamirim</td>\n",
              "      <td>2</td>\n",
              "      <td>0</td>\n",
              "      <td>0</td>\n",
              "      <td>-5.91116</td>\n",
              "      <td>-35.2710</td>\n",
              "    </tr>\n",
              "    <tr>\n",
              "      <th>4</th>\n",
              "      <td>2020-03-06</td>\n",
              "      <td>RN</td>\n",
              "      <td>Natal</td>\n",
              "      <td>3</td>\n",
              "      <td>0</td>\n",
              "      <td>0</td>\n",
              "      <td>-5.79357</td>\n",
              "      <td>-35.1986</td>\n",
              "    </tr>\n",
              "    <tr>\n",
              "      <th>14</th>\n",
              "      <td>2020-03-06</td>\n",
              "      <td>RN</td>\n",
              "      <td>Parnamirim</td>\n",
              "      <td>1</td>\n",
              "      <td>0</td>\n",
              "      <td>0</td>\n",
              "      <td>-5.91116</td>\n",
              "      <td>-35.2710</td>\n",
              "    </tr>\n",
              "    <tr>\n",
              "      <th>25</th>\n",
              "      <td>2020-03-11</td>\n",
              "      <td>RN</td>\n",
              "      <td>Mossoró</td>\n",
              "      <td>2</td>\n",
              "      <td>0</td>\n",
              "      <td>0</td>\n",
              "      <td>-5.18374</td>\n",
              "      <td>-37.3474</td>\n",
              "    </tr>\n",
              "    <tr>\n",
              "      <th>20</th>\n",
              "      <td>2020-03-11</td>\n",
              "      <td>RN</td>\n",
              "      <td>Frutuoso Gomes</td>\n",
              "      <td>1</td>\n",
              "      <td>0</td>\n",
              "      <td>0</td>\n",
              "      <td>-6.15669</td>\n",
              "      <td>-37.8375</td>\n",
              "    </tr>\n",
              "    <tr>\n",
              "      <th>15</th>\n",
              "      <td>2020-03-11</td>\n",
              "      <td>RN</td>\n",
              "      <td>Parnamirim</td>\n",
              "      <td>2</td>\n",
              "      <td>0</td>\n",
              "      <td>0</td>\n",
              "      <td>-5.91116</td>\n",
              "      <td>-35.2710</td>\n",
              "    </tr>\n",
              "    <tr>\n",
              "      <th>5</th>\n",
              "      <td>2020-03-11</td>\n",
              "      <td>RN</td>\n",
              "      <td>Natal</td>\n",
              "      <td>8</td>\n",
              "      <td>0</td>\n",
              "      <td>0</td>\n",
              "      <td>-5.79357</td>\n",
              "      <td>-35.1986</td>\n",
              "    </tr>\n",
              "    <tr>\n",
              "      <th>21</th>\n",
              "      <td>2020-03-13</td>\n",
              "      <td>RN</td>\n",
              "      <td>Frutuoso Gomes</td>\n",
              "      <td>1</td>\n",
              "      <td>0</td>\n",
              "      <td>0</td>\n",
              "      <td>-6.15669</td>\n",
              "      <td>-37.8375</td>\n",
              "    </tr>\n",
              "    <tr>\n",
              "      <th>26</th>\n",
              "      <td>2020-03-13</td>\n",
              "      <td>RN</td>\n",
              "      <td>Mossoró</td>\n",
              "      <td>2</td>\n",
              "      <td>0</td>\n",
              "      <td>0</td>\n",
              "      <td>-5.18374</td>\n",
              "      <td>-37.3474</td>\n",
              "    </tr>\n",
              "    <tr>\n",
              "      <th>6</th>\n",
              "      <td>2020-03-13</td>\n",
              "      <td>RN</td>\n",
              "      <td>Natal</td>\n",
              "      <td>9</td>\n",
              "      <td>0</td>\n",
              "      <td>0</td>\n",
              "      <td>-5.79357</td>\n",
              "      <td>-35.1986</td>\n",
              "    </tr>\n",
              "    <tr>\n",
              "      <th>30</th>\n",
              "      <td>2020-03-13</td>\n",
              "      <td>RN</td>\n",
              "      <td>Goianinha</td>\n",
              "      <td>1</td>\n",
              "      <td>0</td>\n",
              "      <td>0</td>\n",
              "      <td>-6.26486</td>\n",
              "      <td>-35.1943</td>\n",
              "    </tr>\n",
              "    <tr>\n",
              "      <th>16</th>\n",
              "      <td>2020-03-13</td>\n",
              "      <td>RN</td>\n",
              "      <td>Parnamirim</td>\n",
              "      <td>4</td>\n",
              "      <td>0</td>\n",
              "      <td>0</td>\n",
              "      <td>-5.91116</td>\n",
              "      <td>-35.2710</td>\n",
              "    </tr>\n",
              "    <tr>\n",
              "      <th>22</th>\n",
              "      <td>2020-03-16</td>\n",
              "      <td>RN</td>\n",
              "      <td>Frutuoso Gomes</td>\n",
              "      <td>1</td>\n",
              "      <td>0</td>\n",
              "      <td>0</td>\n",
              "      <td>-6.15669</td>\n",
              "      <td>-37.8375</td>\n",
              "    </tr>\n",
              "    <tr>\n",
              "      <th>35</th>\n",
              "      <td>2020-03-16</td>\n",
              "      <td>RN</td>\n",
              "      <td>Tibau do Sul</td>\n",
              "      <td>1</td>\n",
              "      <td>0</td>\n",
              "      <td>0</td>\n",
              "      <td>-6.19176</td>\n",
              "      <td>-35.0866</td>\n",
              "    </tr>\n",
              "    <tr>\n",
              "      <th>32</th>\n",
              "      <td>2020-03-16</td>\n",
              "      <td>RN</td>\n",
              "      <td>Nísia Floresta</td>\n",
              "      <td>2</td>\n",
              "      <td>0</td>\n",
              "      <td>0</td>\n",
              "      <td>-6.09329</td>\n",
              "      <td>-35.1991</td>\n",
              "    </tr>\n",
              "    <tr>\n",
              "      <th>7</th>\n",
              "      <td>2020-03-16</td>\n",
              "      <td>RN</td>\n",
              "      <td>Natal</td>\n",
              "      <td>20</td>\n",
              "      <td>1</td>\n",
              "      <td>0</td>\n",
              "      <td>-5.79357</td>\n",
              "      <td>-35.1986</td>\n",
              "    </tr>\n",
              "    <tr>\n",
              "      <th>27</th>\n",
              "      <td>2020-03-16</td>\n",
              "      <td>RN</td>\n",
              "      <td>Mossoró</td>\n",
              "      <td>3</td>\n",
              "      <td>0</td>\n",
              "      <td>0</td>\n",
              "      <td>-5.18374</td>\n",
              "      <td>-37.3474</td>\n",
              "    </tr>\n",
              "    <tr>\n",
              "      <th>17</th>\n",
              "      <td>2020-03-16</td>\n",
              "      <td>RN</td>\n",
              "      <td>Parnamirim</td>\n",
              "      <td>5</td>\n",
              "      <td>0</td>\n",
              "      <td>0</td>\n",
              "      <td>-5.91116</td>\n",
              "      <td>-35.2710</td>\n",
              "    </tr>\n",
              "    <tr>\n",
              "      <th>40</th>\n",
              "      <td>2020-03-18</td>\n",
              "      <td>RN</td>\n",
              "      <td>Pendências</td>\n",
              "      <td>1</td>\n",
              "      <td>0</td>\n",
              "      <td>0</td>\n",
              "      <td>-5.25640</td>\n",
              "      <td>-36.7095</td>\n",
              "    </tr>\n",
              "    <tr>\n",
              "      <th>38</th>\n",
              "      <td>2020-03-18</td>\n",
              "      <td>RN</td>\n",
              "      <td>Angicos</td>\n",
              "      <td>1</td>\n",
              "      <td>0</td>\n",
              "      <td>0</td>\n",
              "      <td>-5.65792</td>\n",
              "      <td>-36.6094</td>\n",
              "    </tr>\n",
              "    <tr>\n",
              "      <th>41</th>\n",
              "      <td>2020-03-18</td>\n",
              "      <td>RN</td>\n",
              "      <td>Santa Cruz</td>\n",
              "      <td>2</td>\n",
              "      <td>0</td>\n",
              "      <td>0</td>\n",
              "      <td>-6.22475</td>\n",
              "      <td>-36.0193</td>\n",
              "    </tr>\n",
              "    <tr>\n",
              "      <th>36</th>\n",
              "      <td>2020-03-18</td>\n",
              "      <td>RN</td>\n",
              "      <td>Tibau do Sul</td>\n",
              "      <td>1</td>\n",
              "      <td>0</td>\n",
              "      <td>0</td>\n",
              "      <td>-6.19176</td>\n",
              "      <td>-35.0866</td>\n",
              "    </tr>\n",
              "    <tr>\n",
              "      <th>33</th>\n",
              "      <td>2020-03-18</td>\n",
              "      <td>RN</td>\n",
              "      <td>Nísia Floresta</td>\n",
              "      <td>2</td>\n",
              "      <td>0</td>\n",
              "      <td>0</td>\n",
              "      <td>-6.09329</td>\n",
              "      <td>-35.1991</td>\n",
              "    </tr>\n",
              "    <tr>\n",
              "      <th>43</th>\n",
              "      <td>2020-03-18</td>\n",
              "      <td>RN</td>\n",
              "      <td>São Miguel do Gostoso</td>\n",
              "      <td>1</td>\n",
              "      <td>0</td>\n",
              "      <td>0</td>\n",
              "      <td>-5.12302</td>\n",
              "      <td>-35.6354</td>\n",
              "    </tr>\n",
              "    <tr>\n",
              "      <th>28</th>\n",
              "      <td>2020-03-18</td>\n",
              "      <td>RN</td>\n",
              "      <td>Mossoró</td>\n",
              "      <td>5</td>\n",
              "      <td>0</td>\n",
              "      <td>0</td>\n",
              "      <td>-5.18374</td>\n",
              "      <td>-37.3474</td>\n",
              "    </tr>\n",
              "    <tr>\n",
              "      <th>23</th>\n",
              "      <td>2020-03-18</td>\n",
              "      <td>RN</td>\n",
              "      <td>Frutuoso Gomes</td>\n",
              "      <td>1</td>\n",
              "      <td>0</td>\n",
              "      <td>0</td>\n",
              "      <td>-6.15669</td>\n",
              "      <td>-37.8375</td>\n",
              "    </tr>\n",
              "    <tr>\n",
              "      <th>18</th>\n",
              "      <td>2020-03-18</td>\n",
              "      <td>RN</td>\n",
              "      <td>Parnamirim</td>\n",
              "      <td>13</td>\n",
              "      <td>0</td>\n",
              "      <td>0</td>\n",
              "      <td>-5.91116</td>\n",
              "      <td>-35.2710</td>\n",
              "    </tr>\n",
              "    <tr>\n",
              "      <th>8</th>\n",
              "      <td>2020-03-18</td>\n",
              "      <td>RN</td>\n",
              "      <td>Natal</td>\n",
              "      <td>47</td>\n",
              "      <td>1</td>\n",
              "      <td>0</td>\n",
              "      <td>-5.79357</td>\n",
              "      <td>-35.1986</td>\n",
              "    </tr>\n",
              "    <tr>\n",
              "      <th>29</th>\n",
              "      <td>2020-03-20</td>\n",
              "      <td>RN</td>\n",
              "      <td>Mossoró</td>\n",
              "      <td>14</td>\n",
              "      <td>0</td>\n",
              "      <td>0</td>\n",
              "      <td>-5.18374</td>\n",
              "      <td>-37.3474</td>\n",
              "    </tr>\n",
              "    <tr>\n",
              "      <th>54</th>\n",
              "      <td>2020-03-20</td>\n",
              "      <td>RN</td>\n",
              "      <td>Tibau</td>\n",
              "      <td>2</td>\n",
              "      <td>0</td>\n",
              "      <td>0</td>\n",
              "      <td>-4.83729</td>\n",
              "      <td>-37.2554</td>\n",
              "    </tr>\n",
              "    <tr>\n",
              "      <th>53</th>\n",
              "      <td>2020-03-20</td>\n",
              "      <td>RN</td>\n",
              "      <td>Macaíba</td>\n",
              "      <td>2</td>\n",
              "      <td>0</td>\n",
              "      <td>0</td>\n",
              "      <td>-5.85229</td>\n",
              "      <td>-35.3552</td>\n",
              "    </tr>\n",
              "    <tr>\n",
              "      <th>52</th>\n",
              "      <td>2020-03-20</td>\n",
              "      <td>RN</td>\n",
              "      <td>Lagoa d'Anta</td>\n",
              "      <td>1</td>\n",
              "      <td>0</td>\n",
              "      <td>0</td>\n",
              "      <td>-6.39493</td>\n",
              "      <td>-35.5949</td>\n",
              "    </tr>\n",
              "    <tr>\n",
              "      <th>51</th>\n",
              "      <td>2020-03-20</td>\n",
              "      <td>RN</td>\n",
              "      <td>João Câmara</td>\n",
              "      <td>1</td>\n",
              "      <td>0</td>\n",
              "      <td>0</td>\n",
              "      <td>-5.54094</td>\n",
              "      <td>-35.8122</td>\n",
              "    </tr>\n",
              "    <tr>\n",
              "      <th>50</th>\n",
              "      <td>2020-03-20</td>\n",
              "      <td>RN</td>\n",
              "      <td>Guamaré</td>\n",
              "      <td>3</td>\n",
              "      <td>0</td>\n",
              "      <td>0</td>\n",
              "      <td>-5.10619</td>\n",
              "      <td>-36.3222</td>\n",
              "    </tr>\n",
              "    <tr>\n",
              "      <th>49</th>\n",
              "      <td>2020-03-20</td>\n",
              "      <td>RN</td>\n",
              "      <td>Extremoz</td>\n",
              "      <td>1</td>\n",
              "      <td>0</td>\n",
              "      <td>0</td>\n",
              "      <td>-5.70143</td>\n",
              "      <td>-35.3048</td>\n",
              "    </tr>\n",
              "    <tr>\n",
              "      <th>48</th>\n",
              "      <td>2020-03-20</td>\n",
              "      <td>RN</td>\n",
              "      <td>Doutor Severiano</td>\n",
              "      <td>1</td>\n",
              "      <td>0</td>\n",
              "      <td>0</td>\n",
              "      <td>-6.08082</td>\n",
              "      <td>-38.3794</td>\n",
              "    </tr>\n",
              "    <tr>\n",
              "      <th>47</th>\n",
              "      <td>2020-03-20</td>\n",
              "      <td>RN</td>\n",
              "      <td>Caicó</td>\n",
              "      <td>1</td>\n",
              "      <td>0</td>\n",
              "      <td>0</td>\n",
              "      <td>-6.45441</td>\n",
              "      <td>-37.1067</td>\n",
              "    </tr>\n",
              "    <tr>\n",
              "      <th>46</th>\n",
              "      <td>2020-03-20</td>\n",
              "      <td>RN</td>\n",
              "      <td>Baía Formosa</td>\n",
              "      <td>1</td>\n",
              "      <td>0</td>\n",
              "      <td>0</td>\n",
              "      <td>-6.37161</td>\n",
              "      <td>-35.0033</td>\n",
              "    </tr>\n",
              "    <tr>\n",
              "      <th>44</th>\n",
              "      <td>2020-03-20</td>\n",
              "      <td>RN</td>\n",
              "      <td>São Miguel do Gostoso</td>\n",
              "      <td>1</td>\n",
              "      <td>0</td>\n",
              "      <td>0</td>\n",
              "      <td>-5.12302</td>\n",
              "      <td>-35.6354</td>\n",
              "    </tr>\n",
              "    <tr>\n",
              "      <th>31</th>\n",
              "      <td>2020-03-20</td>\n",
              "      <td>RN</td>\n",
              "      <td>Goianinha</td>\n",
              "      <td>1</td>\n",
              "      <td>0</td>\n",
              "      <td>0</td>\n",
              "      <td>-6.26486</td>\n",
              "      <td>-35.1943</td>\n",
              "    </tr>\n",
              "    <tr>\n",
              "      <th>42</th>\n",
              "      <td>2020-03-20</td>\n",
              "      <td>RN</td>\n",
              "      <td>Santa Cruz</td>\n",
              "      <td>2</td>\n",
              "      <td>0</td>\n",
              "      <td>0</td>\n",
              "      <td>-6.22475</td>\n",
              "      <td>-36.0193</td>\n",
              "    </tr>\n",
              "    <tr>\n",
              "      <th>9</th>\n",
              "      <td>2020-03-20</td>\n",
              "      <td>RN</td>\n",
              "      <td>Natal</td>\n",
              "      <td>73</td>\n",
              "      <td>1</td>\n",
              "      <td>0</td>\n",
              "      <td>-5.79357</td>\n",
              "      <td>-35.1986</td>\n",
              "    </tr>\n",
              "    <tr>\n",
              "      <th>39</th>\n",
              "      <td>2020-03-20</td>\n",
              "      <td>RN</td>\n",
              "      <td>Angicos</td>\n",
              "      <td>1</td>\n",
              "      <td>0</td>\n",
              "      <td>0</td>\n",
              "      <td>-5.65792</td>\n",
              "      <td>-36.6094</td>\n",
              "    </tr>\n",
              "    <tr>\n",
              "      <th>19</th>\n",
              "      <td>2020-03-20</td>\n",
              "      <td>RN</td>\n",
              "      <td>Parnamirim</td>\n",
              "      <td>16</td>\n",
              "      <td>0</td>\n",
              "      <td>0</td>\n",
              "      <td>-5.91116</td>\n",
              "      <td>-35.2710</td>\n",
              "    </tr>\n",
              "    <tr>\n",
              "      <th>37</th>\n",
              "      <td>2020-03-20</td>\n",
              "      <td>RN</td>\n",
              "      <td>Tibau do Sul</td>\n",
              "      <td>1</td>\n",
              "      <td>0</td>\n",
              "      <td>0</td>\n",
              "      <td>-6.19176</td>\n",
              "      <td>-35.0866</td>\n",
              "    </tr>\n",
              "    <tr>\n",
              "      <th>24</th>\n",
              "      <td>2020-03-20</td>\n",
              "      <td>RN</td>\n",
              "      <td>Frutuoso Gomes</td>\n",
              "      <td>1</td>\n",
              "      <td>0</td>\n",
              "      <td>0</td>\n",
              "      <td>-6.15669</td>\n",
              "      <td>-37.8375</td>\n",
              "    </tr>\n",
              "    <tr>\n",
              "      <th>34</th>\n",
              "      <td>2020-03-20</td>\n",
              "      <td>RN</td>\n",
              "      <td>Nísia Floresta</td>\n",
              "      <td>3</td>\n",
              "      <td>0</td>\n",
              "      <td>0</td>\n",
              "      <td>-6.09329</td>\n",
              "      <td>-35.1991</td>\n",
              "    </tr>\n",
              "    <tr>\n",
              "      <th>55</th>\n",
              "      <td>2020-03-20</td>\n",
              "      <td>RN</td>\n",
              "      <td>São Fernando</td>\n",
              "      <td>1</td>\n",
              "      <td>0</td>\n",
              "      <td>0</td>\n",
              "      <td>-6.37975</td>\n",
              "      <td>-37.1864</td>\n",
              "    </tr>\n",
              "    <tr>\n",
              "      <th>45</th>\n",
              "      <td>2020-03-20</td>\n",
              "      <td>RN</td>\n",
              "      <td>Areia Branca</td>\n",
              "      <td>1</td>\n",
              "      <td>0</td>\n",
              "      <td>0</td>\n",
              "      <td>-4.95254</td>\n",
              "      <td>-37.1252</td>\n",
              "    </tr>\n",
              "    <tr>\n",
              "      <th>56</th>\n",
              "      <td>2020-03-20</td>\n",
              "      <td>RN</td>\n",
              "      <td>São Gonçalo do Amarante</td>\n",
              "      <td>2</td>\n",
              "      <td>0</td>\n",
              "      <td>0</td>\n",
              "      <td>-5.79068</td>\n",
              "      <td>-35.3257</td>\n",
              "    </tr>\n",
              "  </tbody>\n",
              "</table>\n",
              "</div>"
            ],
            "text/plain": [
              "          date state                     city  ...  full_deaths  latitude  longitude\n",
              "0   2020-02-28    RN                    Natal  ...            0  -5.79357   -35.1986\n",
              "10  2020-02-28    RN               Parnamirim  ...            0  -5.91116   -35.2710\n",
              "1   2020-03-02    RN                    Natal  ...            0  -5.79357   -35.1986\n",
              "11  2020-03-02    RN               Parnamirim  ...            0  -5.91116   -35.2710\n",
              "2   2020-03-03    RN                    Natal  ...            0  -5.79357   -35.1986\n",
              "12  2020-03-03    RN               Parnamirim  ...            0  -5.91116   -35.2710\n",
              "3   2020-03-05    RN                    Natal  ...            0  -5.79357   -35.1986\n",
              "13  2020-03-05    RN               Parnamirim  ...            0  -5.91116   -35.2710\n",
              "4   2020-03-06    RN                    Natal  ...            0  -5.79357   -35.1986\n",
              "14  2020-03-06    RN               Parnamirim  ...            0  -5.91116   -35.2710\n",
              "25  2020-03-11    RN                  Mossoró  ...            0  -5.18374   -37.3474\n",
              "20  2020-03-11    RN           Frutuoso Gomes  ...            0  -6.15669   -37.8375\n",
              "15  2020-03-11    RN               Parnamirim  ...            0  -5.91116   -35.2710\n",
              "5   2020-03-11    RN                    Natal  ...            0  -5.79357   -35.1986\n",
              "21  2020-03-13    RN           Frutuoso Gomes  ...            0  -6.15669   -37.8375\n",
              "26  2020-03-13    RN                  Mossoró  ...            0  -5.18374   -37.3474\n",
              "6   2020-03-13    RN                    Natal  ...            0  -5.79357   -35.1986\n",
              "30  2020-03-13    RN                Goianinha  ...            0  -6.26486   -35.1943\n",
              "16  2020-03-13    RN               Parnamirim  ...            0  -5.91116   -35.2710\n",
              "22  2020-03-16    RN           Frutuoso Gomes  ...            0  -6.15669   -37.8375\n",
              "35  2020-03-16    RN             Tibau do Sul  ...            0  -6.19176   -35.0866\n",
              "32  2020-03-16    RN           Nísia Floresta  ...            0  -6.09329   -35.1991\n",
              "7   2020-03-16    RN                    Natal  ...            0  -5.79357   -35.1986\n",
              "27  2020-03-16    RN                  Mossoró  ...            0  -5.18374   -37.3474\n",
              "17  2020-03-16    RN               Parnamirim  ...            0  -5.91116   -35.2710\n",
              "40  2020-03-18    RN               Pendências  ...            0  -5.25640   -36.7095\n",
              "38  2020-03-18    RN                  Angicos  ...            0  -5.65792   -36.6094\n",
              "41  2020-03-18    RN               Santa Cruz  ...            0  -6.22475   -36.0193\n",
              "36  2020-03-18    RN             Tibau do Sul  ...            0  -6.19176   -35.0866\n",
              "33  2020-03-18    RN           Nísia Floresta  ...            0  -6.09329   -35.1991\n",
              "43  2020-03-18    RN    São Miguel do Gostoso  ...            0  -5.12302   -35.6354\n",
              "28  2020-03-18    RN                  Mossoró  ...            0  -5.18374   -37.3474\n",
              "23  2020-03-18    RN           Frutuoso Gomes  ...            0  -6.15669   -37.8375\n",
              "18  2020-03-18    RN               Parnamirim  ...            0  -5.91116   -35.2710\n",
              "8   2020-03-18    RN                    Natal  ...            0  -5.79357   -35.1986\n",
              "29  2020-03-20    RN                  Mossoró  ...            0  -5.18374   -37.3474\n",
              "54  2020-03-20    RN                    Tibau  ...            0  -4.83729   -37.2554\n",
              "53  2020-03-20    RN                  Macaíba  ...            0  -5.85229   -35.3552\n",
              "52  2020-03-20    RN             Lagoa d'Anta  ...            0  -6.39493   -35.5949\n",
              "51  2020-03-20    RN              João Câmara  ...            0  -5.54094   -35.8122\n",
              "50  2020-03-20    RN                  Guamaré  ...            0  -5.10619   -36.3222\n",
              "49  2020-03-20    RN                 Extremoz  ...            0  -5.70143   -35.3048\n",
              "48  2020-03-20    RN         Doutor Severiano  ...            0  -6.08082   -38.3794\n",
              "47  2020-03-20    RN                    Caicó  ...            0  -6.45441   -37.1067\n",
              "46  2020-03-20    RN             Baía Formosa  ...            0  -6.37161   -35.0033\n",
              "44  2020-03-20    RN    São Miguel do Gostoso  ...            0  -5.12302   -35.6354\n",
              "31  2020-03-20    RN                Goianinha  ...            0  -6.26486   -35.1943\n",
              "42  2020-03-20    RN               Santa Cruz  ...            0  -6.22475   -36.0193\n",
              "9   2020-03-20    RN                    Natal  ...            0  -5.79357   -35.1986\n",
              "39  2020-03-20    RN                  Angicos  ...            0  -5.65792   -36.6094\n",
              "19  2020-03-20    RN               Parnamirim  ...            0  -5.91116   -35.2710\n",
              "37  2020-03-20    RN             Tibau do Sul  ...            0  -6.19176   -35.0866\n",
              "24  2020-03-20    RN           Frutuoso Gomes  ...            0  -6.15669   -37.8375\n",
              "34  2020-03-20    RN           Nísia Floresta  ...            0  -6.09329   -35.1991\n",
              "55  2020-03-20    RN             São Fernando  ...            0  -6.37975   -37.1864\n",
              "45  2020-03-20    RN             Areia Branca  ...            0  -4.95254   -37.1252\n",
              "56  2020-03-20    RN  São Gonçalo do Amarante  ...            0  -5.79068   -35.3257\n",
              "\n",
              "[57 rows x 8 columns]"
            ]
          },
          "metadata": {
            "tags": []
          },
          "execution_count": 103
        }
      ]
    },
    {
      "cell_type": "code",
      "metadata": {
        "id": "ntTu1SixKgg9",
        "colab_type": "code",
        "colab": {}
      },
      "source": [
        "coordenate = []\n",
        "for lat,lng in zip(data_city_RN[\"latitude\"],data_city_RN[\"longitude\"]):\n",
        "\tcoordenate.append([lat,lng])"
      ],
      "execution_count": 0,
      "outputs": []
    },
    {
      "cell_type": "markdown",
      "metadata": {
        "id": "340i9HN2LGTP",
        "colab_type": "text"
      },
      "source": [
        "Renderizando o mapa com um valor qualquer"
      ]
    },
    {
      "cell_type": "code",
      "metadata": {
        "id": "yUcX--0zLK_q",
        "colab_type": "code",
        "colab": {
          "base_uri": "https://localhost:8080/",
          "height": 787
        },
        "outputId": "cde5efb3-9eac-4d64-c69c-528854b638aa"
      },
      "source": [
        "map = folium.Map(location=[-5.79448,-35.211])#latitude and longitude\n",
        "map"
      ],
      "execution_count": 105,
      "outputs": [
        {
          "output_type": "execute_result",
          "data": {
            "text/html": [
              "<div style=\"width:100%;\"><div style=\"position:relative;width:100%;height:0;padding-bottom:60%;\"><iframe src=\"about:blank\" style=\"position:absolute;width:100%;height:100%;left:0;top:0;border:none !important;\" data-html=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 onload=\"this.contentDocument.open();this.contentDocument.write(atob(this.getAttribute('data-html')));this.contentDocument.close();\" allowfullscreen webkitallowfullscreen mozallowfullscreen></iframe></div></div>"
            ],
            "text/plain": [
              "<folium.folium.Map at 0x7fb0e7d097f0>"
            ]
          },
          "metadata": {
            "tags": []
          },
          "execution_count": 105
        }
      ]
    },
    {
      "cell_type": "markdown",
      "metadata": {
        "id": "OUF2n6uILdje",
        "colab_type": "text"
      },
      "source": [
        "Mapa de Calor de Onde teve Casos Suspeitos no RN"
      ]
    },
    {
      "cell_type": "code",
      "metadata": {
        "id": "_uBmNzL5Lc7J",
        "colab_type": "code",
        "colab": {
          "base_uri": "https://localhost:8080/",
          "height": 787
        },
        "outputId": "e0db7421-a266-4c2e-bef8-2b1a130bfa3a"
      },
      "source": [
        "map.add_child(plugins.HeatMap(coordenate))\n",
        "map"
      ],
      "execution_count": 108,
      "outputs": [
        {
          "output_type": "execute_result",
          "data": {
            "text/html": [
              "<div style=\"width:100%;\"><div style=\"position:relative;width:100%;height:0;padding-bottom:60%;\"><iframe src=\"about:blank\" style=\"position:absolute;width:100%;height:100%;left:0;top:0;border:none !important;\" data-html=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 onload=\"this.contentDocument.open();this.contentDocument.write(atob(this.getAttribute('data-html')));this.contentDocument.close();\" allowfullscreen webkitallowfullscreen mozallowfullscreen></iframe></div></div>"
            ],
            "text/plain": [
              "<folium.folium.Map at 0x7fb0e7d097f0>"
            ]
          },
          "metadata": {
            "tags": []
          },
          "execution_count": 108
        }
      ]
    },
    {
      "cell_type": "markdown",
      "metadata": {
        "id": "CDfYd357RJmm",
        "colab_type": "text"
      },
      "source": [
        "Salvando mapa"
      ]
    },
    {
      "cell_type": "code",
      "metadata": {
        "id": "3WwOOTTuRFgv",
        "colab_type": "code",
        "colab": {}
      },
      "source": [
        "map.save(\"map-covid19-rn.html\")"
      ],
      "execution_count": 0,
      "outputs": []
    },
    {
      "cell_type": "markdown",
      "metadata": {
        "id": "7-M5DfIhl09Q",
        "colab_type": "text"
      },
      "source": [
        "###Previsão de casos, mortes e suspeitas"
      ]
    },
    {
      "cell_type": "code",
      "metadata": {
        "id": "vPgB6w8kZs9n",
        "colab_type": "code",
        "outputId": "d3fe1bc9-531e-47e3-f872-39fe2be5ba02",
        "colab": {
          "base_uri": "https://localhost:8080/",
          "height": 77
        }
      },
      "source": [
        "data_Brazil.head(1)"
      ],
      "execution_count": 0,
      "outputs": [
        {
          "output_type": "execute_result",
          "data": {
            "text/html": [
              "<div>\n",
              "<style scoped>\n",
              "    .dataframe tbody tr th:only-of-type {\n",
              "        vertical-align: middle;\n",
              "    }\n",
              "\n",
              "    .dataframe tbody tr th {\n",
              "        vertical-align: top;\n",
              "    }\n",
              "\n",
              "    .dataframe thead th {\n",
              "        text-align: right;\n",
              "    }\n",
              "</style>\n",
              "<table border=\"1\" class=\"dataframe\">\n",
              "  <thead>\n",
              "    <tr style=\"text-align: right;\">\n",
              "      <th></th>\n",
              "      <th>date</th>\n",
              "      <th>suspects</th>\n",
              "      <th>refuses</th>\n",
              "      <th>cases</th>\n",
              "      <th>suspeitas_acumuladas</th>\n",
              "      <th>casos_acumulados</th>\n",
              "      <th>negados_acumulados</th>\n",
              "      <th>index</th>\n",
              "    </tr>\n",
              "  </thead>\n",
              "  <tbody>\n",
              "    <tr>\n",
              "      <th>0</th>\n",
              "      <td>2020-01-30</td>\n",
              "      <td>9</td>\n",
              "      <td>6</td>\n",
              "      <td>0</td>\n",
              "      <td>9</td>\n",
              "      <td>0</td>\n",
              "      <td>6</td>\n",
              "      <td>1</td>\n",
              "    </tr>\n",
              "  </tbody>\n",
              "</table>\n",
              "</div>"
            ],
            "text/plain": [
              "         date  suspects  refuses  ...  casos_acumulados  negados_acumulados  index\n",
              "0  2020-01-30         9        6  ...                 0                   6      1\n",
              "\n",
              "[1 rows x 8 columns]"
            ]
          },
          "metadata": {
            "tags": []
          },
          "execution_count": 21
        }
      ]
    },
    {
      "cell_type": "code",
      "metadata": {
        "id": "_DTzcwWZZ3Il",
        "colab_type": "code",
        "outputId": "2a213a49-b52c-44a9-e8f0-84ce9b16bba1",
        "colab": {
          "base_uri": "https://localhost:8080/",
          "height": 77
        }
      },
      "source": [
        "data_Estados_Brazil.head(1)"
      ],
      "execution_count": 0,
      "outputs": [
        {
          "output_type": "execute_result",
          "data": {
            "text/html": [
              "<div>\n",
              "<style scoped>\n",
              "    .dataframe tbody tr th:only-of-type {\n",
              "        vertical-align: middle;\n",
              "    }\n",
              "\n",
              "    .dataframe tbody tr th {\n",
              "        vertical-align: top;\n",
              "    }\n",
              "\n",
              "    .dataframe thead th {\n",
              "        text-align: right;\n",
              "    }\n",
              "</style>\n",
              "<table border=\"1\" class=\"dataframe\">\n",
              "  <thead>\n",
              "    <tr style=\"text-align: right;\">\n",
              "      <th></th>\n",
              "      <th>date</th>\n",
              "      <th>state</th>\n",
              "      <th>suspects</th>\n",
              "      <th>refuses</th>\n",
              "      <th>cases</th>\n",
              "    </tr>\n",
              "  </thead>\n",
              "  <tbody>\n",
              "    <tr>\n",
              "      <th>439</th>\n",
              "      <td>2020-03-10</td>\n",
              "      <td>Acre</td>\n",
              "      <td>3</td>\n",
              "      <td>0</td>\n",
              "      <td>0</td>\n",
              "    </tr>\n",
              "  </tbody>\n",
              "</table>\n",
              "</div>"
            ],
            "text/plain": [
              "           date state  suspects  refuses  cases\n",
              "439  2020-03-10  Acre         3        0      0"
            ]
          },
          "metadata": {
            "tags": []
          },
          "execution_count": 22
        }
      ]
    },
    {
      "cell_type": "code",
      "metadata": {
        "id": "8t16ua6tZ6Pa",
        "colab_type": "code",
        "outputId": "9f06b4d4-0a2a-4ca0-c294-46ae72c13dd2",
        "colab": {
          "base_uri": "https://localhost:8080/",
          "height": 77
        }
      },
      "source": [
        "data_Ita.tail(1)"
      ],
      "execution_count": 0,
      "outputs": [
        {
          "output_type": "execute_result",
          "data": {
            "text/html": [
              "<div>\n",
              "<style scoped>\n",
              "    .dataframe tbody tr th:only-of-type {\n",
              "        vertical-align: middle;\n",
              "    }\n",
              "\n",
              "    .dataframe tbody tr th {\n",
              "        vertical-align: top;\n",
              "    }\n",
              "\n",
              "    .dataframe thead th {\n",
              "        text-align: right;\n",
              "    }\n",
              "</style>\n",
              "<table border=\"1\" class=\"dataframe\">\n",
              "  <thead>\n",
              "    <tr style=\"text-align: right;\">\n",
              "      <th></th>\n",
              "      <th>date</th>\n",
              "      <th>new_cases</th>\n",
              "      <th>new_deaths</th>\n",
              "      <th>total_cases</th>\n",
              "      <th>total_deaths</th>\n",
              "      <th>novas_mortes_acumuladas</th>\n",
              "      <th>novos_casos_acumulados</th>\n",
              "      <th>casos_totais_acumulados</th>\n",
              "      <th>mortes_totais_acumuladas</th>\n",
              "      <th>index</th>\n",
              "    </tr>\n",
              "  </thead>\n",
              "  <tbody>\n",
              "    <tr>\n",
              "      <th>45</th>\n",
              "      <td>2020-03-16</td>\n",
              "      <td>3590.0</td>\n",
              "      <td>368.0</td>\n",
              "      <td>24747.0</td>\n",
              "      <td>1809.0</td>\n",
              "      <td>1807.0</td>\n",
              "      <td>24745.0</td>\n",
              "      <td>145413.0</td>\n",
              "      <td>8774.0</td>\n",
              "      <td>46</td>\n",
              "    </tr>\n",
              "  </tbody>\n",
              "</table>\n",
              "</div>"
            ],
            "text/plain": [
              "          date  new_cases  ...  mortes_totais_acumuladas  index\n",
              "45  2020-03-16     3590.0  ...                    8774.0     46\n",
              "\n",
              "[1 rows x 10 columns]"
            ]
          },
          "metadata": {
            "tags": []
          },
          "execution_count": 29
        }
      ]
    },
    {
      "cell_type": "markdown",
      "metadata": {
        "id": "nAnBVbkaaTNc",
        "colab_type": "text"
      },
      "source": [
        "####LARS Lasso"
      ]
    },
    {
      "cell_type": "code",
      "metadata": {
        "id": "tIAttyuFbUN5",
        "colab_type": "code",
        "colab": {}
      },
      "source": [
        "from sklearn import linear_model\n",
        "reg = linear_model.LassoLars(alpha=.1)"
      ],
      "execution_count": 0,
      "outputs": []
    },
    {
      "cell_type": "code",
      "metadata": {
        "id": "aGGrOuqYbf6R",
        "colab_type": "code",
        "outputId": "af284f88-d2a8-4e83-86b3-40adfdf9af16",
        "colab": {
          "base_uri": "https://localhost:8080/",
          "height": 70
        }
      },
      "source": [
        "reg.fit([data_Ita[\"index\"]],[data_Ita[\"new_cases\"]])"
      ],
      "execution_count": 0,
      "outputs": [
        {
          "output_type": "execute_result",
          "data": {
            "text/plain": [
              "LassoLars(alpha=0.1, copy_X=True, eps=2.220446049250313e-16, fit_intercept=True,\n",
              "          fit_path=True, max_iter=500, normalize=True, positive=False,\n",
              "          precompute='auto', verbose=False)"
            ]
          },
          "metadata": {
            "tags": []
          },
          "execution_count": 28
        }
      ]
    },
    {
      "cell_type": "code",
      "metadata": {
        "id": "PV6UxTbOb4pj",
        "colab_type": "code",
        "colab": {}
      },
      "source": [
        "reg.predict(np.array([[47]]))"
      ],
      "execution_count": 0,
      "outputs": []
    },
    {
      "cell_type": "markdown",
      "metadata": {
        "id": "3mrE38SnJjbs",
        "colab_type": "text"
      },
      "source": [
        "####Lib da Regressão Linear"
      ]
    },
    {
      "cell_type": "code",
      "metadata": {
        "id": "azEvdFrdILPB",
        "colab_type": "code",
        "colab": {}
      },
      "source": [
        "from sklearn.linear_model import LinearRegression"
      ],
      "execution_count": 0,
      "outputs": []
    },
    {
      "cell_type": "code",
      "metadata": {
        "id": "4OEq9AiXJrE8",
        "colab_type": "code",
        "colab": {}
      },
      "source": [
        "reg = LinearRegression()"
      ],
      "execution_count": 0,
      "outputs": []
    },
    {
      "cell_type": "code",
      "metadata": {
        "id": "XpAL0zD6K22L",
        "colab_type": "code",
        "outputId": "84ed135b-5ce3-49d1-fca5-5956200712b0",
        "colab": {
          "base_uri": "https://localhost:8080/",
          "height": 34
        }
      },
      "source": [
        "reg.fit(data_brazil[\"index\"].values.reshape(-1,1),data_brazil[\"cases\"])"
      ],
      "execution_count": 0,
      "outputs": [
        {
          "output_type": "execute_result",
          "data": {
            "text/plain": [
              "LinearRegression(copy_X=True, fit_intercept=True, n_jobs=None, normalize=False)"
            ]
          },
          "metadata": {
            "tags": []
          },
          "execution_count": 29
        }
      ]
    },
    {
      "cell_type": "code",
      "metadata": {
        "id": "30wPIwObLfC2",
        "colab_type": "code",
        "outputId": "5e21b558-ade0-4a2c-921b-9a998eb05836",
        "colab": {
          "base_uri": "https://localhost:8080/",
          "height": 34
        }
      },
      "source": [
        "reg.score(data_brazil[\"index\"].values.reshape(-1,1),data_brazil[\"cases\"])"
      ],
      "execution_count": 0,
      "outputs": [
        {
          "output_type": "execute_result",
          "data": {
            "text/plain": [
              "0.350870474573837"
            ]
          },
          "metadata": {
            "tags": []
          },
          "execution_count": 31
        }
      ]
    },
    {
      "cell_type": "code",
      "metadata": {
        "id": "Myf1KdMILy3p",
        "colab_type": "code",
        "outputId": "85b870e4-c3b4-4a00-bcd5-c139745a69e2",
        "colab": {
          "base_uri": "https://localhost:8080/",
          "height": 34
        }
      },
      "source": [
        "reg.predict(np.array([[47]]).reshape(-1,1))"
      ],
      "execution_count": 0,
      "outputs": [
        {
          "output_type": "execute_result",
          "data": {
            "text/plain": [
              "array([71.32173913])"
            ]
          },
          "metadata": {
            "tags": []
          },
          "execution_count": 30
        }
      ]
    }
  ]
}